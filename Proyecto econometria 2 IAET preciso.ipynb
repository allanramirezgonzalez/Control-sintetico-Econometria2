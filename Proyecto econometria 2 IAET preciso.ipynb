{
 "cells": [
  {
   "cell_type": "code",
   "execution_count": 30,
   "metadata": {},
   "outputs": [],
   "source": [
    "import pandas as pd\n",
    "import numpy as np\n",
    "import SparseSC\n",
    "from datetime import datetime\n",
    "import plotly.express as px\n",
    "import plotly.graph_objects as pgo\n",
    "pd.set_option(\"display.max_columns\", None)\n",
    "\n",
    "# Omiting WARNINGS\n",
    "import warnings\n",
    "warnings.filterwarnings('ignore')"
   ]
  },
  {
   "cell_type": "code",
   "execution_count": 31,
   "metadata": {},
   "outputs": [
    {
     "data": {
      "text/html": [
       "<div>\n",
       "<style scoped>\n",
       "    .dataframe tbody tr th:only-of-type {\n",
       "        vertical-align: middle;\n",
       "    }\n",
       "\n",
       "    .dataframe tbody tr th {\n",
       "        vertical-align: top;\n",
       "    }\n",
       "\n",
       "    .dataframe thead th {\n",
       "        text-align: right;\n",
       "    }\n",
       "</style>\n",
       "<table border=\"1\" class=\"dataframe\">\n",
       "  <thead>\n",
       "    <tr style=\"text-align: right;\">\n",
       "      <th></th>\n",
       "      <th>Estado</th>\n",
       "      <th>Año</th>\n",
       "      <th>Indice</th>\n",
       "    </tr>\n",
       "  </thead>\n",
       "  <tbody>\n",
       "    <tr>\n",
       "      <th>0</th>\n",
       "      <td>Aguascalientes</td>\n",
       "      <td>1980.1</td>\n",
       "      <td>22.140889</td>\n",
       "    </tr>\n",
       "    <tr>\n",
       "      <th>1</th>\n",
       "      <td>Aguascalientes</td>\n",
       "      <td>1980.2</td>\n",
       "      <td>22.094112</td>\n",
       "    </tr>\n",
       "    <tr>\n",
       "      <th>2</th>\n",
       "      <td>Aguascalientes</td>\n",
       "      <td>1980.3</td>\n",
       "      <td>22.630541</td>\n",
       "    </tr>\n",
       "    <tr>\n",
       "      <th>3</th>\n",
       "      <td>Aguascalientes</td>\n",
       "      <td>1980.4</td>\n",
       "      <td>23.734493</td>\n",
       "    </tr>\n",
       "    <tr>\n",
       "      <th>4</th>\n",
       "      <td>Aguascalientes</td>\n",
       "      <td>1981.1</td>\n",
       "      <td>24.496731</td>\n",
       "    </tr>\n",
       "  </tbody>\n",
       "</table>\n",
       "</div>"
      ],
      "text/plain": [
       "           Estado     Año     Indice\n",
       "0  Aguascalientes  1980.1  22.140889\n",
       "1  Aguascalientes  1980.2  22.094112\n",
       "2  Aguascalientes  1980.3  22.630541\n",
       "3  Aguascalientes  1980.4  23.734493\n",
       "4  Aguascalientes  1981.1  24.496731"
      ]
     },
     "execution_count": 31,
     "metadata": {},
     "output_type": "execute_result"
    }
   ],
   "source": [
    "    # Read data\n",
    "fuente= pd.read_excel(\"C:/Users/zonad/Documents/estadistica/Econometria 2/AET.xlsx\")\n",
    "\n",
    "fuente.head()"
   ]
  },
  {
   "cell_type": "code",
   "execution_count": 32,
   "metadata": {},
   "outputs": [],
   "source": [
    "#Estadosafectados = (\"Ciudad de México\",\"Chiapas\",\"Guerrero\", \"México\",\"Morelos\",\"Oaxaca\",\"Puebla\",\"Tlaxcala\")\n",
    "#Estadosparecidos =(\"Querétaro\", \"Nuevo León\", \"Coahuila\", \"Baja California Sur\", \"Jalisco\", \"Chihuahua\", \"Aguascalientes\",\"Baja California\",\"Sonora\",\"Sinaloa\",\"Guanajuato\",\"Tamaulipas\")\n",
    "\n",
    "#Nueva base de datos con solo Estados parecidos a la CDMX\n",
    "# Leer la base de datos original desde un archivo Excel\n",
    "#fuente = pd.read_excel(\"C:/Users/zonad/Documents/estadistica/Econometria 2/AET.xlsx\")\n",
    "\n",
    "# Filtrar solo los datos de interés (Ciudad de México y estados especificados)\n",
    "#estados_interes = [\n",
    " #   'Ciudad de México', 'Querétaro', 'Nuevo León', 'Coahuila',\n",
    "  #  'Baja California Sur', 'Jalisco', 'Chihuahua', 'Aguascalientes',\n",
    "   # 'Baja California', 'Sonora', 'Sinaloa', 'Guanajuato', 'Tamaulipas'\n",
    "#]\n",
    "\n",
    "#fuente_filtrada = fuente[fuente['Estado'].isin(estados_interes)]\n",
    "\n",
    "# Mostrar los primeros registros de la base de datos filtrada para verificar\n",
    "#print(fuente_filtrada.head())\n",
    "\n",
    "# Guardar la base de datos filtrada en un nuevo archivo Excel (opcional)\n",
    "#fuente_filtrada.to_excel(\"C:/Users/zonad/Documents/estadistica/Econometria 2/AET_filtrado.xlsx\", index=False)"
   ]
  },
  {
   "cell_type": "code",
   "execution_count": 33,
   "metadata": {},
   "outputs": [
    {
     "data": {
      "text/plain": [
       "<bound method NDFrame.head of               Estado     Año      Indice\n",
       "0     Aguascalientes  1980.1   22.140889\n",
       "1     Aguascalientes  1980.2   22.094112\n",
       "2     Aguascalientes  1980.3   22.630541\n",
       "3     Aguascalientes  1980.4   23.734493\n",
       "4     Aguascalientes  1981.1   24.496731\n",
       "...              ...     ...         ...\n",
       "2283      Tamaulipas  2022.4  100.855572\n",
       "2284      Tamaulipas  2023.1  100.000315\n",
       "2285      Tamaulipas  2023.2  100.282690\n",
       "2286      Tamaulipas  2023.3  102.685662\n",
       "2287      Tamaulipas  2023.4  100.417648\n",
       "\n",
       "[2288 rows x 3 columns]>"
      ]
     },
     "execution_count": 33,
     "metadata": {},
     "output_type": "execute_result"
    }
   ],
   "source": [
    "fuente= pd.read_excel(\"C:/Users/zonad/Documents/estadistica/Econometria 2/AET_filtrado.xlsx\")\n",
    "fuente.head"
   ]
  },
  {
   "cell_type": "code",
   "execution_count": 34,
   "metadata": {},
   "outputs": [
    {
     "data": {
      "text/html": [
       "<div>\n",
       "<style scoped>\n",
       "    .dataframe tbody tr th:only-of-type {\n",
       "        vertical-align: middle;\n",
       "    }\n",
       "\n",
       "    .dataframe tbody tr th {\n",
       "        vertical-align: top;\n",
       "    }\n",
       "\n",
       "    .dataframe thead th {\n",
       "        text-align: right;\n",
       "    }\n",
       "</style>\n",
       "<table border=\"1\" class=\"dataframe\">\n",
       "  <thead>\n",
       "    <tr style=\"text-align: right;\">\n",
       "      <th>Año</th>\n",
       "      <th>1980.1</th>\n",
       "      <th>1980.2</th>\n",
       "      <th>1980.3</th>\n",
       "      <th>1980.4</th>\n",
       "      <th>1981.1</th>\n",
       "      <th>1981.2</th>\n",
       "      <th>1981.3</th>\n",
       "      <th>1981.4</th>\n",
       "      <th>1982.1</th>\n",
       "      <th>1982.2</th>\n",
       "      <th>1982.3</th>\n",
       "      <th>1982.4</th>\n",
       "      <th>1983.1</th>\n",
       "      <th>1983.2</th>\n",
       "      <th>1983.3</th>\n",
       "      <th>1983.4</th>\n",
       "      <th>1984.1</th>\n",
       "      <th>1984.2</th>\n",
       "      <th>1984.3</th>\n",
       "      <th>1984.4</th>\n",
       "      <th>1985.1</th>\n",
       "      <th>1985.2</th>\n",
       "      <th>1985.3</th>\n",
       "      <th>1985.4</th>\n",
       "      <th>1986.1</th>\n",
       "      <th>1986.2</th>\n",
       "      <th>1986.3</th>\n",
       "      <th>1986.4</th>\n",
       "      <th>1987.1</th>\n",
       "      <th>1987.2</th>\n",
       "      <th>1987.3</th>\n",
       "      <th>1987.4</th>\n",
       "      <th>1988.1</th>\n",
       "      <th>1988.2</th>\n",
       "      <th>1988.3</th>\n",
       "      <th>1988.4</th>\n",
       "      <th>1989.1</th>\n",
       "      <th>1989.2</th>\n",
       "      <th>1989.3</th>\n",
       "      <th>1989.4</th>\n",
       "      <th>1990.1</th>\n",
       "      <th>1990.2</th>\n",
       "      <th>1990.3</th>\n",
       "      <th>1990.4</th>\n",
       "      <th>1991.1</th>\n",
       "      <th>1991.2</th>\n",
       "      <th>1991.3</th>\n",
       "      <th>1991.4</th>\n",
       "      <th>1992.1</th>\n",
       "      <th>1992.2</th>\n",
       "      <th>1992.3</th>\n",
       "      <th>1992.4</th>\n",
       "      <th>1993.1</th>\n",
       "      <th>1993.2</th>\n",
       "      <th>1993.3</th>\n",
       "      <th>1993.4</th>\n",
       "      <th>1994.1</th>\n",
       "      <th>1994.2</th>\n",
       "      <th>1994.3</th>\n",
       "      <th>1994.4</th>\n",
       "      <th>1995.1</th>\n",
       "      <th>1995.2</th>\n",
       "      <th>1995.3</th>\n",
       "      <th>1995.4</th>\n",
       "      <th>1996.1</th>\n",
       "      <th>1996.2</th>\n",
       "      <th>1996.3</th>\n",
       "      <th>1996.4</th>\n",
       "      <th>1997.1</th>\n",
       "      <th>1997.2</th>\n",
       "      <th>1997.3</th>\n",
       "      <th>1997.4</th>\n",
       "      <th>1998.1</th>\n",
       "      <th>1998.2</th>\n",
       "      <th>1998.3</th>\n",
       "      <th>1998.4</th>\n",
       "      <th>1999.1</th>\n",
       "      <th>1999.2</th>\n",
       "      <th>1999.3</th>\n",
       "      <th>1999.4</th>\n",
       "      <th>2000.1</th>\n",
       "      <th>2000.2</th>\n",
       "      <th>2000.3</th>\n",
       "      <th>2000.4</th>\n",
       "      <th>2001.1</th>\n",
       "      <th>2001.2</th>\n",
       "      <th>2001.3</th>\n",
       "      <th>2001.4</th>\n",
       "      <th>2002.1</th>\n",
       "      <th>2002.2</th>\n",
       "      <th>2002.3</th>\n",
       "      <th>2002.4</th>\n",
       "      <th>2003.1</th>\n",
       "      <th>2003.2</th>\n",
       "      <th>2003.3</th>\n",
       "      <th>2003.4</th>\n",
       "      <th>2004.1</th>\n",
       "      <th>2004.2</th>\n",
       "      <th>2004.3</th>\n",
       "      <th>2004.4</th>\n",
       "      <th>2005.1</th>\n",
       "      <th>2005.2</th>\n",
       "      <th>2005.3</th>\n",
       "      <th>2005.4</th>\n",
       "      <th>2006.1</th>\n",
       "      <th>2006.2</th>\n",
       "      <th>2006.3</th>\n",
       "      <th>2006.4</th>\n",
       "      <th>2007.1</th>\n",
       "      <th>2007.2</th>\n",
       "      <th>2007.3</th>\n",
       "      <th>2007.4</th>\n",
       "      <th>2008.1</th>\n",
       "      <th>2008.2</th>\n",
       "      <th>2008.3</th>\n",
       "      <th>2008.4</th>\n",
       "      <th>2009.1</th>\n",
       "      <th>2009.2</th>\n",
       "      <th>2009.3</th>\n",
       "      <th>2009.4</th>\n",
       "      <th>2010.1</th>\n",
       "      <th>2010.2</th>\n",
       "      <th>2010.3</th>\n",
       "      <th>2010.4</th>\n",
       "      <th>2011.1</th>\n",
       "      <th>2011.2</th>\n",
       "      <th>2011.3</th>\n",
       "      <th>2011.4</th>\n",
       "      <th>2012.1</th>\n",
       "      <th>2012.2</th>\n",
       "      <th>2012.3</th>\n",
       "      <th>2012.4</th>\n",
       "      <th>2013.1</th>\n",
       "      <th>2013.2</th>\n",
       "      <th>2013.3</th>\n",
       "      <th>2013.4</th>\n",
       "      <th>2014.1</th>\n",
       "      <th>2014.2</th>\n",
       "      <th>2014.3</th>\n",
       "      <th>2014.4</th>\n",
       "      <th>2015.1</th>\n",
       "      <th>2015.2</th>\n",
       "      <th>2015.3</th>\n",
       "      <th>2015.4</th>\n",
       "      <th>2016.1</th>\n",
       "      <th>2016.2</th>\n",
       "      <th>2016.3</th>\n",
       "      <th>2016.4</th>\n",
       "      <th>2017.1</th>\n",
       "      <th>2017.2</th>\n",
       "      <th>2017.3</th>\n",
       "      <th>2017.4</th>\n",
       "      <th>2018.1</th>\n",
       "      <th>2018.2</th>\n",
       "      <th>2018.3</th>\n",
       "      <th>2018.4</th>\n",
       "      <th>2019.1</th>\n",
       "      <th>2019.2</th>\n",
       "      <th>2019.3</th>\n",
       "      <th>2019.4</th>\n",
       "      <th>2020.1</th>\n",
       "      <th>2020.2</th>\n",
       "      <th>2020.3</th>\n",
       "      <th>2020.4</th>\n",
       "      <th>2021.1</th>\n",
       "      <th>2021.2</th>\n",
       "      <th>2021.3</th>\n",
       "      <th>2021.4</th>\n",
       "      <th>2022.1</th>\n",
       "      <th>2022.2</th>\n",
       "      <th>2022.3</th>\n",
       "      <th>2022.4</th>\n",
       "      <th>2023.1</th>\n",
       "      <th>2023.2</th>\n",
       "      <th>2023.3</th>\n",
       "      <th>2023.4</th>\n",
       "    </tr>\n",
       "    <tr>\n",
       "      <th>Estado</th>\n",
       "      <th></th>\n",
       "      <th></th>\n",
       "      <th></th>\n",
       "      <th></th>\n",
       "      <th></th>\n",
       "      <th></th>\n",
       "      <th></th>\n",
       "      <th></th>\n",
       "      <th></th>\n",
       "      <th></th>\n",
       "      <th></th>\n",
       "      <th></th>\n",
       "      <th></th>\n",
       "      <th></th>\n",
       "      <th></th>\n",
       "      <th></th>\n",
       "      <th></th>\n",
       "      <th></th>\n",
       "      <th></th>\n",
       "      <th></th>\n",
       "      <th></th>\n",
       "      <th></th>\n",
       "      <th></th>\n",
       "      <th></th>\n",
       "      <th></th>\n",
       "      <th></th>\n",
       "      <th></th>\n",
       "      <th></th>\n",
       "      <th></th>\n",
       "      <th></th>\n",
       "      <th></th>\n",
       "      <th></th>\n",
       "      <th></th>\n",
       "      <th></th>\n",
       "      <th></th>\n",
       "      <th></th>\n",
       "      <th></th>\n",
       "      <th></th>\n",
       "      <th></th>\n",
       "      <th></th>\n",
       "      <th></th>\n",
       "      <th></th>\n",
       "      <th></th>\n",
       "      <th></th>\n",
       "      <th></th>\n",
       "      <th></th>\n",
       "      <th></th>\n",
       "      <th></th>\n",
       "      <th></th>\n",
       "      <th></th>\n",
       "      <th></th>\n",
       "      <th></th>\n",
       "      <th></th>\n",
       "      <th></th>\n",
       "      <th></th>\n",
       "      <th></th>\n",
       "      <th></th>\n",
       "      <th></th>\n",
       "      <th></th>\n",
       "      <th></th>\n",
       "      <th></th>\n",
       "      <th></th>\n",
       "      <th></th>\n",
       "      <th></th>\n",
       "      <th></th>\n",
       "      <th></th>\n",
       "      <th></th>\n",
       "      <th></th>\n",
       "      <th></th>\n",
       "      <th></th>\n",
       "      <th></th>\n",
       "      <th></th>\n",
       "      <th></th>\n",
       "      <th></th>\n",
       "      <th></th>\n",
       "      <th></th>\n",
       "      <th></th>\n",
       "      <th></th>\n",
       "      <th></th>\n",
       "      <th></th>\n",
       "      <th></th>\n",
       "      <th></th>\n",
       "      <th></th>\n",
       "      <th></th>\n",
       "      <th></th>\n",
       "      <th></th>\n",
       "      <th></th>\n",
       "      <th></th>\n",
       "      <th></th>\n",
       "      <th></th>\n",
       "      <th></th>\n",
       "      <th></th>\n",
       "      <th></th>\n",
       "      <th></th>\n",
       "      <th></th>\n",
       "      <th></th>\n",
       "      <th></th>\n",
       "      <th></th>\n",
       "      <th></th>\n",
       "      <th></th>\n",
       "      <th></th>\n",
       "      <th></th>\n",
       "      <th></th>\n",
       "      <th></th>\n",
       "      <th></th>\n",
       "      <th></th>\n",
       "      <th></th>\n",
       "      <th></th>\n",
       "      <th></th>\n",
       "      <th></th>\n",
       "      <th></th>\n",
       "      <th></th>\n",
       "      <th></th>\n",
       "      <th></th>\n",
       "      <th></th>\n",
       "      <th></th>\n",
       "      <th></th>\n",
       "      <th></th>\n",
       "      <th></th>\n",
       "      <th></th>\n",
       "      <th></th>\n",
       "      <th></th>\n",
       "      <th></th>\n",
       "      <th></th>\n",
       "      <th></th>\n",
       "      <th></th>\n",
       "      <th></th>\n",
       "      <th></th>\n",
       "      <th></th>\n",
       "      <th></th>\n",
       "      <th></th>\n",
       "      <th></th>\n",
       "      <th></th>\n",
       "      <th></th>\n",
       "      <th></th>\n",
       "      <th></th>\n",
       "      <th></th>\n",
       "      <th></th>\n",
       "      <th></th>\n",
       "      <th></th>\n",
       "      <th></th>\n",
       "      <th></th>\n",
       "      <th></th>\n",
       "      <th></th>\n",
       "      <th></th>\n",
       "      <th></th>\n",
       "      <th></th>\n",
       "      <th></th>\n",
       "      <th></th>\n",
       "      <th></th>\n",
       "      <th></th>\n",
       "      <th></th>\n",
       "      <th></th>\n",
       "      <th></th>\n",
       "      <th></th>\n",
       "      <th></th>\n",
       "      <th></th>\n",
       "      <th></th>\n",
       "      <th></th>\n",
       "      <th></th>\n",
       "      <th></th>\n",
       "      <th></th>\n",
       "      <th></th>\n",
       "      <th></th>\n",
       "      <th></th>\n",
       "      <th></th>\n",
       "      <th></th>\n",
       "      <th></th>\n",
       "      <th></th>\n",
       "      <th></th>\n",
       "      <th></th>\n",
       "      <th></th>\n",
       "      <th></th>\n",
       "      <th></th>\n",
       "      <th></th>\n",
       "      <th></th>\n",
       "    </tr>\n",
       "  </thead>\n",
       "  <tbody>\n",
       "    <tr>\n",
       "      <th>Aguascalientes</th>\n",
       "      <td>22.140889</td>\n",
       "      <td>22.094112</td>\n",
       "      <td>22.630541</td>\n",
       "      <td>23.734493</td>\n",
       "      <td>24.496731</td>\n",
       "      <td>25.164577</td>\n",
       "      <td>25.268967</td>\n",
       "      <td>25.811614</td>\n",
       "      <td>25.576253</td>\n",
       "      <td>25.486796</td>\n",
       "      <td>25.279940</td>\n",
       "      <td>24.785035</td>\n",
       "      <td>24.145627</td>\n",
       "      <td>23.749828</td>\n",
       "      <td>23.708492</td>\n",
       "      <td>24.253289</td>\n",
       "      <td>25.130828</td>\n",
       "      <td>24.678878</td>\n",
       "      <td>25.104328</td>\n",
       "      <td>25.403030</td>\n",
       "      <td>25.987284</td>\n",
       "      <td>25.735674</td>\n",
       "      <td>25.618726</td>\n",
       "      <td>26.032728</td>\n",
       "      <td>24.969124</td>\n",
       "      <td>25.569033</td>\n",
       "      <td>24.142906</td>\n",
       "      <td>24.584874</td>\n",
       "      <td>24.764351</td>\n",
       "      <td>25.889367</td>\n",
       "      <td>25.438095</td>\n",
       "      <td>26.551420</td>\n",
       "      <td>26.039073</td>\n",
       "      <td>26.519217</td>\n",
       "      <td>25.596699</td>\n",
       "      <td>27.046591</td>\n",
       "      <td>26.998881</td>\n",
       "      <td>28.205974</td>\n",
       "      <td>27.400155</td>\n",
       "      <td>28.167223</td>\n",
       "      <td>28.883008</td>\n",
       "      <td>29.810978</td>\n",
       "      <td>29.472401</td>\n",
       "      <td>30.918360</td>\n",
       "      <td>30.353908</td>\n",
       "      <td>32.135316</td>\n",
       "      <td>30.876147</td>\n",
       "      <td>32.815828</td>\n",
       "      <td>32.677661</td>\n",
       "      <td>33.492096</td>\n",
       "      <td>33.260562</td>\n",
       "      <td>34.189758</td>\n",
       "      <td>34.244733</td>\n",
       "      <td>34.262467</td>\n",
       "      <td>35.264292</td>\n",
       "      <td>35.763181</td>\n",
       "      <td>35.619815</td>\n",
       "      <td>36.688672</td>\n",
       "      <td>37.214245</td>\n",
       "      <td>38.237253</td>\n",
       "      <td>35.952849</td>\n",
       "      <td>33.832001</td>\n",
       "      <td>35.263989</td>\n",
       "      <td>36.484463</td>\n",
       "      <td>36.751227</td>\n",
       "      <td>36.771234</td>\n",
       "      <td>38.056806</td>\n",
       "      <td>39.702749</td>\n",
       "      <td>38.405653</td>\n",
       "      <td>40.080031</td>\n",
       "      <td>41.189566</td>\n",
       "      <td>42.870425</td>\n",
       "      <td>42.665527</td>\n",
       "      <td>42.864423</td>\n",
       "      <td>44.034095</td>\n",
       "      <td>44.378327</td>\n",
       "      <td>43.142534</td>\n",
       "      <td>43.417562</td>\n",
       "      <td>44.926519</td>\n",
       "      <td>45.608807</td>\n",
       "      <td>47.244937</td>\n",
       "      <td>47.548350</td>\n",
       "      <td>49.033632</td>\n",
       "      <td>48.876324</td>\n",
       "      <td>50.305105</td>\n",
       "      <td>50.249804</td>\n",
       "      <td>51.240671</td>\n",
       "      <td>51.014903</td>\n",
       "      <td>51.384509</td>\n",
       "      <td>53.359893</td>\n",
       "      <td>53.639613</td>\n",
       "      <td>53.393760</td>\n",
       "      <td>51.472850</td>\n",
       "      <td>52.237600</td>\n",
       "      <td>54.957665</td>\n",
       "      <td>54.841154</td>\n",
       "      <td>52.752482</td>\n",
       "      <td>54.864149</td>\n",
       "      <td>54.920943</td>\n",
       "      <td>57.843232</td>\n",
       "      <td>54.296928</td>\n",
       "      <td>55.550817</td>\n",
       "      <td>55.425715</td>\n",
       "      <td>58.764404</td>\n",
       "      <td>57.058462</td>\n",
       "      <td>58.830951</td>\n",
       "      <td>61.072613</td>\n",
       "      <td>64.326676</td>\n",
       "      <td>64.983631</td>\n",
       "      <td>64.664054</td>\n",
       "      <td>68.169703</td>\n",
       "      <td>66.324784</td>\n",
       "      <td>63.313819</td>\n",
       "      <td>66.852954</td>\n",
       "      <td>67.609928</td>\n",
       "      <td>65.418540</td>\n",
       "      <td>57.129934</td>\n",
       "      <td>58.717678</td>\n",
       "      <td>63.228128</td>\n",
       "      <td>65.717479</td>\n",
       "      <td>63.298688</td>\n",
       "      <td>65.265196</td>\n",
       "      <td>69.287368</td>\n",
       "      <td>69.116231</td>\n",
       "      <td>66.995287</td>\n",
       "      <td>68.866869</td>\n",
       "      <td>70.761283</td>\n",
       "      <td>73.333024</td>\n",
       "      <td>72.442719</td>\n",
       "      <td>73.286305</td>\n",
       "      <td>73.295528</td>\n",
       "      <td>76.102112</td>\n",
       "      <td>75.285240</td>\n",
       "      <td>75.810894</td>\n",
       "      <td>76.412347</td>\n",
       "      <td>78.805299</td>\n",
       "      <td>82.177533</td>\n",
       "      <td>82.936912</td>\n",
       "      <td>83.943135</td>\n",
       "      <td>88.301107</td>\n",
       "      <td>85.453126</td>\n",
       "      <td>89.692555</td>\n",
       "      <td>90.068801</td>\n",
       "      <td>92.387510</td>\n",
       "      <td>89.392744</td>\n",
       "      <td>93.650115</td>\n",
       "      <td>92.717483</td>\n",
       "      <td>97.955046</td>\n",
       "      <td>96.175962</td>\n",
       "      <td>95.507832</td>\n",
       "      <td>95.996664</td>\n",
       "      <td>95.111130</td>\n",
       "      <td>97.668156</td>\n",
       "      <td>98.625646</td>\n",
       "      <td>100.460899</td>\n",
       "      <td>103.245299</td>\n",
       "      <td>95.981039</td>\n",
       "      <td>99.657753</td>\n",
       "      <td>100.564466</td>\n",
       "      <td>102.793220</td>\n",
       "      <td>98.675903</td>\n",
       "      <td>73.729093</td>\n",
       "      <td>96.458415</td>\n",
       "      <td>102.882710</td>\n",
       "      <td>98.711959</td>\n",
       "      <td>96.182298</td>\n",
       "      <td>92.021761</td>\n",
       "      <td>95.661748</td>\n",
       "      <td>95.768809</td>\n",
       "      <td>97.330410</td>\n",
       "      <td>97.149796</td>\n",
       "      <td>96.634084</td>\n",
       "      <td>97.854224</td>\n",
       "      <td>101.433713</td>\n",
       "      <td>104.703922</td>\n",
       "      <td>103.131586</td>\n",
       "    </tr>\n",
       "    <tr>\n",
       "      <th>Baja California</th>\n",
       "      <td>41.633133</td>\n",
       "      <td>44.273408</td>\n",
       "      <td>47.742616</td>\n",
       "      <td>48.389524</td>\n",
       "      <td>46.567038</td>\n",
       "      <td>51.401800</td>\n",
       "      <td>54.420836</td>\n",
       "      <td>53.086328</td>\n",
       "      <td>48.667161</td>\n",
       "      <td>51.634275</td>\n",
       "      <td>53.467601</td>\n",
       "      <td>49.479970</td>\n",
       "      <td>43.902751</td>\n",
       "      <td>45.970307</td>\n",
       "      <td>47.882994</td>\n",
       "      <td>47.031766</td>\n",
       "      <td>45.355542</td>\n",
       "      <td>47.593953</td>\n",
       "      <td>50.983896</td>\n",
       "      <td>49.629122</td>\n",
       "      <td>47.155759</td>\n",
       "      <td>49.609985</td>\n",
       "      <td>51.896617</td>\n",
       "      <td>50.377636</td>\n",
       "      <td>43.951994</td>\n",
       "      <td>47.972376</td>\n",
       "      <td>46.418607</td>\n",
       "      <td>44.659306</td>\n",
       "      <td>42.248047</td>\n",
       "      <td>47.733850</td>\n",
       "      <td>49.319319</td>\n",
       "      <td>49.199485</td>\n",
       "      <td>44.478736</td>\n",
       "      <td>48.104170</td>\n",
       "      <td>48.319076</td>\n",
       "      <td>49.170132</td>\n",
       "      <td>45.543183</td>\n",
       "      <td>51.011421</td>\n",
       "      <td>51.772591</td>\n",
       "      <td>50.346531</td>\n",
       "      <td>48.645517</td>\n",
       "      <td>53.130251</td>\n",
       "      <td>55.403989</td>\n",
       "      <td>55.440995</td>\n",
       "      <td>49.915438</td>\n",
       "      <td>56.249726</td>\n",
       "      <td>57.270511</td>\n",
       "      <td>58.315200</td>\n",
       "      <td>53.519227</td>\n",
       "      <td>57.694472</td>\n",
       "      <td>61.638440</td>\n",
       "      <td>59.859573</td>\n",
       "      <td>53.340814</td>\n",
       "      <td>57.299502</td>\n",
       "      <td>61.859252</td>\n",
       "      <td>60.954095</td>\n",
       "      <td>55.961747</td>\n",
       "      <td>61.854174</td>\n",
       "      <td>65.852833</td>\n",
       "      <td>65.323696</td>\n",
       "      <td>53.504370</td>\n",
       "      <td>53.785378</td>\n",
       "      <td>58.502236</td>\n",
       "      <td>58.961830</td>\n",
       "      <td>57.326664</td>\n",
       "      <td>61.660115</td>\n",
       "      <td>66.970886</td>\n",
       "      <td>68.033570</td>\n",
       "      <td>63.214492</td>\n",
       "      <td>70.603577</td>\n",
       "      <td>76.427264</td>\n",
       "      <td>76.867373</td>\n",
       "      <td>69.237511</td>\n",
       "      <td>74.125966</td>\n",
       "      <td>80.031776</td>\n",
       "      <td>78.060801</td>\n",
       "      <td>75.599764</td>\n",
       "      <td>80.327301</td>\n",
       "      <td>86.924069</td>\n",
       "      <td>84.714305</td>\n",
       "      <td>84.128306</td>\n",
       "      <td>88.923648</td>\n",
       "      <td>95.914336</td>\n",
       "      <td>90.962835</td>\n",
       "      <td>77.643439</td>\n",
       "      <td>81.916763</td>\n",
       "      <td>87.609897</td>\n",
       "      <td>84.050524</td>\n",
       "      <td>69.844064</td>\n",
       "      <td>78.312192</td>\n",
       "      <td>84.129255</td>\n",
       "      <td>82.941468</td>\n",
       "      <td>75.487846</td>\n",
       "      <td>76.799035</td>\n",
       "      <td>79.417460</td>\n",
       "      <td>77.209397</td>\n",
       "      <td>76.771900</td>\n",
       "      <td>79.955745</td>\n",
       "      <td>79.756284</td>\n",
       "      <td>78.984846</td>\n",
       "      <td>75.998280</td>\n",
       "      <td>80.565563</td>\n",
       "      <td>82.336503</td>\n",
       "      <td>84.632637</td>\n",
       "      <td>80.426262</td>\n",
       "      <td>86.874703</td>\n",
       "      <td>90.435527</td>\n",
       "      <td>90.287063</td>\n",
       "      <td>83.987461</td>\n",
       "      <td>88.071630</td>\n",
       "      <td>90.639269</td>\n",
       "      <td>88.580158</td>\n",
       "      <td>83.366596</td>\n",
       "      <td>88.413757</td>\n",
       "      <td>87.385979</td>\n",
       "      <td>81.741560</td>\n",
       "      <td>71.227787</td>\n",
       "      <td>74.731628</td>\n",
       "      <td>76.455364</td>\n",
       "      <td>75.971515</td>\n",
       "      <td>71.928331</td>\n",
       "      <td>79.185145</td>\n",
       "      <td>79.887378</td>\n",
       "      <td>80.358107</td>\n",
       "      <td>75.408892</td>\n",
       "      <td>78.652089</td>\n",
       "      <td>81.444046</td>\n",
       "      <td>82.102088</td>\n",
       "      <td>78.836653</td>\n",
       "      <td>83.949129</td>\n",
       "      <td>84.001920</td>\n",
       "      <td>83.352079</td>\n",
       "      <td>78.528601</td>\n",
       "      <td>84.868386</td>\n",
       "      <td>85.781629</td>\n",
       "      <td>84.529336</td>\n",
       "      <td>80.004915</td>\n",
       "      <td>86.184668</td>\n",
       "      <td>88.638542</td>\n",
       "      <td>91.342704</td>\n",
       "      <td>85.382022</td>\n",
       "      <td>90.448040</td>\n",
       "      <td>92.295428</td>\n",
       "      <td>93.666452</td>\n",
       "      <td>87.764736</td>\n",
       "      <td>93.949358</td>\n",
       "      <td>96.414140</td>\n",
       "      <td>98.921543</td>\n",
       "      <td>93.245141</td>\n",
       "      <td>99.193865</td>\n",
       "      <td>99.493021</td>\n",
       "      <td>101.353295</td>\n",
       "      <td>95.640723</td>\n",
       "      <td>101.885834</td>\n",
       "      <td>100.413638</td>\n",
       "      <td>102.059805</td>\n",
       "      <td>98.977542</td>\n",
       "      <td>104.889422</td>\n",
       "      <td>102.693093</td>\n",
       "      <td>101.576134</td>\n",
       "      <td>97.355694</td>\n",
       "      <td>82.134287</td>\n",
       "      <td>98.847644</td>\n",
       "      <td>102.255732</td>\n",
       "      <td>98.455643</td>\n",
       "      <td>103.485270</td>\n",
       "      <td>103.145248</td>\n",
       "      <td>105.546059</td>\n",
       "      <td>101.446415</td>\n",
       "      <td>105.772535</td>\n",
       "      <td>106.714092</td>\n",
       "      <td>108.372620</td>\n",
       "      <td>104.452911</td>\n",
       "      <td>109.288126</td>\n",
       "      <td>109.523565</td>\n",
       "      <td>111.277189</td>\n",
       "    </tr>\n",
       "    <tr>\n",
       "      <th>Baja California Sur</th>\n",
       "      <td>27.933233</td>\n",
       "      <td>28.490545</td>\n",
       "      <td>28.434897</td>\n",
       "      <td>30.063003</td>\n",
       "      <td>30.344115</td>\n",
       "      <td>31.495767</td>\n",
       "      <td>30.894437</td>\n",
       "      <td>32.419457</td>\n",
       "      <td>31.509359</td>\n",
       "      <td>31.975598</td>\n",
       "      <td>31.149569</td>\n",
       "      <td>31.499042</td>\n",
       "      <td>30.899331</td>\n",
       "      <td>31.055481</td>\n",
       "      <td>30.393117</td>\n",
       "      <td>31.714678</td>\n",
       "      <td>32.158573</td>\n",
       "      <td>32.156838</td>\n",
       "      <td>31.787952</td>\n",
       "      <td>32.638494</td>\n",
       "      <td>32.638295</td>\n",
       "      <td>33.332919</td>\n",
       "      <td>32.160870</td>\n",
       "      <td>33.531946</td>\n",
       "      <td>32.081425</td>\n",
       "      <td>33.580511</td>\n",
       "      <td>31.383493</td>\n",
       "      <td>32.753985</td>\n",
       "      <td>32.299077</td>\n",
       "      <td>34.046915</td>\n",
       "      <td>32.240031</td>\n",
       "      <td>34.350650</td>\n",
       "      <td>33.125942</td>\n",
       "      <td>34.575279</td>\n",
       "      <td>32.477239</td>\n",
       "      <td>34.970968</td>\n",
       "      <td>34.388630</td>\n",
       "      <td>36.246576</td>\n",
       "      <td>34.401583</td>\n",
       "      <td>36.318820</td>\n",
       "      <td>35.736350</td>\n",
       "      <td>37.525480</td>\n",
       "      <td>35.163062</td>\n",
       "      <td>38.561927</td>\n",
       "      <td>36.885964</td>\n",
       "      <td>39.569344</td>\n",
       "      <td>37.484200</td>\n",
       "      <td>41.014234</td>\n",
       "      <td>40.133822</td>\n",
       "      <td>40.882344</td>\n",
       "      <td>39.604969</td>\n",
       "      <td>41.584181</td>\n",
       "      <td>39.002765</td>\n",
       "      <td>39.297281</td>\n",
       "      <td>39.193701</td>\n",
       "      <td>40.395643</td>\n",
       "      <td>39.399786</td>\n",
       "      <td>40.770778</td>\n",
       "      <td>40.252640</td>\n",
       "      <td>42.248279</td>\n",
       "      <td>40.044521</td>\n",
       "      <td>38.151967</td>\n",
       "      <td>38.362818</td>\n",
       "      <td>40.321509</td>\n",
       "      <td>43.331956</td>\n",
       "      <td>43.256748</td>\n",
       "      <td>43.297167</td>\n",
       "      <td>45.704710</td>\n",
       "      <td>43.870863</td>\n",
       "      <td>45.682306</td>\n",
       "      <td>45.540627</td>\n",
       "      <td>48.149127</td>\n",
       "      <td>46.475110</td>\n",
       "      <td>46.961246</td>\n",
       "      <td>46.922558</td>\n",
       "      <td>48.178846</td>\n",
       "      <td>47.359603</td>\n",
       "      <td>47.958580</td>\n",
       "      <td>48.275347</td>\n",
       "      <td>49.934371</td>\n",
       "      <td>50.867755</td>\n",
       "      <td>51.431454</td>\n",
       "      <td>51.603505</td>\n",
       "      <td>52.545902</td>\n",
       "      <td>53.716580</td>\n",
       "      <td>53.958516</td>\n",
       "      <td>53.537996</td>\n",
       "      <td>54.261476</td>\n",
       "      <td>50.294223</td>\n",
       "      <td>53.012826</td>\n",
       "      <td>52.533209</td>\n",
       "      <td>54.324647</td>\n",
       "      <td>53.661441</td>\n",
       "      <td>54.030687</td>\n",
       "      <td>55.452220</td>\n",
       "      <td>58.454835</td>\n",
       "      <td>54.807873</td>\n",
       "      <td>59.987579</td>\n",
       "      <td>59.733801</td>\n",
       "      <td>64.315989</td>\n",
       "      <td>62.898121</td>\n",
       "      <td>62.326476</td>\n",
       "      <td>60.098612</td>\n",
       "      <td>67.723962</td>\n",
       "      <td>64.754862</td>\n",
       "      <td>67.163878</td>\n",
       "      <td>67.332513</td>\n",
       "      <td>72.743424</td>\n",
       "      <td>70.225637</td>\n",
       "      <td>72.999788</td>\n",
       "      <td>75.779560</td>\n",
       "      <td>76.196810</td>\n",
       "      <td>75.607052</td>\n",
       "      <td>78.778887</td>\n",
       "      <td>75.865721</td>\n",
       "      <td>74.999463</td>\n",
       "      <td>71.838796</td>\n",
       "      <td>71.982642</td>\n",
       "      <td>70.379908</td>\n",
       "      <td>74.961497</td>\n",
       "      <td>73.713158</td>\n",
       "      <td>74.204794</td>\n",
       "      <td>73.649644</td>\n",
       "      <td>78.111834</td>\n",
       "      <td>77.558714</td>\n",
       "      <td>77.542406</td>\n",
       "      <td>76.939220</td>\n",
       "      <td>82.102393</td>\n",
       "      <td>77.601285</td>\n",
       "      <td>80.651883</td>\n",
       "      <td>77.687637</td>\n",
       "      <td>83.117834</td>\n",
       "      <td>75.645994</td>\n",
       "      <td>77.206685</td>\n",
       "      <td>77.600969</td>\n",
       "      <td>84.698035</td>\n",
       "      <td>79.585935</td>\n",
       "      <td>80.463180</td>\n",
       "      <td>78.350763</td>\n",
       "      <td>81.906068</td>\n",
       "      <td>81.590496</td>\n",
       "      <td>85.276644</td>\n",
       "      <td>83.340116</td>\n",
       "      <td>87.828365</td>\n",
       "      <td>86.256776</td>\n",
       "      <td>87.431606</td>\n",
       "      <td>86.675106</td>\n",
       "      <td>92.716344</td>\n",
       "      <td>89.784475</td>\n",
       "      <td>91.088733</td>\n",
       "      <td>90.782323</td>\n",
       "      <td>97.999908</td>\n",
       "      <td>98.495042</td>\n",
       "      <td>99.769284</td>\n",
       "      <td>97.015589</td>\n",
       "      <td>104.720085</td>\n",
       "      <td>96.516448</td>\n",
       "      <td>96.893631</td>\n",
       "      <td>95.748762</td>\n",
       "      <td>99.831644</td>\n",
       "      <td>93.427097</td>\n",
       "      <td>69.083873</td>\n",
       "      <td>80.912739</td>\n",
       "      <td>89.613620</td>\n",
       "      <td>81.514729</td>\n",
       "      <td>92.558445</td>\n",
       "      <td>96.184966</td>\n",
       "      <td>98.710649</td>\n",
       "      <td>87.842607</td>\n",
       "      <td>95.115418</td>\n",
       "      <td>98.984009</td>\n",
       "      <td>100.496774</td>\n",
       "      <td>91.962199</td>\n",
       "      <td>96.374640</td>\n",
       "      <td>99.460186</td>\n",
       "      <td>102.728383</td>\n",
       "    </tr>\n",
       "    <tr>\n",
       "      <th>Chihuahua</th>\n",
       "      <td>33.107451</td>\n",
       "      <td>34.163539</td>\n",
       "      <td>36.063329</td>\n",
       "      <td>38.191157</td>\n",
       "      <td>36.555678</td>\n",
       "      <td>38.893616</td>\n",
       "      <td>40.019409</td>\n",
       "      <td>41.439148</td>\n",
       "      <td>38.155733</td>\n",
       "      <td>39.260281</td>\n",
       "      <td>39.555051</td>\n",
       "      <td>39.179211</td>\n",
       "      <td>35.472346</td>\n",
       "      <td>36.189596</td>\n",
       "      <td>37.049982</td>\n",
       "      <td>38.610868</td>\n",
       "      <td>36.668036</td>\n",
       "      <td>37.479183</td>\n",
       "      <td>38.956698</td>\n",
       "      <td>39.974086</td>\n",
       "      <td>37.686166</td>\n",
       "      <td>39.072408</td>\n",
       "      <td>39.417026</td>\n",
       "      <td>40.723390</td>\n",
       "      <td>35.955614</td>\n",
       "      <td>38.203789</td>\n",
       "      <td>36.775309</td>\n",
       "      <td>37.660247</td>\n",
       "      <td>35.081490</td>\n",
       "      <td>38.219903</td>\n",
       "      <td>38.236715</td>\n",
       "      <td>40.228842</td>\n",
       "      <td>36.323230</td>\n",
       "      <td>38.386639</td>\n",
       "      <td>37.616656</td>\n",
       "      <td>40.124342</td>\n",
       "      <td>36.957945</td>\n",
       "      <td>39.763913</td>\n",
       "      <td>39.600952</td>\n",
       "      <td>40.962399</td>\n",
       "      <td>38.837004</td>\n",
       "      <td>41.675877</td>\n",
       "      <td>41.568509</td>\n",
       "      <td>44.791936</td>\n",
       "      <td>39.997905</td>\n",
       "      <td>44.028572</td>\n",
       "      <td>42.625512</td>\n",
       "      <td>46.518707</td>\n",
       "      <td>41.821142</td>\n",
       "      <td>44.893785</td>\n",
       "      <td>44.957959</td>\n",
       "      <td>48.212132</td>\n",
       "      <td>44.179842</td>\n",
       "      <td>45.762986</td>\n",
       "      <td>47.489302</td>\n",
       "      <td>49.249579</td>\n",
       "      <td>45.290048</td>\n",
       "      <td>48.308358</td>\n",
       "      <td>49.132947</td>\n",
       "      <td>51.736840</td>\n",
       "      <td>46.195967</td>\n",
       "      <td>44.875010</td>\n",
       "      <td>47.022129</td>\n",
       "      <td>49.990001</td>\n",
       "      <td>47.755563</td>\n",
       "      <td>49.463882</td>\n",
       "      <td>51.400287</td>\n",
       "      <td>54.985623</td>\n",
       "      <td>49.579998</td>\n",
       "      <td>53.561725</td>\n",
       "      <td>55.388044</td>\n",
       "      <td>58.790279</td>\n",
       "      <td>56.581359</td>\n",
       "      <td>58.434213</td>\n",
       "      <td>60.264147</td>\n",
       "      <td>61.664041</td>\n",
       "      <td>59.863843</td>\n",
       "      <td>61.479086</td>\n",
       "      <td>63.472894</td>\n",
       "      <td>65.117214</td>\n",
       "      <td>65.676234</td>\n",
       "      <td>67.301650</td>\n",
       "      <td>68.933449</td>\n",
       "      <td>69.581575</td>\n",
       "      <td>62.394026</td>\n",
       "      <td>63.996128</td>\n",
       "      <td>65.302082</td>\n",
       "      <td>66.580041</td>\n",
       "      <td>58.241924</td>\n",
       "      <td>63.248328</td>\n",
       "      <td>64.743395</td>\n",
       "      <td>67.471862</td>\n",
       "      <td>63.177544</td>\n",
       "      <td>62.673158</td>\n",
       "      <td>65.035296</td>\n",
       "      <td>68.927103</td>\n",
       "      <td>65.313737</td>\n",
       "      <td>67.730605</td>\n",
       "      <td>67.558434</td>\n",
       "      <td>67.341641</td>\n",
       "      <td>64.660458</td>\n",
       "      <td>67.846727</td>\n",
       "      <td>70.187048</td>\n",
       "      <td>72.130125</td>\n",
       "      <td>68.814682</td>\n",
       "      <td>72.864462</td>\n",
       "      <td>75.322258</td>\n",
       "      <td>78.042437</td>\n",
       "      <td>70.903968</td>\n",
       "      <td>76.882748</td>\n",
       "      <td>79.743930</td>\n",
       "      <td>81.480016</td>\n",
       "      <td>75.696965</td>\n",
       "      <td>81.999558</td>\n",
       "      <td>81.737198</td>\n",
       "      <td>83.742492</td>\n",
       "      <td>69.797512</td>\n",
       "      <td>70.401711</td>\n",
       "      <td>74.466609</td>\n",
       "      <td>77.128614</td>\n",
       "      <td>70.974410</td>\n",
       "      <td>75.700644</td>\n",
       "      <td>77.171213</td>\n",
       "      <td>78.592417</td>\n",
       "      <td>70.300856</td>\n",
       "      <td>76.436655</td>\n",
       "      <td>78.892036</td>\n",
       "      <td>84.108481</td>\n",
       "      <td>78.127604</td>\n",
       "      <td>82.335187</td>\n",
       "      <td>84.758352</td>\n",
       "      <td>87.247808</td>\n",
       "      <td>79.259364</td>\n",
       "      <td>85.890919</td>\n",
       "      <td>86.946310</td>\n",
       "      <td>90.814605</td>\n",
       "      <td>80.778167</td>\n",
       "      <td>87.310702</td>\n",
       "      <td>90.304332</td>\n",
       "      <td>94.147982</td>\n",
       "      <td>86.390432</td>\n",
       "      <td>91.468778</td>\n",
       "      <td>97.100524</td>\n",
       "      <td>101.008788</td>\n",
       "      <td>89.807078</td>\n",
       "      <td>96.091071</td>\n",
       "      <td>99.311998</td>\n",
       "      <td>103.574384</td>\n",
       "      <td>93.566102</td>\n",
       "      <td>98.652964</td>\n",
       "      <td>101.408798</td>\n",
       "      <td>105.066204</td>\n",
       "      <td>91.825883</td>\n",
       "      <td>98.808291</td>\n",
       "      <td>102.125934</td>\n",
       "      <td>107.239891</td>\n",
       "      <td>96.133944</td>\n",
       "      <td>100.528476</td>\n",
       "      <td>101.857795</td>\n",
       "      <td>105.981354</td>\n",
       "      <td>95.245216</td>\n",
       "      <td>83.292836</td>\n",
       "      <td>98.485266</td>\n",
       "      <td>103.467217</td>\n",
       "      <td>92.238174</td>\n",
       "      <td>98.052492</td>\n",
       "      <td>102.203454</td>\n",
       "      <td>105.716423</td>\n",
       "      <td>98.422538</td>\n",
       "      <td>106.736820</td>\n",
       "      <td>111.394681</td>\n",
       "      <td>113.807287</td>\n",
       "      <td>102.818079</td>\n",
       "      <td>109.146798</td>\n",
       "      <td>114.074210</td>\n",
       "      <td>116.076555</td>\n",
       "    </tr>\n",
       "    <tr>\n",
       "      <th>Ciudad de México</th>\n",
       "      <td>48.457852</td>\n",
       "      <td>47.803012</td>\n",
       "      <td>47.949479</td>\n",
       "      <td>53.374386</td>\n",
       "      <td>53.677544</td>\n",
       "      <td>53.904489</td>\n",
       "      <td>52.768487</td>\n",
       "      <td>57.892268</td>\n",
       "      <td>55.124229</td>\n",
       "      <td>53.891569</td>\n",
       "      <td>53.106563</td>\n",
       "      <td>55.503159</td>\n",
       "      <td>53.573802</td>\n",
       "      <td>51.223397</td>\n",
       "      <td>50.215176</td>\n",
       "      <td>53.946060</td>\n",
       "      <td>55.638317</td>\n",
       "      <td>52.316763</td>\n",
       "      <td>52.162754</td>\n",
       "      <td>54.778776</td>\n",
       "      <td>55.069631</td>\n",
       "      <td>53.091643</td>\n",
       "      <td>51.313207</td>\n",
       "      <td>55.093022</td>\n",
       "      <td>51.296107</td>\n",
       "      <td>52.458074</td>\n",
       "      <td>47.778198</td>\n",
       "      <td>52.409836</td>\n",
       "      <td>50.277328</td>\n",
       "      <td>51.811953</td>\n",
       "      <td>48.200700</td>\n",
       "      <td>54.317964</td>\n",
       "      <td>51.006668</td>\n",
       "      <td>51.859976</td>\n",
       "      <td>47.662901</td>\n",
       "      <td>54.118955</td>\n",
       "      <td>51.952505</td>\n",
       "      <td>54.222597</td>\n",
       "      <td>50.298200</td>\n",
       "      <td>55.628933</td>\n",
       "      <td>53.906329</td>\n",
       "      <td>55.923364</td>\n",
       "      <td>52.950215</td>\n",
       "      <td>59.520166</td>\n",
       "      <td>56.100253</td>\n",
       "      <td>59.943335</td>\n",
       "      <td>55.191978</td>\n",
       "      <td>61.959856</td>\n",
       "      <td>59.148481</td>\n",
       "      <td>60.996433</td>\n",
       "      <td>57.479155</td>\n",
       "      <td>63.488381</td>\n",
       "      <td>60.948626</td>\n",
       "      <td>64.142423</td>\n",
       "      <td>63.368904</td>\n",
       "      <td>65.578764</td>\n",
       "      <td>62.076717</td>\n",
       "      <td>66.687495</td>\n",
       "      <td>65.784935</td>\n",
       "      <td>69.122349</td>\n",
       "      <td>61.199931</td>\n",
       "      <td>60.999166</td>\n",
       "      <td>60.847008</td>\n",
       "      <td>64.085182</td>\n",
       "      <td>61.245017</td>\n",
       "      <td>64.198586</td>\n",
       "      <td>63.879911</td>\n",
       "      <td>67.662266</td>\n",
       "      <td>63.857933</td>\n",
       "      <td>69.558095</td>\n",
       "      <td>69.205858</td>\n",
       "      <td>73.226670</td>\n",
       "      <td>68.594874</td>\n",
       "      <td>72.262244</td>\n",
       "      <td>71.883597</td>\n",
       "      <td>73.919033</td>\n",
       "      <td>70.045706</td>\n",
       "      <td>74.155812</td>\n",
       "      <td>74.316074</td>\n",
       "      <td>76.881354</td>\n",
       "      <td>75.263770</td>\n",
       "      <td>78.857594</td>\n",
       "      <td>79.083163</td>\n",
       "      <td>80.244949</td>\n",
       "      <td>74.946790</td>\n",
       "      <td>78.136068</td>\n",
       "      <td>77.327144</td>\n",
       "      <td>78.281957</td>\n",
       "      <td>73.556861</td>\n",
       "      <td>79.640890</td>\n",
       "      <td>78.256620</td>\n",
       "      <td>79.316086</td>\n",
       "      <td>73.813539</td>\n",
       "      <td>78.127739</td>\n",
       "      <td>74.691464</td>\n",
       "      <td>78.320961</td>\n",
       "      <td>76.319977</td>\n",
       "      <td>81.369235</td>\n",
       "      <td>77.500639</td>\n",
       "      <td>82.540174</td>\n",
       "      <td>75.168415</td>\n",
       "      <td>82.836358</td>\n",
       "      <td>79.645692</td>\n",
       "      <td>82.692921</td>\n",
       "      <td>80.799898</td>\n",
       "      <td>86.509954</td>\n",
       "      <td>83.507163</td>\n",
       "      <td>85.031260</td>\n",
       "      <td>79.633161</td>\n",
       "      <td>86.812101</td>\n",
       "      <td>84.431713</td>\n",
       "      <td>86.456371</td>\n",
       "      <td>77.009484</td>\n",
       "      <td>87.217638</td>\n",
       "      <td>87.381224</td>\n",
       "      <td>89.546904</td>\n",
       "      <td>75.267260</td>\n",
       "      <td>78.885044</td>\n",
       "      <td>82.495415</td>\n",
       "      <td>86.465429</td>\n",
       "      <td>81.023514</td>\n",
       "      <td>83.287861</td>\n",
       "      <td>84.421690</td>\n",
       "      <td>88.577162</td>\n",
       "      <td>83.838814</td>\n",
       "      <td>84.927121</td>\n",
       "      <td>88.719301</td>\n",
       "      <td>91.851710</td>\n",
       "      <td>87.714289</td>\n",
       "      <td>88.796043</td>\n",
       "      <td>89.516046</td>\n",
       "      <td>94.892270</td>\n",
       "      <td>86.145699</td>\n",
       "      <td>90.298960</td>\n",
       "      <td>92.126187</td>\n",
       "      <td>95.925598</td>\n",
       "      <td>88.865386</td>\n",
       "      <td>91.136386</td>\n",
       "      <td>92.746326</td>\n",
       "      <td>97.365993</td>\n",
       "      <td>91.649301</td>\n",
       "      <td>94.206485</td>\n",
       "      <td>94.997968</td>\n",
       "      <td>98.797691</td>\n",
       "      <td>92.013958</td>\n",
       "      <td>95.845643</td>\n",
       "      <td>95.887542</td>\n",
       "      <td>103.273743</td>\n",
       "      <td>97.782447</td>\n",
       "      <td>97.794748</td>\n",
       "      <td>96.313662</td>\n",
       "      <td>103.075883</td>\n",
       "      <td>95.519800</td>\n",
       "      <td>98.416538</td>\n",
       "      <td>99.951451</td>\n",
       "      <td>106.112210</td>\n",
       "      <td>98.575693</td>\n",
       "      <td>97.779954</td>\n",
       "      <td>99.976521</td>\n",
       "      <td>102.907713</td>\n",
       "      <td>93.134078</td>\n",
       "      <td>78.082329</td>\n",
       "      <td>88.790828</td>\n",
       "      <td>97.234226</td>\n",
       "      <td>93.679010</td>\n",
       "      <td>95.973467</td>\n",
       "      <td>92.183007</td>\n",
       "      <td>95.066781</td>\n",
       "      <td>96.257033</td>\n",
       "      <td>98.430113</td>\n",
       "      <td>97.571010</td>\n",
       "      <td>100.896115</td>\n",
       "      <td>99.924236</td>\n",
       "      <td>102.122473</td>\n",
       "      <td>102.385590</td>\n",
       "      <td>103.533635</td>\n",
       "    </tr>\n",
       "  </tbody>\n",
       "</table>\n",
       "</div>"
      ],
      "text/plain": [
       "Año                     1980.1     1980.2     1980.3     1980.4     1981.1  \\\n",
       "Estado                                                                       \n",
       "Aguascalientes       22.140889  22.094112  22.630541  23.734493  24.496731   \n",
       "Baja California      41.633133  44.273408  47.742616  48.389524  46.567038   \n",
       "Baja California Sur  27.933233  28.490545  28.434897  30.063003  30.344115   \n",
       "Chihuahua            33.107451  34.163539  36.063329  38.191157  36.555678   \n",
       "Ciudad de México     48.457852  47.803012  47.949479  53.374386  53.677544   \n",
       "\n",
       "Año                     1981.2     1981.3     1981.4     1982.1     1982.2  \\\n",
       "Estado                                                                       \n",
       "Aguascalientes       25.164577  25.268967  25.811614  25.576253  25.486796   \n",
       "Baja California      51.401800  54.420836  53.086328  48.667161  51.634275   \n",
       "Baja California Sur  31.495767  30.894437  32.419457  31.509359  31.975598   \n",
       "Chihuahua            38.893616  40.019409  41.439148  38.155733  39.260281   \n",
       "Ciudad de México     53.904489  52.768487  57.892268  55.124229  53.891569   \n",
       "\n",
       "Año                     1982.3     1982.4     1983.1     1983.2     1983.3  \\\n",
       "Estado                                                                       \n",
       "Aguascalientes       25.279940  24.785035  24.145627  23.749828  23.708492   \n",
       "Baja California      53.467601  49.479970  43.902751  45.970307  47.882994   \n",
       "Baja California Sur  31.149569  31.499042  30.899331  31.055481  30.393117   \n",
       "Chihuahua            39.555051  39.179211  35.472346  36.189596  37.049982   \n",
       "Ciudad de México     53.106563  55.503159  53.573802  51.223397  50.215176   \n",
       "\n",
       "Año                     1983.4     1984.1     1984.2     1984.3     1984.4  \\\n",
       "Estado                                                                       \n",
       "Aguascalientes       24.253289  25.130828  24.678878  25.104328  25.403030   \n",
       "Baja California      47.031766  45.355542  47.593953  50.983896  49.629122   \n",
       "Baja California Sur  31.714678  32.158573  32.156838  31.787952  32.638494   \n",
       "Chihuahua            38.610868  36.668036  37.479183  38.956698  39.974086   \n",
       "Ciudad de México     53.946060  55.638317  52.316763  52.162754  54.778776   \n",
       "\n",
       "Año                     1985.1     1985.2     1985.3     1985.4     1986.1  \\\n",
       "Estado                                                                       \n",
       "Aguascalientes       25.987284  25.735674  25.618726  26.032728  24.969124   \n",
       "Baja California      47.155759  49.609985  51.896617  50.377636  43.951994   \n",
       "Baja California Sur  32.638295  33.332919  32.160870  33.531946  32.081425   \n",
       "Chihuahua            37.686166  39.072408  39.417026  40.723390  35.955614   \n",
       "Ciudad de México     55.069631  53.091643  51.313207  55.093022  51.296107   \n",
       "\n",
       "Año                     1986.2     1986.3     1986.4     1987.1     1987.2  \\\n",
       "Estado                                                                       \n",
       "Aguascalientes       25.569033  24.142906  24.584874  24.764351  25.889367   \n",
       "Baja California      47.972376  46.418607  44.659306  42.248047  47.733850   \n",
       "Baja California Sur  33.580511  31.383493  32.753985  32.299077  34.046915   \n",
       "Chihuahua            38.203789  36.775309  37.660247  35.081490  38.219903   \n",
       "Ciudad de México     52.458074  47.778198  52.409836  50.277328  51.811953   \n",
       "\n",
       "Año                     1987.3     1987.4     1988.1     1988.2     1988.3  \\\n",
       "Estado                                                                       \n",
       "Aguascalientes       25.438095  26.551420  26.039073  26.519217  25.596699   \n",
       "Baja California      49.319319  49.199485  44.478736  48.104170  48.319076   \n",
       "Baja California Sur  32.240031  34.350650  33.125942  34.575279  32.477239   \n",
       "Chihuahua            38.236715  40.228842  36.323230  38.386639  37.616656   \n",
       "Ciudad de México     48.200700  54.317964  51.006668  51.859976  47.662901   \n",
       "\n",
       "Año                     1988.4     1989.1     1989.2     1989.3     1989.4  \\\n",
       "Estado                                                                       \n",
       "Aguascalientes       27.046591  26.998881  28.205974  27.400155  28.167223   \n",
       "Baja California      49.170132  45.543183  51.011421  51.772591  50.346531   \n",
       "Baja California Sur  34.970968  34.388630  36.246576  34.401583  36.318820   \n",
       "Chihuahua            40.124342  36.957945  39.763913  39.600952  40.962399   \n",
       "Ciudad de México     54.118955  51.952505  54.222597  50.298200  55.628933   \n",
       "\n",
       "Año                     1990.1     1990.2     1990.3     1990.4     1991.1  \\\n",
       "Estado                                                                       \n",
       "Aguascalientes       28.883008  29.810978  29.472401  30.918360  30.353908   \n",
       "Baja California      48.645517  53.130251  55.403989  55.440995  49.915438   \n",
       "Baja California Sur  35.736350  37.525480  35.163062  38.561927  36.885964   \n",
       "Chihuahua            38.837004  41.675877  41.568509  44.791936  39.997905   \n",
       "Ciudad de México     53.906329  55.923364  52.950215  59.520166  56.100253   \n",
       "\n",
       "Año                     1991.2     1991.3     1991.4     1992.1     1992.2  \\\n",
       "Estado                                                                       \n",
       "Aguascalientes       32.135316  30.876147  32.815828  32.677661  33.492096   \n",
       "Baja California      56.249726  57.270511  58.315200  53.519227  57.694472   \n",
       "Baja California Sur  39.569344  37.484200  41.014234  40.133822  40.882344   \n",
       "Chihuahua            44.028572  42.625512  46.518707  41.821142  44.893785   \n",
       "Ciudad de México     59.943335  55.191978  61.959856  59.148481  60.996433   \n",
       "\n",
       "Año                     1992.3     1992.4     1993.1     1993.2     1993.3  \\\n",
       "Estado                                                                       \n",
       "Aguascalientes       33.260562  34.189758  34.244733  34.262467  35.264292   \n",
       "Baja California      61.638440  59.859573  53.340814  57.299502  61.859252   \n",
       "Baja California Sur  39.604969  41.584181  39.002765  39.297281  39.193701   \n",
       "Chihuahua            44.957959  48.212132  44.179842  45.762986  47.489302   \n",
       "Ciudad de México     57.479155  63.488381  60.948626  64.142423  63.368904   \n",
       "\n",
       "Año                     1993.4     1994.1     1994.2     1994.3     1994.4  \\\n",
       "Estado                                                                       \n",
       "Aguascalientes       35.763181  35.619815  36.688672  37.214245  38.237253   \n",
       "Baja California      60.954095  55.961747  61.854174  65.852833  65.323696   \n",
       "Baja California Sur  40.395643  39.399786  40.770778  40.252640  42.248279   \n",
       "Chihuahua            49.249579  45.290048  48.308358  49.132947  51.736840   \n",
       "Ciudad de México     65.578764  62.076717  66.687495  65.784935  69.122349   \n",
       "\n",
       "Año                     1995.1     1995.2     1995.3     1995.4     1996.1  \\\n",
       "Estado                                                                       \n",
       "Aguascalientes       35.952849  33.832001  35.263989  36.484463  36.751227   \n",
       "Baja California      53.504370  53.785378  58.502236  58.961830  57.326664   \n",
       "Baja California Sur  40.044521  38.151967  38.362818  40.321509  43.331956   \n",
       "Chihuahua            46.195967  44.875010  47.022129  49.990001  47.755563   \n",
       "Ciudad de México     61.199931  60.999166  60.847008  64.085182  61.245017   \n",
       "\n",
       "Año                     1996.2     1996.3     1996.4     1997.1     1997.2  \\\n",
       "Estado                                                                       \n",
       "Aguascalientes       36.771234  38.056806  39.702749  38.405653  40.080031   \n",
       "Baja California      61.660115  66.970886  68.033570  63.214492  70.603577   \n",
       "Baja California Sur  43.256748  43.297167  45.704710  43.870863  45.682306   \n",
       "Chihuahua            49.463882  51.400287  54.985623  49.579998  53.561725   \n",
       "Ciudad de México     64.198586  63.879911  67.662266  63.857933  69.558095   \n",
       "\n",
       "Año                     1997.3     1997.4     1998.1     1998.2     1998.3  \\\n",
       "Estado                                                                       \n",
       "Aguascalientes       41.189566  42.870425  42.665527  42.864423  44.034095   \n",
       "Baja California      76.427264  76.867373  69.237511  74.125966  80.031776   \n",
       "Baja California Sur  45.540627  48.149127  46.475110  46.961246  46.922558   \n",
       "Chihuahua            55.388044  58.790279  56.581359  58.434213  60.264147   \n",
       "Ciudad de México     69.205858  73.226670  68.594874  72.262244  71.883597   \n",
       "\n",
       "Año                     1998.4     1999.1     1999.2     1999.3     1999.4  \\\n",
       "Estado                                                                       \n",
       "Aguascalientes       44.378327  43.142534  43.417562  44.926519  45.608807   \n",
       "Baja California      78.060801  75.599764  80.327301  86.924069  84.714305   \n",
       "Baja California Sur  48.178846  47.359603  47.958580  48.275347  49.934371   \n",
       "Chihuahua            61.664041  59.863843  61.479086  63.472894  65.117214   \n",
       "Ciudad de México     73.919033  70.045706  74.155812  74.316074  76.881354   \n",
       "\n",
       "Año                     2000.1     2000.2     2000.3     2000.4     2001.1  \\\n",
       "Estado                                                                       \n",
       "Aguascalientes       47.244937  47.548350  49.033632  48.876324  50.305105   \n",
       "Baja California      84.128306  88.923648  95.914336  90.962835  77.643439   \n",
       "Baja California Sur  50.867755  51.431454  51.603505  52.545902  53.716580   \n",
       "Chihuahua            65.676234  67.301650  68.933449  69.581575  62.394026   \n",
       "Ciudad de México     75.263770  78.857594  79.083163  80.244949  74.946790   \n",
       "\n",
       "Año                     2001.2     2001.3     2001.4     2002.1     2002.2  \\\n",
       "Estado                                                                       \n",
       "Aguascalientes       50.249804  51.240671  51.014903  51.384509  53.359893   \n",
       "Baja California      81.916763  87.609897  84.050524  69.844064  78.312192   \n",
       "Baja California Sur  53.958516  53.537996  54.261476  50.294223  53.012826   \n",
       "Chihuahua            63.996128  65.302082  66.580041  58.241924  63.248328   \n",
       "Ciudad de México     78.136068  77.327144  78.281957  73.556861  79.640890   \n",
       "\n",
       "Año                     2002.3     2002.4     2003.1     2003.2     2003.3  \\\n",
       "Estado                                                                       \n",
       "Aguascalientes       53.639613  53.393760  51.472850  52.237600  54.957665   \n",
       "Baja California      84.129255  82.941468  75.487846  76.799035  79.417460   \n",
       "Baja California Sur  52.533209  54.324647  53.661441  54.030687  55.452220   \n",
       "Chihuahua            64.743395  67.471862  63.177544  62.673158  65.035296   \n",
       "Ciudad de México     78.256620  79.316086  73.813539  78.127739  74.691464   \n",
       "\n",
       "Año                     2003.4     2004.1     2004.2     2004.3     2004.4  \\\n",
       "Estado                                                                       \n",
       "Aguascalientes       54.841154  52.752482  54.864149  54.920943  57.843232   \n",
       "Baja California      77.209397  76.771900  79.955745  79.756284  78.984846   \n",
       "Baja California Sur  58.454835  54.807873  59.987579  59.733801  64.315989   \n",
       "Chihuahua            68.927103  65.313737  67.730605  67.558434  67.341641   \n",
       "Ciudad de México     78.320961  76.319977  81.369235  77.500639  82.540174   \n",
       "\n",
       "Año                     2005.1     2005.2     2005.3     2005.4     2006.1  \\\n",
       "Estado                                                                       \n",
       "Aguascalientes       54.296928  55.550817  55.425715  58.764404  57.058462   \n",
       "Baja California      75.998280  80.565563  82.336503  84.632637  80.426262   \n",
       "Baja California Sur  62.898121  62.326476  60.098612  67.723962  64.754862   \n",
       "Chihuahua            64.660458  67.846727  70.187048  72.130125  68.814682   \n",
       "Ciudad de México     75.168415  82.836358  79.645692  82.692921  80.799898   \n",
       "\n",
       "Año                     2006.2     2006.3     2006.4     2007.1     2007.2  \\\n",
       "Estado                                                                       \n",
       "Aguascalientes       58.830951  61.072613  64.326676  64.983631  64.664054   \n",
       "Baja California      86.874703  90.435527  90.287063  83.987461  88.071630   \n",
       "Baja California Sur  67.163878  67.332513  72.743424  70.225637  72.999788   \n",
       "Chihuahua            72.864462  75.322258  78.042437  70.903968  76.882748   \n",
       "Ciudad de México     86.509954  83.507163  85.031260  79.633161  86.812101   \n",
       "\n",
       "Año                     2007.3     2007.4     2008.1     2008.2     2008.3  \\\n",
       "Estado                                                                       \n",
       "Aguascalientes       68.169703  66.324784  63.313819  66.852954  67.609928   \n",
       "Baja California      90.639269  88.580158  83.366596  88.413757  87.385979   \n",
       "Baja California Sur  75.779560  76.196810  75.607052  78.778887  75.865721   \n",
       "Chihuahua            79.743930  81.480016  75.696965  81.999558  81.737198   \n",
       "Ciudad de México     84.431713  86.456371  77.009484  87.217638  87.381224   \n",
       "\n",
       "Año                     2008.4     2009.1     2009.2     2009.3     2009.4  \\\n",
       "Estado                                                                       \n",
       "Aguascalientes       65.418540  57.129934  58.717678  63.228128  65.717479   \n",
       "Baja California      81.741560  71.227787  74.731628  76.455364  75.971515   \n",
       "Baja California Sur  74.999463  71.838796  71.982642  70.379908  74.961497   \n",
       "Chihuahua            83.742492  69.797512  70.401711  74.466609  77.128614   \n",
       "Ciudad de México     89.546904  75.267260  78.885044  82.495415  86.465429   \n",
       "\n",
       "Año                     2010.1     2010.2     2010.3     2010.4     2011.1  \\\n",
       "Estado                                                                       \n",
       "Aguascalientes       63.298688  65.265196  69.287368  69.116231  66.995287   \n",
       "Baja California      71.928331  79.185145  79.887378  80.358107  75.408892   \n",
       "Baja California Sur  73.713158  74.204794  73.649644  78.111834  77.558714   \n",
       "Chihuahua            70.974410  75.700644  77.171213  78.592417  70.300856   \n",
       "Ciudad de México     81.023514  83.287861  84.421690  88.577162  83.838814   \n",
       "\n",
       "Año                     2011.2     2011.3     2011.4     2012.1     2012.2  \\\n",
       "Estado                                                                       \n",
       "Aguascalientes       68.866869  70.761283  73.333024  72.442719  73.286305   \n",
       "Baja California      78.652089  81.444046  82.102088  78.836653  83.949129   \n",
       "Baja California Sur  77.542406  76.939220  82.102393  77.601285  80.651883   \n",
       "Chihuahua            76.436655  78.892036  84.108481  78.127604  82.335187   \n",
       "Ciudad de México     84.927121  88.719301  91.851710  87.714289  88.796043   \n",
       "\n",
       "Año                     2012.3     2012.4     2013.1     2013.2     2013.3  \\\n",
       "Estado                                                                       \n",
       "Aguascalientes       73.295528  76.102112  75.285240  75.810894  76.412347   \n",
       "Baja California      84.001920  83.352079  78.528601  84.868386  85.781629   \n",
       "Baja California Sur  77.687637  83.117834  75.645994  77.206685  77.600969   \n",
       "Chihuahua            84.758352  87.247808  79.259364  85.890919  86.946310   \n",
       "Ciudad de México     89.516046  94.892270  86.145699  90.298960  92.126187   \n",
       "\n",
       "Año                     2013.4     2014.1     2014.2     2014.3     2014.4  \\\n",
       "Estado                                                                       \n",
       "Aguascalientes       78.805299  82.177533  82.936912  83.943135  88.301107   \n",
       "Baja California      84.529336  80.004915  86.184668  88.638542  91.342704   \n",
       "Baja California Sur  84.698035  79.585935  80.463180  78.350763  81.906068   \n",
       "Chihuahua            90.814605  80.778167  87.310702  90.304332  94.147982   \n",
       "Ciudad de México     95.925598  88.865386  91.136386  92.746326  97.365993   \n",
       "\n",
       "Año                     2015.1     2015.2     2015.3      2015.4     2016.1  \\\n",
       "Estado                                                                        \n",
       "Aguascalientes       85.453126  89.692555  90.068801   92.387510  89.392744   \n",
       "Baja California      85.382022  90.448040  92.295428   93.666452  87.764736   \n",
       "Baja California Sur  81.590496  85.276644  83.340116   87.828365  86.256776   \n",
       "Chihuahua            86.390432  91.468778  97.100524  101.008788  89.807078   \n",
       "Ciudad de México     91.649301  94.206485  94.997968   98.797691  92.013958   \n",
       "\n",
       "Año                     2016.2     2016.3      2016.4     2017.1     2017.2  \\\n",
       "Estado                                                                        \n",
       "Aguascalientes       93.650115  92.717483   97.955046  96.175962  95.507832   \n",
       "Baja California      93.949358  96.414140   98.921543  93.245141  99.193865   \n",
       "Baja California Sur  87.431606  86.675106   92.716344  89.784475  91.088733   \n",
       "Chihuahua            96.091071  99.311998  103.574384  93.566102  98.652964   \n",
       "Ciudad de México     95.845643  95.887542  103.273743  97.782447  97.794748   \n",
       "\n",
       "Año                      2017.3      2017.4     2018.1      2018.2  \\\n",
       "Estado                                                               \n",
       "Aguascalientes        95.996664   95.111130  97.668156   98.625646   \n",
       "Baja California       99.493021  101.353295  95.640723  101.885834   \n",
       "Baja California Sur   90.782323   97.999908  98.495042   99.769284   \n",
       "Chihuahua            101.408798  105.066204  91.825883   98.808291   \n",
       "Ciudad de México      96.313662  103.075883  95.519800   98.416538   \n",
       "\n",
       "Año                      2018.3      2018.4     2019.1      2019.2  \\\n",
       "Estado                                                               \n",
       "Aguascalientes       100.460899  103.245299  95.981039   99.657753   \n",
       "Baja California      100.413638  102.059805  98.977542  104.889422   \n",
       "Baja California Sur   97.015589  104.720085  96.516448   96.893631   \n",
       "Chihuahua            102.125934  107.239891  96.133944  100.528476   \n",
       "Ciudad de México      99.951451  106.112210  98.575693   97.779954   \n",
       "\n",
       "Año                      2019.3      2019.4     2020.1     2020.2     2020.3  \\\n",
       "Estado                                                                         \n",
       "Aguascalientes       100.564466  102.793220  98.675903  73.729093  96.458415   \n",
       "Baja California      102.693093  101.576134  97.355694  82.134287  98.847644   \n",
       "Baja California Sur   95.748762   99.831644  93.427097  69.083873  80.912739   \n",
       "Chihuahua            101.857795  105.981354  95.245216  83.292836  98.485266   \n",
       "Ciudad de México      99.976521  102.907713  93.134078  78.082329  88.790828   \n",
       "\n",
       "Año                      2020.4     2021.1      2021.2      2021.3  \\\n",
       "Estado                                                               \n",
       "Aguascalientes       102.882710  98.711959   96.182298   92.021761   \n",
       "Baja California      102.255732  98.455643  103.485270  103.145248   \n",
       "Baja California Sur   89.613620  81.514729   92.558445   96.184966   \n",
       "Chihuahua            103.467217  92.238174   98.052492  102.203454   \n",
       "Ciudad de México      97.234226  93.679010   95.973467   92.183007   \n",
       "\n",
       "Año                      2021.4      2022.1      2022.2      2022.3  \\\n",
       "Estado                                                                \n",
       "Aguascalientes        95.661748   95.768809   97.330410   97.149796   \n",
       "Baja California      105.546059  101.446415  105.772535  106.714092   \n",
       "Baja California Sur   98.710649   87.842607   95.115418   98.984009   \n",
       "Chihuahua            105.716423   98.422538  106.736820  111.394681   \n",
       "Ciudad de México      95.066781   96.257033   98.430113   97.571010   \n",
       "\n",
       "Año                      2022.4      2023.1      2023.2      2023.3  \\\n",
       "Estado                                                                \n",
       "Aguascalientes        96.634084   97.854224  101.433713  104.703922   \n",
       "Baja California      108.372620  104.452911  109.288126  109.523565   \n",
       "Baja California Sur  100.496774   91.962199   96.374640   99.460186   \n",
       "Chihuahua            113.807287  102.818079  109.146798  114.074210   \n",
       "Ciudad de México     100.896115   99.924236  102.122473  102.385590   \n",
       "\n",
       "Año                      2023.4  \n",
       "Estado                           \n",
       "Aguascalientes       103.131586  \n",
       "Baja California      111.277189  \n",
       "Baja California Sur  102.728383  \n",
       "Chihuahua            116.076555  \n",
       "Ciudad de México     103.533635  "
      ]
     },
     "execution_count": 34,
     "metadata": {},
     "output_type": "execute_result"
    }
   ],
   "source": [
    "# Pivot Table:\n",
    "\n",
    "fuente = fuente.pivot(index = 'Estado', columns = 'Año', values = \"Indice\")\n",
    "\n",
    "fuente.head()"
   ]
  },
  {
   "cell_type": "code",
   "execution_count": 35,
   "metadata": {},
   "outputs": [
    {
     "data": {
      "text/html": [
       "<div>\n",
       "<style scoped>\n",
       "    .dataframe tbody tr th:only-of-type {\n",
       "        vertical-align: middle;\n",
       "    }\n",
       "\n",
       "    .dataframe tbody tr th {\n",
       "        vertical-align: top;\n",
       "    }\n",
       "\n",
       "    .dataframe thead th {\n",
       "        text-align: right;\n",
       "    }\n",
       "</style>\n",
       "<table border=\"1\" class=\"dataframe\">\n",
       "  <thead>\n",
       "    <tr style=\"text-align: right;\">\n",
       "      <th>Estado</th>\n",
       "      <th>Año</th>\n",
       "      <th>Ciudad de México</th>\n",
       "    </tr>\n",
       "  </thead>\n",
       "  <tbody>\n",
       "    <tr>\n",
       "      <th>0</th>\n",
       "      <td>1980.1</td>\n",
       "      <td>48.457852</td>\n",
       "    </tr>\n",
       "    <tr>\n",
       "      <th>1</th>\n",
       "      <td>1980.2</td>\n",
       "      <td>47.803012</td>\n",
       "    </tr>\n",
       "    <tr>\n",
       "      <th>2</th>\n",
       "      <td>1980.3</td>\n",
       "      <td>47.949479</td>\n",
       "    </tr>\n",
       "    <tr>\n",
       "      <th>3</th>\n",
       "      <td>1980.4</td>\n",
       "      <td>53.374386</td>\n",
       "    </tr>\n",
       "    <tr>\n",
       "      <th>4</th>\n",
       "      <td>1981.1</td>\n",
       "      <td>53.677544</td>\n",
       "    </tr>\n",
       "  </tbody>\n",
       "</table>\n",
       "</div>"
      ],
      "text/plain": [
       "Estado     Año  Ciudad de México\n",
       "0       1980.1         48.457852\n",
       "1       1980.2         47.803012\n",
       "2       1980.3         47.949479\n",
       "3       1980.4         53.374386\n",
       "4       1981.1         53.677544"
      ]
     },
     "execution_count": 35,
     "metadata": {},
     "output_type": "execute_result"
    }
   ],
   "source": [
    "#\n",
    "\n",
    "plot_fuente = fuente.loc[fuente.index == \"Ciudad de México\"].T.reset_index(drop = False)\n",
    "\n",
    "plot_fuente.head()"
   ]
  },
  {
   "cell_type": "code",
   "execution_count": 36,
   "metadata": {},
   "outputs": [
    {
     "data": {
      "text/html": [
       "<div>\n",
       "<style scoped>\n",
       "    .dataframe tbody tr th:only-of-type {\n",
       "        vertical-align: middle;\n",
       "    }\n",
       "\n",
       "    .dataframe tbody tr th {\n",
       "        vertical-align: top;\n",
       "    }\n",
       "\n",
       "    .dataframe thead th {\n",
       "        text-align: right;\n",
       "    }\n",
       "</style>\n",
       "<table border=\"1\" class=\"dataframe\">\n",
       "  <thead>\n",
       "    <tr style=\"text-align: right;\">\n",
       "      <th>Estado</th>\n",
       "      <th>Año</th>\n",
       "      <th>Ciudad de México</th>\n",
       "      <th>OtrosEstados</th>\n",
       "    </tr>\n",
       "  </thead>\n",
       "  <tbody>\n",
       "    <tr>\n",
       "      <th>0</th>\n",
       "      <td>1980.1</td>\n",
       "      <td>48.457852</td>\n",
       "      <td>35.652020</td>\n",
       "    </tr>\n",
       "    <tr>\n",
       "      <th>1</th>\n",
       "      <td>1980.2</td>\n",
       "      <td>47.803012</td>\n",
       "      <td>35.657326</td>\n",
       "    </tr>\n",
       "    <tr>\n",
       "      <th>2</th>\n",
       "      <td>1980.3</td>\n",
       "      <td>47.949479</td>\n",
       "      <td>36.154938</td>\n",
       "    </tr>\n",
       "    <tr>\n",
       "      <th>3</th>\n",
       "      <td>1980.4</td>\n",
       "      <td>53.374386</td>\n",
       "      <td>37.753439</td>\n",
       "    </tr>\n",
       "    <tr>\n",
       "      <th>4</th>\n",
       "      <td>1981.1</td>\n",
       "      <td>53.677544</td>\n",
       "      <td>39.124382</td>\n",
       "    </tr>\n",
       "  </tbody>\n",
       "</table>\n",
       "</div>"
      ],
      "text/plain": [
       "Estado     Año  Ciudad de México  OtrosEstados\n",
       "0       1980.1         48.457852     35.652020\n",
       "1       1980.2         47.803012     35.657326\n",
       "2       1980.3         47.949479     36.154938\n",
       "3       1980.4         53.374386     37.753439\n",
       "4       1981.1         53.677544     39.124382"
      ]
     },
     "execution_count": 36,
     "metadata": {},
     "output_type": "execute_result"
    }
   ],
   "source": [
    "#\n",
    "plot_fuente[\"OtrosEstados\"] = fuente.loc[fuente.index != \"Ciudad de México\"].mean(axis = 0).values\n",
    "\n",
    "plot_fuente.head()"
   ]
  },
  {
   "cell_type": "code",
   "execution_count": 37,
   "metadata": {},
   "outputs": [
    {
     "data": {
      "text/html": [
       "<div>\n",
       "<style scoped>\n",
       "    .dataframe tbody tr th:only-of-type {\n",
       "        vertical-align: middle;\n",
       "    }\n",
       "\n",
       "    .dataframe tbody tr th {\n",
       "        vertical-align: top;\n",
       "    }\n",
       "\n",
       "    .dataframe thead th {\n",
       "        text-align: right;\n",
       "    }\n",
       "</style>\n",
       "<table border=\"1\" class=\"dataframe\">\n",
       "  <thead>\n",
       "    <tr style=\"text-align: right;\">\n",
       "      <th>Estado</th>\n",
       "      <th>Año</th>\n",
       "      <th>Ciudad de México</th>\n",
       "      <th>OtrosEstados</th>\n",
       "    </tr>\n",
       "  </thead>\n",
       "  <tbody>\n",
       "    <tr>\n",
       "      <th>171</th>\n",
       "      <td>2022.4</td>\n",
       "      <td>100.896115</td>\n",
       "      <td>103.720059</td>\n",
       "    </tr>\n",
       "    <tr>\n",
       "      <th>172</th>\n",
       "      <td>2023.1</td>\n",
       "      <td>99.924236</td>\n",
       "      <td>99.281892</td>\n",
       "    </tr>\n",
       "    <tr>\n",
       "      <th>173</th>\n",
       "      <td>2023.2</td>\n",
       "      <td>102.122473</td>\n",
       "      <td>101.961408</td>\n",
       "    </tr>\n",
       "    <tr>\n",
       "      <th>174</th>\n",
       "      <td>2023.3</td>\n",
       "      <td>102.385590</td>\n",
       "      <td>103.425541</td>\n",
       "    </tr>\n",
       "    <tr>\n",
       "      <th>175</th>\n",
       "      <td>2023.4</td>\n",
       "      <td>103.533635</td>\n",
       "      <td>105.910589</td>\n",
       "    </tr>\n",
       "  </tbody>\n",
       "</table>\n",
       "</div>"
      ],
      "text/plain": [
       "Estado     Año  Ciudad de México  OtrosEstados\n",
       "171     2022.4        100.896115    103.720059\n",
       "172     2023.1         99.924236     99.281892\n",
       "173     2023.2        102.122473    101.961408\n",
       "174     2023.3        102.385590    103.425541\n",
       "175     2023.4        103.533635    105.910589"
      ]
     },
     "execution_count": 37,
     "metadata": {},
     "output_type": "execute_result"
    }
   ],
   "source": [
    "plot_fuente.tail()"
   ]
  },
  {
   "cell_type": "code",
   "execution_count": 38,
   "metadata": {},
   "outputs": [
    {
     "data": {
      "application/vnd.plotly.v1+json": {
       "config": {
        "plotlyServerURL": "https://plot.ly"
       },
       "data": [
        {
         "hovertemplate": "variable=Ciudad de México<br>Año=%{x}<br>value=%{y}<extra></extra>",
         "legendgroup": "Ciudad de México",
         "line": {
          "color": "#636efa",
          "dash": "solid"
         },
         "marker": {
          "symbol": "circle"
         },
         "mode": "lines",
         "name": "Ciudad de México",
         "orientation": "v",
         "showlegend": true,
         "type": "scatter",
         "x": [
          1980.1,
          1980.2,
          1980.3,
          1980.4,
          1981.1,
          1981.2,
          1981.3,
          1981.4,
          1982.1,
          1982.2,
          1982.3,
          1982.4,
          1983.1,
          1983.2,
          1983.3,
          1983.4,
          1984.1,
          1984.2,
          1984.3,
          1984.4,
          1985.1,
          1985.2,
          1985.3,
          1985.4,
          1986.1,
          1986.2,
          1986.3,
          1986.4,
          1987.1,
          1987.2,
          1987.3,
          1987.4,
          1988.1,
          1988.2,
          1988.3,
          1988.4,
          1989.1,
          1989.2,
          1989.3,
          1989.4,
          1990.1,
          1990.2,
          1990.3,
          1990.4,
          1991.1,
          1991.2,
          1991.3,
          1991.4,
          1992.1,
          1992.2,
          1992.3,
          1992.4,
          1993.1,
          1993.2,
          1993.3,
          1993.4,
          1994.1,
          1994.2,
          1994.3,
          1994.4,
          1995.1,
          1995.2,
          1995.3,
          1995.4,
          1996.1,
          1996.2,
          1996.3,
          1996.4,
          1997.1,
          1997.2,
          1997.3,
          1997.4,
          1998.1,
          1998.2,
          1998.3,
          1998.4,
          1999.1,
          1999.2,
          1999.3,
          1999.4,
          2000.1,
          2000.2,
          2000.3,
          2000.4,
          2001.1,
          2001.2,
          2001.3,
          2001.4,
          2002.1,
          2002.2,
          2002.3,
          2002.4,
          2003.1,
          2003.2,
          2003.3,
          2003.4,
          2004.1,
          2004.2,
          2004.3,
          2004.4,
          2005.1,
          2005.2,
          2005.3,
          2005.4,
          2006.1,
          2006.2,
          2006.3,
          2006.4,
          2007.1,
          2007.2,
          2007.3,
          2007.4,
          2008.1,
          2008.2,
          2008.3,
          2008.4,
          2009.1,
          2009.2,
          2009.3,
          2009.4,
          2010.1,
          2010.2,
          2010.3,
          2010.4,
          2011.1,
          2011.2,
          2011.3,
          2011.4,
          2012.1,
          2012.2,
          2012.3,
          2012.4,
          2013.1,
          2013.2,
          2013.3,
          2013.4,
          2014.1,
          2014.2,
          2014.3,
          2014.4,
          2015.1,
          2015.2,
          2015.3,
          2015.4,
          2016.1,
          2016.2,
          2016.3,
          2016.4,
          2017.1,
          2017.2,
          2017.3,
          2017.4,
          2018.1,
          2018.2,
          2018.3,
          2018.4,
          2019.1,
          2019.2,
          2019.3,
          2019.4,
          2020.1,
          2020.2,
          2020.3,
          2020.4,
          2021.1,
          2021.2,
          2021.3,
          2021.4,
          2022.1,
          2022.2,
          2022.3,
          2022.4,
          2023.1,
          2023.2,
          2023.3,
          2023.4
         ],
         "xaxis": "x",
         "y": [
          48.4578523144924,
          47.8030124299434,
          47.9494793408789,
          53.3743863944959,
          53.6775440377466,
          53.9044891216647,
          52.7684865554587,
          57.8922677253456,
          55.1242290447651,
          53.8915689686799,
          53.1065625263097,
          55.5031588256517,
          53.5738016747777,
          51.2233967476058,
          50.2151764621129,
          53.9460604821634,
          55.6383169051808,
          52.3167631667039,
          52.1627539141869,
          54.7787760810326,
          55.0696313843452,
          53.0916425314916,
          51.3132067976534,
          55.0930220913289,
          51.2961074384303,
          52.4580738825663,
          47.7781978846096,
          52.4098355321488,
          50.2773279598147,
          51.811952551392,
          48.2006997179684,
          54.3179640962703,
          51.0066683547564,
          51.8599764223403,
          47.6629010484658,
          54.118955051798,
          51.952505441235,
          54.2225974968913,
          50.2981997677217,
          55.628933117726,
          53.9063291238055,
          55.9233642450813,
          52.9502149517273,
          59.5201663559867,
          56.1002526478738,
          59.9433351893204,
          55.1919782014532,
          61.959856053762,
          59.1484809601795,
          60.9964325769809,
          57.4791550463187,
          63.4883807665732,
          60.9486262243695,
          64.1424232216216,
          63.3689037543724,
          65.5787635728522,
          62.0767169240007,
          66.6874952225524,
          65.7849347280924,
          69.1223489004714,
          61.1999306315181,
          60.9991659785159,
          60.847008048279,
          64.0851823238849,
          61.245017356583,
          64.1985855336689,
          63.8799108698647,
          67.6622655894496,
          63.8579327927564,
          69.5580947912042,
          69.2058576541718,
          73.2266700141893,
          68.5948741838199,
          72.2622441959028,
          71.8835965991137,
          73.919032691137,
          70.0457061534956,
          74.1558119911709,
          74.3160736350048,
          76.8813539663949,
          75.263770037045,
          78.8575943584981,
          79.0831625443309,
          80.2449491033002,
          74.9467900692964,
          78.1360679323446,
          77.3271440807364,
          78.2819571332674,
          73.5568608280606,
          79.6408899673236,
          78.2566195394134,
          79.3160855067295,
          73.8135391166933,
          78.1277391282733,
          74.6914635648599,
          78.3209613672263,
          76.3199768771114,
          81.3692345473046,
          77.5006385421472,
          82.5401735051002,
          75.1684152769863,
          82.8363583057565,
          79.6456918459933,
          82.6929210804759,
          80.7998979388036,
          86.509954220529,
          83.5071632127663,
          85.031260479413,
          79.6331614303167,
          86.8121014101321,
          84.4317129573682,
          86.4563713705613,
          77.0094844493636,
          87.2176380437943,
          87.3812244415848,
          89.5469044855061,
          75.2672601772546,
          78.8850441637016,
          82.4954151654822,
          86.4654288273484,
          81.0235140359506,
          83.2878605682755,
          84.421690063216,
          88.5771624252039,
          83.8388136545365,
          84.9271210001942,
          88.7193008865762,
          91.8517100194378,
          87.7142893466796,
          88.796043366762,
          89.5160463035796,
          94.8922701193168,
          86.1456990971921,
          90.2989600794927,
          92.1261865333353,
          95.9255975616665,
          88.865385778879,
          91.1363858347726,
          92.7463264606672,
          97.3659925785018,
          91.6493012842658,
          94.2064848753726,
          94.9979678631313,
          98.7976909699158,
          92.0139580400497,
          95.8456433983961,
          95.8875422265075,
          103.273743255371,
          97.7824473939128,
          97.794748371717,
          96.3136624999479,
          103.075882564916,
          95.519800370789,
          98.4165380161561,
          99.9514513143535,
          106.112210298701,
          98.5756928378135,
          97.7799537834166,
          99.976521125357,
          102.907712774237,
          93.1340775303447,
          78.0823292941308,
          88.7908275039472,
          97.2342262715522,
          93.6790104039727,
          95.973467358659,
          92.1830065775818,
          95.0667808428676,
          96.2570325875139,
          98.4301126391284,
          97.5710097276608,
          100.896115280395,
          99.9242360604883,
          102.122473209427,
          102.385589638977,
          103.533634664433
         ],
         "yaxis": "y"
        },
        {
         "hovertemplate": "variable=OtrosEstados<br>Año=%{x}<br>value=%{y}<extra></extra>",
         "legendgroup": "OtrosEstados",
         "line": {
          "color": "#EF553B",
          "dash": "solid"
         },
         "marker": {
          "symbol": "circle"
         },
         "mode": "lines",
         "name": "OtrosEstados",
         "orientation": "v",
         "showlegend": true,
         "type": "scatter",
         "x": [
          1980.1,
          1980.2,
          1980.3,
          1980.4,
          1981.1,
          1981.2,
          1981.3,
          1981.4,
          1982.1,
          1982.2,
          1982.3,
          1982.4,
          1983.1,
          1983.2,
          1983.3,
          1983.4,
          1984.1,
          1984.2,
          1984.3,
          1984.4,
          1985.1,
          1985.2,
          1985.3,
          1985.4,
          1986.1,
          1986.2,
          1986.3,
          1986.4,
          1987.1,
          1987.2,
          1987.3,
          1987.4,
          1988.1,
          1988.2,
          1988.3,
          1988.4,
          1989.1,
          1989.2,
          1989.3,
          1989.4,
          1990.1,
          1990.2,
          1990.3,
          1990.4,
          1991.1,
          1991.2,
          1991.3,
          1991.4,
          1992.1,
          1992.2,
          1992.3,
          1992.4,
          1993.1,
          1993.2,
          1993.3,
          1993.4,
          1994.1,
          1994.2,
          1994.3,
          1994.4,
          1995.1,
          1995.2,
          1995.3,
          1995.4,
          1996.1,
          1996.2,
          1996.3,
          1996.4,
          1997.1,
          1997.2,
          1997.3,
          1997.4,
          1998.1,
          1998.2,
          1998.3,
          1998.4,
          1999.1,
          1999.2,
          1999.3,
          1999.4,
          2000.1,
          2000.2,
          2000.3,
          2000.4,
          2001.1,
          2001.2,
          2001.3,
          2001.4,
          2002.1,
          2002.2,
          2002.3,
          2002.4,
          2003.1,
          2003.2,
          2003.3,
          2003.4,
          2004.1,
          2004.2,
          2004.3,
          2004.4,
          2005.1,
          2005.2,
          2005.3,
          2005.4,
          2006.1,
          2006.2,
          2006.3,
          2006.4,
          2007.1,
          2007.2,
          2007.3,
          2007.4,
          2008.1,
          2008.2,
          2008.3,
          2008.4,
          2009.1,
          2009.2,
          2009.3,
          2009.4,
          2010.1,
          2010.2,
          2010.3,
          2010.4,
          2011.1,
          2011.2,
          2011.3,
          2011.4,
          2012.1,
          2012.2,
          2012.3,
          2012.4,
          2013.1,
          2013.2,
          2013.3,
          2013.4,
          2014.1,
          2014.2,
          2014.3,
          2014.4,
          2015.1,
          2015.2,
          2015.3,
          2015.4,
          2016.1,
          2016.2,
          2016.3,
          2016.4,
          2017.1,
          2017.2,
          2017.3,
          2017.4,
          2018.1,
          2018.2,
          2018.3,
          2018.4,
          2019.1,
          2019.2,
          2019.3,
          2019.4,
          2020.1,
          2020.2,
          2020.3,
          2020.4,
          2021.1,
          2021.2,
          2021.3,
          2021.4,
          2022.1,
          2022.2,
          2022.3,
          2022.4,
          2023.1,
          2023.2,
          2023.3,
          2023.4
         ],
         "xaxis": "x",
         "y": [
          35.65202033176978,
          35.65732626306214,
          36.15493787212366,
          37.75343922610194,
          39.12438157927598,
          40.350571362147186,
          40.231360820368,
          40.90891578341188,
          40.73416811385923,
          40.74309214503259,
          39.91298376766161,
          38.92530432124792,
          38.105155064631795,
          37.72890340875869,
          37.24151797727533,
          38.1121233476186,
          39.35383387710019,
          39.02727962216613,
          39.25000840583989,
          39.67821615197495,
          40.53463458526165,
          40.57406655847357,
          39.8740270372964,
          40.45355124401484,
          38.86701583858391,
          39.91217351924848,
          37.25737468043652,
          37.665393593182436,
          38.17041977658068,
          40.0820007938234,
          38.969399341852274,
          40.39640656512922,
          39.673205927060465,
          40.54017326755247,
          38.67108883601047,
          40.628275002869245,
          40.60198737042716,
          42.3903120151882,
          40.91110523571671,
          41.726407514051836,
          42.75610948672408,
          44.26064552163475,
          43.18540280465277,
          45.32307690750523,
          44.09944885958433,
          46.763420269031165,
          44.56951207596014,
          47.340316987743414,
          46.5084486640073,
          47.9225473647679,
          47.23664772864837,
          48.80358730211237,
          47.76365447908512,
          48.237324985017715,
          49.056742004029324,
          49.80217957728609,
          49.077103576494814,
          51.05300638025543,
          51.197330320074144,
          52.54392773757578,
          49.06254048167387,
          46.5648986001999,
          47.75322338760995,
          49.552874002387604,
          50.618236526817874,
          51.07723704572518,
          52.15960541795206,
          54.443896171852124,
          53.23404326496711,
          55.99726958185959,
          56.98248067147839,
          59.09286754642179,
          59.35744825103049,
          60.00704824667215,
          61.05864512141216,
          61.28444541429187,
          61.66285203552284,
          62.184860188188615,
          63.611778954491655,
          64.05133764649104,
          66.13865498014502,
          66.75050943617306,
          68.11033187633994,
          67.17934174694727,
          65.3098779996364,
          65.62947841948008,
          66.23509554862751,
          65.70577562357028,
          62.45274378704956,
          65.88686577223218,
          66.24686376537115,
          66.79767353686519,
          65.38182207998004,
          66.02736139919055,
          66.36614761047211,
          67.27606710659019,
          67.19245790813851,
          69.20237292084234,
          69.03215172947809,
          70.34403940560124,
          68.37353601787858,
          70.94235710583304,
          70.40814430582073,
          73.6587473386554,
          72.87310912052969,
          75.1141559376345,
          75.46251377412615,
          77.40891738773115,
          75.57781432678965,
          78.46250437309311,
          79.09942615094072,
          79.82506448428477,
          77.40405518033057,
          81.16268810213077,
          79.29638973531307,
          78.74855521511127,
          70.07750752277616,
          71.31966968659206,
          73.3775863021663,
          76.79755622369716,
          74.04424353812934,
          77.53677403410141,
          78.27521634113745,
          79.9939757505457,
          77.17064496976155,
          79.82656769608002,
          82.100689178224,
          84.39583783929942,
          82.50739575233303,
          84.63924446166725,
          84.33905394897873,
          86.35117333028934,
          82.3988408437274,
          86.17332492774516,
          85.30379102306436,
          88.20568848981988,
          84.8459431962076,
          88.36648026638181,
          88.63418814016687,
          91.64376226084505,
          88.78079018529348,
          91.91836401917226,
          92.9705324308136,
          95.0893381078378,
          91.51722048464889,
          94.65538604451046,
          94.62191218357343,
          98.13195115994256,
          94.87613177210874,
          97.33267415623739,
          97.0016132280494,
          99.9951234668634,
          97.20497885212588,
          100.59780736610843,
          99.6576025716796,
          102.53961121008611,
          98.31802895439715,
          101.0923884854535,
          100.201121733041,
          101.3592365102482,
          97.29036091960204,
          78.95043536877895,
          92.8563911731909,
          98.68428871686211,
          94.32635669933842,
          97.48762389428252,
          96.57007630127072,
          99.72509109773654,
          96.54689717558847,
          100.07056981488863,
          100.71043077474381,
          103.72005899397014,
          99.28189189897267,
          101.96140817400097,
          103.42554128918947,
          105.91058910347216
         ],
         "yaxis": "y"
        },
        {
         "line": {
          "dash": "dash"
         },
         "name": "Temblor 2017",
         "type": "scatter",
         "x": [
          2017,
          2017
         ],
         "y": [
          46.70964302749648,
          108.02880088554161
         ]
        }
       ],
       "layout": {
        "font": {
         "size": 15
        },
        "legend": {
         "orientation": "v",
         "title": {
          "text": ""
         },
         "tracegroupgap": 0,
         "x": 0.8,
         "y": 1
        },
        "margin": {
         "t": 60
        },
        "template": {
         "data": {
          "bar": [
           {
            "error_x": {
             "color": "#2a3f5f"
            },
            "error_y": {
             "color": "#2a3f5f"
            },
            "marker": {
             "line": {
              "color": "white",
              "width": 0.5
             },
             "pattern": {
              "fillmode": "overlay",
              "size": 10,
              "solidity": 0.2
             }
            },
            "type": "bar"
           }
          ],
          "barpolar": [
           {
            "marker": {
             "line": {
              "color": "white",
              "width": 0.5
             },
             "pattern": {
              "fillmode": "overlay",
              "size": 10,
              "solidity": 0.2
             }
            },
            "type": "barpolar"
           }
          ],
          "carpet": [
           {
            "aaxis": {
             "endlinecolor": "#2a3f5f",
             "gridcolor": "#C8D4E3",
             "linecolor": "#C8D4E3",
             "minorgridcolor": "#C8D4E3",
             "startlinecolor": "#2a3f5f"
            },
            "baxis": {
             "endlinecolor": "#2a3f5f",
             "gridcolor": "#C8D4E3",
             "linecolor": "#C8D4E3",
             "minorgridcolor": "#C8D4E3",
             "startlinecolor": "#2a3f5f"
            },
            "type": "carpet"
           }
          ],
          "choropleth": [
           {
            "colorbar": {
             "outlinewidth": 0,
             "ticks": ""
            },
            "type": "choropleth"
           }
          ],
          "contour": [
           {
            "colorbar": {
             "outlinewidth": 0,
             "ticks": ""
            },
            "colorscale": [
             [
              0,
              "#0d0887"
             ],
             [
              0.1111111111111111,
              "#46039f"
             ],
             [
              0.2222222222222222,
              "#7201a8"
             ],
             [
              0.3333333333333333,
              "#9c179e"
             ],
             [
              0.4444444444444444,
              "#bd3786"
             ],
             [
              0.5555555555555556,
              "#d8576b"
             ],
             [
              0.6666666666666666,
              "#ed7953"
             ],
             [
              0.7777777777777778,
              "#fb9f3a"
             ],
             [
              0.8888888888888888,
              "#fdca26"
             ],
             [
              1,
              "#f0f921"
             ]
            ],
            "type": "contour"
           }
          ],
          "contourcarpet": [
           {
            "colorbar": {
             "outlinewidth": 0,
             "ticks": ""
            },
            "type": "contourcarpet"
           }
          ],
          "heatmap": [
           {
            "colorbar": {
             "outlinewidth": 0,
             "ticks": ""
            },
            "colorscale": [
             [
              0,
              "#0d0887"
             ],
             [
              0.1111111111111111,
              "#46039f"
             ],
             [
              0.2222222222222222,
              "#7201a8"
             ],
             [
              0.3333333333333333,
              "#9c179e"
             ],
             [
              0.4444444444444444,
              "#bd3786"
             ],
             [
              0.5555555555555556,
              "#d8576b"
             ],
             [
              0.6666666666666666,
              "#ed7953"
             ],
             [
              0.7777777777777778,
              "#fb9f3a"
             ],
             [
              0.8888888888888888,
              "#fdca26"
             ],
             [
              1,
              "#f0f921"
             ]
            ],
            "type": "heatmap"
           }
          ],
          "heatmapgl": [
           {
            "colorbar": {
             "outlinewidth": 0,
             "ticks": ""
            },
            "colorscale": [
             [
              0,
              "#0d0887"
             ],
             [
              0.1111111111111111,
              "#46039f"
             ],
             [
              0.2222222222222222,
              "#7201a8"
             ],
             [
              0.3333333333333333,
              "#9c179e"
             ],
             [
              0.4444444444444444,
              "#bd3786"
             ],
             [
              0.5555555555555556,
              "#d8576b"
             ],
             [
              0.6666666666666666,
              "#ed7953"
             ],
             [
              0.7777777777777778,
              "#fb9f3a"
             ],
             [
              0.8888888888888888,
              "#fdca26"
             ],
             [
              1,
              "#f0f921"
             ]
            ],
            "type": "heatmapgl"
           }
          ],
          "histogram": [
           {
            "marker": {
             "pattern": {
              "fillmode": "overlay",
              "size": 10,
              "solidity": 0.2
             }
            },
            "type": "histogram"
           }
          ],
          "histogram2d": [
           {
            "colorbar": {
             "outlinewidth": 0,
             "ticks": ""
            },
            "colorscale": [
             [
              0,
              "#0d0887"
             ],
             [
              0.1111111111111111,
              "#46039f"
             ],
             [
              0.2222222222222222,
              "#7201a8"
             ],
             [
              0.3333333333333333,
              "#9c179e"
             ],
             [
              0.4444444444444444,
              "#bd3786"
             ],
             [
              0.5555555555555556,
              "#d8576b"
             ],
             [
              0.6666666666666666,
              "#ed7953"
             ],
             [
              0.7777777777777778,
              "#fb9f3a"
             ],
             [
              0.8888888888888888,
              "#fdca26"
             ],
             [
              1,
              "#f0f921"
             ]
            ],
            "type": "histogram2d"
           }
          ],
          "histogram2dcontour": [
           {
            "colorbar": {
             "outlinewidth": 0,
             "ticks": ""
            },
            "colorscale": [
             [
              0,
              "#0d0887"
             ],
             [
              0.1111111111111111,
              "#46039f"
             ],
             [
              0.2222222222222222,
              "#7201a8"
             ],
             [
              0.3333333333333333,
              "#9c179e"
             ],
             [
              0.4444444444444444,
              "#bd3786"
             ],
             [
              0.5555555555555556,
              "#d8576b"
             ],
             [
              0.6666666666666666,
              "#ed7953"
             ],
             [
              0.7777777777777778,
              "#fb9f3a"
             ],
             [
              0.8888888888888888,
              "#fdca26"
             ],
             [
              1,
              "#f0f921"
             ]
            ],
            "type": "histogram2dcontour"
           }
          ],
          "mesh3d": [
           {
            "colorbar": {
             "outlinewidth": 0,
             "ticks": ""
            },
            "type": "mesh3d"
           }
          ],
          "parcoords": [
           {
            "line": {
             "colorbar": {
              "outlinewidth": 0,
              "ticks": ""
             }
            },
            "type": "parcoords"
           }
          ],
          "pie": [
           {
            "automargin": true,
            "type": "pie"
           }
          ],
          "scatter": [
           {
            "fillpattern": {
             "fillmode": "overlay",
             "size": 10,
             "solidity": 0.2
            },
            "type": "scatter"
           }
          ],
          "scatter3d": [
           {
            "line": {
             "colorbar": {
              "outlinewidth": 0,
              "ticks": ""
             }
            },
            "marker": {
             "colorbar": {
              "outlinewidth": 0,
              "ticks": ""
             }
            },
            "type": "scatter3d"
           }
          ],
          "scattercarpet": [
           {
            "marker": {
             "colorbar": {
              "outlinewidth": 0,
              "ticks": ""
             }
            },
            "type": "scattercarpet"
           }
          ],
          "scattergeo": [
           {
            "marker": {
             "colorbar": {
              "outlinewidth": 0,
              "ticks": ""
             }
            },
            "type": "scattergeo"
           }
          ],
          "scattergl": [
           {
            "marker": {
             "colorbar": {
              "outlinewidth": 0,
              "ticks": ""
             }
            },
            "type": "scattergl"
           }
          ],
          "scattermapbox": [
           {
            "marker": {
             "colorbar": {
              "outlinewidth": 0,
              "ticks": ""
             }
            },
            "type": "scattermapbox"
           }
          ],
          "scatterpolar": [
           {
            "marker": {
             "colorbar": {
              "outlinewidth": 0,
              "ticks": ""
             }
            },
            "type": "scatterpolar"
           }
          ],
          "scatterpolargl": [
           {
            "marker": {
             "colorbar": {
              "outlinewidth": 0,
              "ticks": ""
             }
            },
            "type": "scatterpolargl"
           }
          ],
          "scatterternary": [
           {
            "marker": {
             "colorbar": {
              "outlinewidth": 0,
              "ticks": ""
             }
            },
            "type": "scatterternary"
           }
          ],
          "surface": [
           {
            "colorbar": {
             "outlinewidth": 0,
             "ticks": ""
            },
            "colorscale": [
             [
              0,
              "#0d0887"
             ],
             [
              0.1111111111111111,
              "#46039f"
             ],
             [
              0.2222222222222222,
              "#7201a8"
             ],
             [
              0.3333333333333333,
              "#9c179e"
             ],
             [
              0.4444444444444444,
              "#bd3786"
             ],
             [
              0.5555555555555556,
              "#d8576b"
             ],
             [
              0.6666666666666666,
              "#ed7953"
             ],
             [
              0.7777777777777778,
              "#fb9f3a"
             ],
             [
              0.8888888888888888,
              "#fdca26"
             ],
             [
              1,
              "#f0f921"
             ]
            ],
            "type": "surface"
           }
          ],
          "table": [
           {
            "cells": {
             "fill": {
              "color": "#EBF0F8"
             },
             "line": {
              "color": "white"
             }
            },
            "header": {
             "fill": {
              "color": "#C8D4E3"
             },
             "line": {
              "color": "white"
             }
            },
            "type": "table"
           }
          ]
         },
         "layout": {
          "annotationdefaults": {
           "arrowcolor": "#2a3f5f",
           "arrowhead": 0,
           "arrowwidth": 1
          },
          "autotypenumbers": "strict",
          "coloraxis": {
           "colorbar": {
            "outlinewidth": 0,
            "ticks": ""
           }
          },
          "colorscale": {
           "diverging": [
            [
             0,
             "#8e0152"
            ],
            [
             0.1,
             "#c51b7d"
            ],
            [
             0.2,
             "#de77ae"
            ],
            [
             0.3,
             "#f1b6da"
            ],
            [
             0.4,
             "#fde0ef"
            ],
            [
             0.5,
             "#f7f7f7"
            ],
            [
             0.6,
             "#e6f5d0"
            ],
            [
             0.7,
             "#b8e186"
            ],
            [
             0.8,
             "#7fbc41"
            ],
            [
             0.9,
             "#4d9221"
            ],
            [
             1,
             "#276419"
            ]
           ],
           "sequential": [
            [
             0,
             "#0d0887"
            ],
            [
             0.1111111111111111,
             "#46039f"
            ],
            [
             0.2222222222222222,
             "#7201a8"
            ],
            [
             0.3333333333333333,
             "#9c179e"
            ],
            [
             0.4444444444444444,
             "#bd3786"
            ],
            [
             0.5555555555555556,
             "#d8576b"
            ],
            [
             0.6666666666666666,
             "#ed7953"
            ],
            [
             0.7777777777777778,
             "#fb9f3a"
            ],
            [
             0.8888888888888888,
             "#fdca26"
            ],
            [
             1,
             "#f0f921"
            ]
           ],
           "sequentialminus": [
            [
             0,
             "#0d0887"
            ],
            [
             0.1111111111111111,
             "#46039f"
            ],
            [
             0.2222222222222222,
             "#7201a8"
            ],
            [
             0.3333333333333333,
             "#9c179e"
            ],
            [
             0.4444444444444444,
             "#bd3786"
            ],
            [
             0.5555555555555556,
             "#d8576b"
            ],
            [
             0.6666666666666666,
             "#ed7953"
            ],
            [
             0.7777777777777778,
             "#fb9f3a"
            ],
            [
             0.8888888888888888,
             "#fdca26"
            ],
            [
             1,
             "#f0f921"
            ]
           ]
          },
          "colorway": [
           "#636efa",
           "#EF553B",
           "#00cc96",
           "#ab63fa",
           "#FFA15A",
           "#19d3f3",
           "#FF6692",
           "#B6E880",
           "#FF97FF",
           "#FECB52"
          ],
          "font": {
           "color": "#2a3f5f"
          },
          "geo": {
           "bgcolor": "white",
           "lakecolor": "white",
           "landcolor": "white",
           "showlakes": true,
           "showland": true,
           "subunitcolor": "#C8D4E3"
          },
          "hoverlabel": {
           "align": "left"
          },
          "hovermode": "closest",
          "mapbox": {
           "style": "light"
          },
          "paper_bgcolor": "white",
          "plot_bgcolor": "white",
          "polar": {
           "angularaxis": {
            "gridcolor": "#EBF0F8",
            "linecolor": "#EBF0F8",
            "ticks": ""
           },
           "bgcolor": "white",
           "radialaxis": {
            "gridcolor": "#EBF0F8",
            "linecolor": "#EBF0F8",
            "ticks": ""
           }
          },
          "scene": {
           "xaxis": {
            "backgroundcolor": "white",
            "gridcolor": "#DFE8F3",
            "gridwidth": 2,
            "linecolor": "#EBF0F8",
            "showbackground": true,
            "ticks": "",
            "zerolinecolor": "#EBF0F8"
           },
           "yaxis": {
            "backgroundcolor": "white",
            "gridcolor": "#DFE8F3",
            "gridwidth": 2,
            "linecolor": "#EBF0F8",
            "showbackground": true,
            "ticks": "",
            "zerolinecolor": "#EBF0F8"
           },
           "zaxis": {
            "backgroundcolor": "white",
            "gridcolor": "#DFE8F3",
            "gridwidth": 2,
            "linecolor": "#EBF0F8",
            "showbackground": true,
            "ticks": "",
            "zerolinecolor": "#EBF0F8"
           }
          },
          "shapedefaults": {
           "line": {
            "color": "#2a3f5f"
           }
          },
          "ternary": {
           "aaxis": {
            "gridcolor": "#DFE8F3",
            "linecolor": "#A2B1C6",
            "ticks": ""
           },
           "baxis": {
            "gridcolor": "#DFE8F3",
            "linecolor": "#A2B1C6",
            "ticks": ""
           },
           "bgcolor": "white",
           "caxis": {
            "gridcolor": "#DFE8F3",
            "linecolor": "#A2B1C6",
            "ticks": ""
           }
          },
          "title": {
           "x": 0.05
          },
          "xaxis": {
           "automargin": true,
           "gridcolor": "#EBF0F8",
           "linecolor": "#EBF0F8",
           "ticks": "",
           "title": {
            "standoff": 15
           },
           "zerolinecolor": "#EBF0F8",
           "zerolinewidth": 2
          },
          "yaxis": {
           "automargin": true,
           "gridcolor": "#EBF0F8",
           "linecolor": "#EBF0F8",
           "ticks": "",
           "title": {
            "standoff": 15
           },
           "zerolinecolor": "#EBF0F8",
           "zerolinewidth": 2
          }
         }
        },
        "title": {
         "text": "Indice de Actividad Económica Trimestral (1980-2023)",
         "x": 0.5,
         "y": 0.95
        },
        "xaxis": {
         "anchor": "y",
         "domain": [
          0,
          1
         ],
         "title": {
          "text": "Año"
         }
        },
        "yaxis": {
         "anchor": "x",
         "domain": [
          0,
          1
         ],
         "title": {
          "text": "Indice"
         }
        }
       }
      }
     },
     "metadata": {},
     "output_type": "display_data"
    }
   ],
   "source": [
    "#\n",
    "fig = px.line( data_frame = plot_fuente, \n",
    "               x = \"Año\", y = [\"Ciudad de México\",\"OtrosEstados\"], \n",
    "               template = \"plotly_white\")\n",
    "# \"plotly\", \"plotly_white\", \"plotly_dark\", \"ggplot2\", \"seaborn\", \"simple_white\", \"none\"\n",
    "\n",
    "fig.add_trace(pgo.Scatter( x = [2017, 2017],\n",
    "                            y = [plot_fuente['Ciudad de México'].min()*0.98, plot_fuente.OtrosEstados.max()*1.02],\n",
    "                            line = { 'dash': 'dash', }, name = 'Temblor 2017'\n",
    "                          ))\n",
    "\n",
    "fig.update_layout( title = { 'text': \"Indice de Actividad Económica Trimestral (1980-2023)\",\n",
    "                             'y':0.95, 'x':0.5, },\n",
    "                   legend = dict(y = 1, x = 0.8, orientation = 'v'),\n",
    "                   legend_title = \"\",\n",
    "                   xaxis_title = \"Año\", \n",
    "                   yaxis_title = \"Indice\",\n",
    "                   font = dict(size = 15)\n",
    "                 )\n",
    "\n",
    "fig.show()"
   ]
  },
  {
   "cell_type": "code",
   "execution_count": 39,
   "metadata": {},
   "outputs": [
    {
     "data": {
      "text/html": [
       "<div>\n",
       "<style scoped>\n",
       "    .dataframe tbody tr th:only-of-type {\n",
       "        vertical-align: middle;\n",
       "    }\n",
       "\n",
       "    .dataframe tbody tr th {\n",
       "        vertical-align: top;\n",
       "    }\n",
       "\n",
       "    .dataframe thead th {\n",
       "        text-align: right;\n",
       "    }\n",
       "</style>\n",
       "<table border=\"1\" class=\"dataframe\">\n",
       "  <thead>\n",
       "    <tr style=\"text-align: right;\">\n",
       "      <th>Año</th>\n",
       "      <th>2017.1</th>\n",
       "      <th>2017.2</th>\n",
       "      <th>2017.3</th>\n",
       "      <th>2017.4</th>\n",
       "      <th>2018.1</th>\n",
       "      <th>2018.2</th>\n",
       "      <th>2018.3</th>\n",
       "      <th>2018.4</th>\n",
       "      <th>2019.1</th>\n",
       "      <th>2019.2</th>\n",
       "      <th>2019.3</th>\n",
       "      <th>2019.4</th>\n",
       "      <th>2020.1</th>\n",
       "      <th>2020.2</th>\n",
       "      <th>2020.3</th>\n",
       "      <th>2020.4</th>\n",
       "      <th>2021.1</th>\n",
       "      <th>2021.2</th>\n",
       "      <th>2021.3</th>\n",
       "      <th>2021.4</th>\n",
       "      <th>2022.1</th>\n",
       "      <th>2022.2</th>\n",
       "      <th>2022.3</th>\n",
       "      <th>2022.4</th>\n",
       "      <th>2023.1</th>\n",
       "      <th>2023.2</th>\n",
       "      <th>2023.3</th>\n",
       "      <th>2023.4</th>\n",
       "    </tr>\n",
       "    <tr>\n",
       "      <th>Estado</th>\n",
       "      <th></th>\n",
       "      <th></th>\n",
       "      <th></th>\n",
       "      <th></th>\n",
       "      <th></th>\n",
       "      <th></th>\n",
       "      <th></th>\n",
       "      <th></th>\n",
       "      <th></th>\n",
       "      <th></th>\n",
       "      <th></th>\n",
       "      <th></th>\n",
       "      <th></th>\n",
       "      <th></th>\n",
       "      <th></th>\n",
       "      <th></th>\n",
       "      <th></th>\n",
       "      <th></th>\n",
       "      <th></th>\n",
       "      <th></th>\n",
       "      <th></th>\n",
       "      <th></th>\n",
       "      <th></th>\n",
       "      <th></th>\n",
       "      <th></th>\n",
       "      <th></th>\n",
       "      <th></th>\n",
       "      <th></th>\n",
       "    </tr>\n",
       "  </thead>\n",
       "  <tbody>\n",
       "    <tr>\n",
       "      <th>Aguascalientes</th>\n",
       "      <td>96.175962</td>\n",
       "      <td>95.507832</td>\n",
       "      <td>95.996664</td>\n",
       "      <td>95.111130</td>\n",
       "      <td>97.668156</td>\n",
       "      <td>98.625646</td>\n",
       "      <td>100.460899</td>\n",
       "      <td>103.245299</td>\n",
       "      <td>95.981039</td>\n",
       "      <td>99.657753</td>\n",
       "      <td>100.564466</td>\n",
       "      <td>102.793220</td>\n",
       "      <td>98.675903</td>\n",
       "      <td>73.729093</td>\n",
       "      <td>96.458415</td>\n",
       "      <td>102.882710</td>\n",
       "      <td>98.711959</td>\n",
       "      <td>96.182298</td>\n",
       "      <td>92.021761</td>\n",
       "      <td>95.661748</td>\n",
       "      <td>95.768809</td>\n",
       "      <td>97.330410</td>\n",
       "      <td>97.149796</td>\n",
       "      <td>96.634084</td>\n",
       "      <td>97.854224</td>\n",
       "      <td>101.433713</td>\n",
       "      <td>104.703922</td>\n",
       "      <td>103.131586</td>\n",
       "    </tr>\n",
       "    <tr>\n",
       "      <th>Baja California</th>\n",
       "      <td>93.245141</td>\n",
       "      <td>99.193865</td>\n",
       "      <td>99.493021</td>\n",
       "      <td>101.353295</td>\n",
       "      <td>95.640723</td>\n",
       "      <td>101.885834</td>\n",
       "      <td>100.413638</td>\n",
       "      <td>102.059805</td>\n",
       "      <td>98.977542</td>\n",
       "      <td>104.889422</td>\n",
       "      <td>102.693093</td>\n",
       "      <td>101.576134</td>\n",
       "      <td>97.355694</td>\n",
       "      <td>82.134287</td>\n",
       "      <td>98.847644</td>\n",
       "      <td>102.255732</td>\n",
       "      <td>98.455643</td>\n",
       "      <td>103.485270</td>\n",
       "      <td>103.145248</td>\n",
       "      <td>105.546059</td>\n",
       "      <td>101.446415</td>\n",
       "      <td>105.772535</td>\n",
       "      <td>106.714092</td>\n",
       "      <td>108.372620</td>\n",
       "      <td>104.452911</td>\n",
       "      <td>109.288126</td>\n",
       "      <td>109.523565</td>\n",
       "      <td>111.277189</td>\n",
       "    </tr>\n",
       "    <tr>\n",
       "      <th>Baja California Sur</th>\n",
       "      <td>89.784475</td>\n",
       "      <td>91.088733</td>\n",
       "      <td>90.782323</td>\n",
       "      <td>97.999908</td>\n",
       "      <td>98.495042</td>\n",
       "      <td>99.769284</td>\n",
       "      <td>97.015589</td>\n",
       "      <td>104.720085</td>\n",
       "      <td>96.516448</td>\n",
       "      <td>96.893631</td>\n",
       "      <td>95.748762</td>\n",
       "      <td>99.831644</td>\n",
       "      <td>93.427097</td>\n",
       "      <td>69.083873</td>\n",
       "      <td>80.912739</td>\n",
       "      <td>89.613620</td>\n",
       "      <td>81.514729</td>\n",
       "      <td>92.558445</td>\n",
       "      <td>96.184966</td>\n",
       "      <td>98.710649</td>\n",
       "      <td>87.842607</td>\n",
       "      <td>95.115418</td>\n",
       "      <td>98.984009</td>\n",
       "      <td>100.496774</td>\n",
       "      <td>91.962199</td>\n",
       "      <td>96.374640</td>\n",
       "      <td>99.460186</td>\n",
       "      <td>102.728383</td>\n",
       "    </tr>\n",
       "    <tr>\n",
       "      <th>Chihuahua</th>\n",
       "      <td>93.566102</td>\n",
       "      <td>98.652964</td>\n",
       "      <td>101.408798</td>\n",
       "      <td>105.066204</td>\n",
       "      <td>91.825883</td>\n",
       "      <td>98.808291</td>\n",
       "      <td>102.125934</td>\n",
       "      <td>107.239891</td>\n",
       "      <td>96.133944</td>\n",
       "      <td>100.528476</td>\n",
       "      <td>101.857795</td>\n",
       "      <td>105.981354</td>\n",
       "      <td>95.245216</td>\n",
       "      <td>83.292836</td>\n",
       "      <td>98.485266</td>\n",
       "      <td>103.467217</td>\n",
       "      <td>92.238174</td>\n",
       "      <td>98.052492</td>\n",
       "      <td>102.203454</td>\n",
       "      <td>105.716423</td>\n",
       "      <td>98.422538</td>\n",
       "      <td>106.736820</td>\n",
       "      <td>111.394681</td>\n",
       "      <td>113.807287</td>\n",
       "      <td>102.818079</td>\n",
       "      <td>109.146798</td>\n",
       "      <td>114.074210</td>\n",
       "      <td>116.076555</td>\n",
       "    </tr>\n",
       "    <tr>\n",
       "      <th>Ciudad de México</th>\n",
       "      <td>97.782447</td>\n",
       "      <td>97.794748</td>\n",
       "      <td>96.313662</td>\n",
       "      <td>103.075883</td>\n",
       "      <td>95.519800</td>\n",
       "      <td>98.416538</td>\n",
       "      <td>99.951451</td>\n",
       "      <td>106.112210</td>\n",
       "      <td>98.575693</td>\n",
       "      <td>97.779954</td>\n",
       "      <td>99.976521</td>\n",
       "      <td>102.907713</td>\n",
       "      <td>93.134078</td>\n",
       "      <td>78.082329</td>\n",
       "      <td>88.790828</td>\n",
       "      <td>97.234226</td>\n",
       "      <td>93.679010</td>\n",
       "      <td>95.973467</td>\n",
       "      <td>92.183007</td>\n",
       "      <td>95.066781</td>\n",
       "      <td>96.257033</td>\n",
       "      <td>98.430113</td>\n",
       "      <td>97.571010</td>\n",
       "      <td>100.896115</td>\n",
       "      <td>99.924236</td>\n",
       "      <td>102.122473</td>\n",
       "      <td>102.385590</td>\n",
       "      <td>103.533635</td>\n",
       "    </tr>\n",
       "    <tr>\n",
       "      <th>Coahuila</th>\n",
       "      <td>94.255079</td>\n",
       "      <td>97.403760</td>\n",
       "      <td>97.212114</td>\n",
       "      <td>101.130837</td>\n",
       "      <td>97.811427</td>\n",
       "      <td>98.835615</td>\n",
       "      <td>101.828604</td>\n",
       "      <td>101.524354</td>\n",
       "      <td>97.963581</td>\n",
       "      <td>102.668620</td>\n",
       "      <td>103.418274</td>\n",
       "      <td>99.062729</td>\n",
       "      <td>93.615271</td>\n",
       "      <td>69.778006</td>\n",
       "      <td>94.302804</td>\n",
       "      <td>99.231011</td>\n",
       "      <td>92.360668</td>\n",
       "      <td>101.159169</td>\n",
       "      <td>90.903707</td>\n",
       "      <td>94.306378</td>\n",
       "      <td>92.760187</td>\n",
       "      <td>94.904023</td>\n",
       "      <td>93.666268</td>\n",
       "      <td>99.480791</td>\n",
       "      <td>95.620528</td>\n",
       "      <td>96.015021</td>\n",
       "      <td>94.829224</td>\n",
       "      <td>98.751660</td>\n",
       "    </tr>\n",
       "    <tr>\n",
       "      <th>Guanajuato</th>\n",
       "      <td>97.133724</td>\n",
       "      <td>98.863583</td>\n",
       "      <td>100.730802</td>\n",
       "      <td>100.739350</td>\n",
       "      <td>97.005924</td>\n",
       "      <td>102.650540</td>\n",
       "      <td>100.104081</td>\n",
       "      <td>100.239456</td>\n",
       "      <td>94.489775</td>\n",
       "      <td>101.361828</td>\n",
       "      <td>99.597469</td>\n",
       "      <td>97.671202</td>\n",
       "      <td>96.589744</td>\n",
       "      <td>75.037299</td>\n",
       "      <td>95.677725</td>\n",
       "      <td>99.348217</td>\n",
       "      <td>96.625919</td>\n",
       "      <td>97.972857</td>\n",
       "      <td>97.441906</td>\n",
       "      <td>98.466570</td>\n",
       "      <td>96.919569</td>\n",
       "      <td>100.051612</td>\n",
       "      <td>102.184569</td>\n",
       "      <td>102.706654</td>\n",
       "      <td>98.488583</td>\n",
       "      <td>100.470970</td>\n",
       "      <td>102.140009</td>\n",
       "      <td>106.445667</td>\n",
       "    </tr>\n",
       "    <tr>\n",
       "      <th>Jalisco</th>\n",
       "      <td>94.911804</td>\n",
       "      <td>95.314914</td>\n",
       "      <td>98.272938</td>\n",
       "      <td>101.057185</td>\n",
       "      <td>98.661376</td>\n",
       "      <td>99.966629</td>\n",
       "      <td>99.897308</td>\n",
       "      <td>101.474686</td>\n",
       "      <td>99.435297</td>\n",
       "      <td>100.908182</td>\n",
       "      <td>100.383243</td>\n",
       "      <td>101.611168</td>\n",
       "      <td>96.670156</td>\n",
       "      <td>82.427553</td>\n",
       "      <td>91.381592</td>\n",
       "      <td>98.512928</td>\n",
       "      <td>95.107984</td>\n",
       "      <td>95.968818</td>\n",
       "      <td>95.453131</td>\n",
       "      <td>100.080111</td>\n",
       "      <td>98.201527</td>\n",
       "      <td>99.313970</td>\n",
       "      <td>101.711836</td>\n",
       "      <td>107.000544</td>\n",
       "      <td>100.687472</td>\n",
       "      <td>102.108803</td>\n",
       "      <td>102.582291</td>\n",
       "      <td>108.820889</td>\n",
       "    </tr>\n",
       "    <tr>\n",
       "      <th>Nuevo León</th>\n",
       "      <td>92.681123</td>\n",
       "      <td>94.874125</td>\n",
       "      <td>95.210119</td>\n",
       "      <td>96.778259</td>\n",
       "      <td>94.983667</td>\n",
       "      <td>100.185437</td>\n",
       "      <td>101.342261</td>\n",
       "      <td>103.488635</td>\n",
       "      <td>100.676502</td>\n",
       "      <td>102.798927</td>\n",
       "      <td>102.426977</td>\n",
       "      <td>101.362761</td>\n",
       "      <td>97.813803</td>\n",
       "      <td>79.682585</td>\n",
       "      <td>92.910450</td>\n",
       "      <td>98.925693</td>\n",
       "      <td>96.113223</td>\n",
       "      <td>98.914952</td>\n",
       "      <td>99.412021</td>\n",
       "      <td>100.300896</td>\n",
       "      <td>99.356245</td>\n",
       "      <td>101.841720</td>\n",
       "      <td>102.200374</td>\n",
       "      <td>104.292072</td>\n",
       "      <td>102.118597</td>\n",
       "      <td>102.702794</td>\n",
       "      <td>106.064328</td>\n",
       "      <td>108.861150</td>\n",
       "    </tr>\n",
       "    <tr>\n",
       "      <th>Querétaro</th>\n",
       "      <td>95.232673</td>\n",
       "      <td>95.458744</td>\n",
       "      <td>96.657472</td>\n",
       "      <td>99.913857</td>\n",
       "      <td>98.384199</td>\n",
       "      <td>100.041522</td>\n",
       "      <td>100.772236</td>\n",
       "      <td>100.802042</td>\n",
       "      <td>97.241729</td>\n",
       "      <td>98.699147</td>\n",
       "      <td>99.004037</td>\n",
       "      <td>99.619027</td>\n",
       "      <td>95.154033</td>\n",
       "      <td>77.705215</td>\n",
       "      <td>90.318026</td>\n",
       "      <td>95.695474</td>\n",
       "      <td>92.425881</td>\n",
       "      <td>92.700370</td>\n",
       "      <td>95.390108</td>\n",
       "      <td>94.637770</td>\n",
       "      <td>92.396733</td>\n",
       "      <td>96.413476</td>\n",
       "      <td>97.743111</td>\n",
       "      <td>99.498938</td>\n",
       "      <td>96.277319</td>\n",
       "      <td>97.743483</td>\n",
       "      <td>102.071293</td>\n",
       "      <td>103.437613</td>\n",
       "    </tr>\n",
       "    <tr>\n",
       "      <th>Sinaloa</th>\n",
       "      <td>95.095665</td>\n",
       "      <td>99.338179</td>\n",
       "      <td>93.603748</td>\n",
       "      <td>105.364968</td>\n",
       "      <td>100.392046</td>\n",
       "      <td>100.912471</td>\n",
       "      <td>93.855399</td>\n",
       "      <td>104.840084</td>\n",
       "      <td>101.341781</td>\n",
       "      <td>98.796005</td>\n",
       "      <td>92.682434</td>\n",
       "      <td>105.012549</td>\n",
       "      <td>99.355653</td>\n",
       "      <td>82.125990</td>\n",
       "      <td>86.331937</td>\n",
       "      <td>100.772852</td>\n",
       "      <td>95.419634</td>\n",
       "      <td>94.353817</td>\n",
       "      <td>90.081093</td>\n",
       "      <td>103.966625</td>\n",
       "      <td>94.618904</td>\n",
       "      <td>95.798479</td>\n",
       "      <td>92.979116</td>\n",
       "      <td>107.510503</td>\n",
       "      <td>97.297319</td>\n",
       "      <td>98.413511</td>\n",
       "      <td>95.029041</td>\n",
       "      <td>102.617745</td>\n",
       "    </tr>\n",
       "    <tr>\n",
       "      <th>Sonora</th>\n",
       "      <td>98.326493</td>\n",
       "      <td>104.746367</td>\n",
       "      <td>97.413579</td>\n",
       "      <td>100.662367</td>\n",
       "      <td>97.663855</td>\n",
       "      <td>103.711880</td>\n",
       "      <td>97.551063</td>\n",
       "      <td>101.073202</td>\n",
       "      <td>98.591016</td>\n",
       "      <td>104.096558</td>\n",
       "      <td>99.774229</td>\n",
       "      <td>99.283366</td>\n",
       "      <td>101.041714</td>\n",
       "      <td>86.847934</td>\n",
       "      <td>94.094213</td>\n",
       "      <td>96.907866</td>\n",
       "      <td>94.762975</td>\n",
       "      <td>101.741471</td>\n",
       "      <td>96.323702</td>\n",
       "      <td>99.836344</td>\n",
       "      <td>100.639402</td>\n",
       "      <td>104.243137</td>\n",
       "      <td>100.632707</td>\n",
       "      <td>103.984867</td>\n",
       "      <td>103.805158</td>\n",
       "      <td>109.556349</td>\n",
       "      <td>107.942763</td>\n",
       "      <td>108.360985</td>\n",
       "    </tr>\n",
       "    <tr>\n",
       "      <th>Tamaulipas</th>\n",
       "      <td>98.105340</td>\n",
       "      <td>97.549023</td>\n",
       "      <td>97.237779</td>\n",
       "      <td>94.764121</td>\n",
       "      <td>97.927449</td>\n",
       "      <td>101.780539</td>\n",
       "      <td>100.524219</td>\n",
       "      <td>99.767793</td>\n",
       "      <td>102.467692</td>\n",
       "      <td>101.810114</td>\n",
       "      <td>104.262681</td>\n",
       "      <td>102.505685</td>\n",
       "      <td>102.540047</td>\n",
       "      <td>85.560555</td>\n",
       "      <td>94.555884</td>\n",
       "      <td>96.598145</td>\n",
       "      <td>98.179493</td>\n",
       "      <td>96.761528</td>\n",
       "      <td>100.279818</td>\n",
       "      <td>99.471520</td>\n",
       "      <td>100.189828</td>\n",
       "      <td>103.325239</td>\n",
       "      <td>103.164608</td>\n",
       "      <td>100.855572</td>\n",
       "      <td>100.000315</td>\n",
       "      <td>100.282690</td>\n",
       "      <td>102.685662</td>\n",
       "      <td>100.417648</td>\n",
       "    </tr>\n",
       "  </tbody>\n",
       "</table>\n",
       "</div>"
      ],
      "text/plain": [
       "Año                     2017.1      2017.2      2017.3      2017.4  \\\n",
       "Estado                                                               \n",
       "Aguascalientes       96.175962   95.507832   95.996664   95.111130   \n",
       "Baja California      93.245141   99.193865   99.493021  101.353295   \n",
       "Baja California Sur  89.784475   91.088733   90.782323   97.999908   \n",
       "Chihuahua            93.566102   98.652964  101.408798  105.066204   \n",
       "Ciudad de México     97.782447   97.794748   96.313662  103.075883   \n",
       "Coahuila             94.255079   97.403760   97.212114  101.130837   \n",
       "Guanajuato           97.133724   98.863583  100.730802  100.739350   \n",
       "Jalisco              94.911804   95.314914   98.272938  101.057185   \n",
       "Nuevo León           92.681123   94.874125   95.210119   96.778259   \n",
       "Querétaro            95.232673   95.458744   96.657472   99.913857   \n",
       "Sinaloa              95.095665   99.338179   93.603748  105.364968   \n",
       "Sonora               98.326493  104.746367   97.413579  100.662367   \n",
       "Tamaulipas           98.105340   97.549023   97.237779   94.764121   \n",
       "\n",
       "Año                      2018.1      2018.2      2018.3      2018.4  \\\n",
       "Estado                                                                \n",
       "Aguascalientes        97.668156   98.625646  100.460899  103.245299   \n",
       "Baja California       95.640723  101.885834  100.413638  102.059805   \n",
       "Baja California Sur   98.495042   99.769284   97.015589  104.720085   \n",
       "Chihuahua             91.825883   98.808291  102.125934  107.239891   \n",
       "Ciudad de México      95.519800   98.416538   99.951451  106.112210   \n",
       "Coahuila              97.811427   98.835615  101.828604  101.524354   \n",
       "Guanajuato            97.005924  102.650540  100.104081  100.239456   \n",
       "Jalisco               98.661376   99.966629   99.897308  101.474686   \n",
       "Nuevo León            94.983667  100.185437  101.342261  103.488635   \n",
       "Querétaro             98.384199  100.041522  100.772236  100.802042   \n",
       "Sinaloa              100.392046  100.912471   93.855399  104.840084   \n",
       "Sonora                97.663855  103.711880   97.551063  101.073202   \n",
       "Tamaulipas            97.927449  101.780539  100.524219   99.767793   \n",
       "\n",
       "Año                      2019.1      2019.2      2019.3      2019.4  \\\n",
       "Estado                                                                \n",
       "Aguascalientes        95.981039   99.657753  100.564466  102.793220   \n",
       "Baja California       98.977542  104.889422  102.693093  101.576134   \n",
       "Baja California Sur   96.516448   96.893631   95.748762   99.831644   \n",
       "Chihuahua             96.133944  100.528476  101.857795  105.981354   \n",
       "Ciudad de México      98.575693   97.779954   99.976521  102.907713   \n",
       "Coahuila              97.963581  102.668620  103.418274   99.062729   \n",
       "Guanajuato            94.489775  101.361828   99.597469   97.671202   \n",
       "Jalisco               99.435297  100.908182  100.383243  101.611168   \n",
       "Nuevo León           100.676502  102.798927  102.426977  101.362761   \n",
       "Querétaro             97.241729   98.699147   99.004037   99.619027   \n",
       "Sinaloa              101.341781   98.796005   92.682434  105.012549   \n",
       "Sonora                98.591016  104.096558   99.774229   99.283366   \n",
       "Tamaulipas           102.467692  101.810114  104.262681  102.505685   \n",
       "\n",
       "Año                      2020.1     2020.2     2020.3      2020.4     2021.1  \\\n",
       "Estado                                                                         \n",
       "Aguascalientes        98.675903  73.729093  96.458415  102.882710  98.711959   \n",
       "Baja California       97.355694  82.134287  98.847644  102.255732  98.455643   \n",
       "Baja California Sur   93.427097  69.083873  80.912739   89.613620  81.514729   \n",
       "Chihuahua             95.245216  83.292836  98.485266  103.467217  92.238174   \n",
       "Ciudad de México      93.134078  78.082329  88.790828   97.234226  93.679010   \n",
       "Coahuila              93.615271  69.778006  94.302804   99.231011  92.360668   \n",
       "Guanajuato            96.589744  75.037299  95.677725   99.348217  96.625919   \n",
       "Jalisco               96.670156  82.427553  91.381592   98.512928  95.107984   \n",
       "Nuevo León            97.813803  79.682585  92.910450   98.925693  96.113223   \n",
       "Querétaro             95.154033  77.705215  90.318026   95.695474  92.425881   \n",
       "Sinaloa               99.355653  82.125990  86.331937  100.772852  95.419634   \n",
       "Sonora               101.041714  86.847934  94.094213   96.907866  94.762975   \n",
       "Tamaulipas           102.540047  85.560555  94.555884   96.598145  98.179493   \n",
       "\n",
       "Año                      2021.2      2021.3      2021.4      2022.1  \\\n",
       "Estado                                                                \n",
       "Aguascalientes        96.182298   92.021761   95.661748   95.768809   \n",
       "Baja California      103.485270  103.145248  105.546059  101.446415   \n",
       "Baja California Sur   92.558445   96.184966   98.710649   87.842607   \n",
       "Chihuahua             98.052492  102.203454  105.716423   98.422538   \n",
       "Ciudad de México      95.973467   92.183007   95.066781   96.257033   \n",
       "Coahuila             101.159169   90.903707   94.306378   92.760187   \n",
       "Guanajuato            97.972857   97.441906   98.466570   96.919569   \n",
       "Jalisco               95.968818   95.453131  100.080111   98.201527   \n",
       "Nuevo León            98.914952   99.412021  100.300896   99.356245   \n",
       "Querétaro             92.700370   95.390108   94.637770   92.396733   \n",
       "Sinaloa               94.353817   90.081093  103.966625   94.618904   \n",
       "Sonora               101.741471   96.323702   99.836344  100.639402   \n",
       "Tamaulipas            96.761528  100.279818   99.471520  100.189828   \n",
       "\n",
       "Año                      2022.2      2022.3      2022.4      2023.1  \\\n",
       "Estado                                                                \n",
       "Aguascalientes        97.330410   97.149796   96.634084   97.854224   \n",
       "Baja California      105.772535  106.714092  108.372620  104.452911   \n",
       "Baja California Sur   95.115418   98.984009  100.496774   91.962199   \n",
       "Chihuahua            106.736820  111.394681  113.807287  102.818079   \n",
       "Ciudad de México      98.430113   97.571010  100.896115   99.924236   \n",
       "Coahuila              94.904023   93.666268   99.480791   95.620528   \n",
       "Guanajuato           100.051612  102.184569  102.706654   98.488583   \n",
       "Jalisco               99.313970  101.711836  107.000544  100.687472   \n",
       "Nuevo León           101.841720  102.200374  104.292072  102.118597   \n",
       "Querétaro             96.413476   97.743111   99.498938   96.277319   \n",
       "Sinaloa               95.798479   92.979116  107.510503   97.297319   \n",
       "Sonora               104.243137  100.632707  103.984867  103.805158   \n",
       "Tamaulipas           103.325239  103.164608  100.855572  100.000315   \n",
       "\n",
       "Año                      2023.2      2023.3      2023.4  \n",
       "Estado                                                   \n",
       "Aguascalientes       101.433713  104.703922  103.131586  \n",
       "Baja California      109.288126  109.523565  111.277189  \n",
       "Baja California Sur   96.374640   99.460186  102.728383  \n",
       "Chihuahua            109.146798  114.074210  116.076555  \n",
       "Ciudad de México     102.122473  102.385590  103.533635  \n",
       "Coahuila              96.015021   94.829224   98.751660  \n",
       "Guanajuato           100.470970  102.140009  106.445667  \n",
       "Jalisco              102.108803  102.582291  108.820889  \n",
       "Nuevo León           102.702794  106.064328  108.861150  \n",
       "Querétaro             97.743483  102.071293  103.437613  \n",
       "Sinaloa               98.413511   95.029041  102.617745  \n",
       "Sonora               109.556349  107.942763  108.360985  \n",
       "Tamaulipas           100.282690  102.685662  100.417648  "
      ]
     },
     "execution_count": 39,
     "metadata": {},
     "output_type": "execute_result"
    }
   ],
   "source": [
    "#Valores post-temblor\n",
    "fuente.iloc[ : , fuente.columns >= 2017]#.values"
   ]
  },
  {
   "cell_type": "code",
   "execution_count": 40,
   "metadata": {},
   "outputs": [],
   "source": [
    "## creating required features\n",
    "features      = fuente.iloc[ : , fuente.columns <= 2017.9].values #\n",
    "targets       = fuente.iloc[ : , fuente.columns > 2017.9].values #\n",
    "treated_units = [idx for idx, val in enumerate(fuente.index.values) if val == 'Ciudad de México'] # [2]\n",
    "\n",
    "## Fit fast model for fitting Synthetic controls #\n",
    "sc_model = SparseSC.fit_fast( features      = features,\n",
    "                              targets       = targets,\n",
    "                              treated_units = treated_units )"
   ]
  },
  {
   "cell_type": "code",
   "execution_count": 41,
   "metadata": {},
   "outputs": [
    {
     "data": {
      "text/html": [
       "<div>\n",
       "<style scoped>\n",
       "    .dataframe tbody tr th:only-of-type {\n",
       "        vertical-align: middle;\n",
       "    }\n",
       "\n",
       "    .dataframe tbody tr th {\n",
       "        vertical-align: top;\n",
       "    }\n",
       "\n",
       "    .dataframe thead th {\n",
       "        text-align: right;\n",
       "    }\n",
       "</style>\n",
       "<table border=\"1\" class=\"dataframe\">\n",
       "  <thead>\n",
       "    <tr style=\"text-align: right;\">\n",
       "      <th></th>\n",
       "      <th>Año</th>\n",
       "      <th>Observado</th>\n",
       "    </tr>\n",
       "  </thead>\n",
       "  <tbody>\n",
       "    <tr>\n",
       "      <th>0</th>\n",
       "      <td>1980.1</td>\n",
       "      <td>48.457852</td>\n",
       "    </tr>\n",
       "    <tr>\n",
       "      <th>1</th>\n",
       "      <td>1980.2</td>\n",
       "      <td>47.803012</td>\n",
       "    </tr>\n",
       "    <tr>\n",
       "      <th>2</th>\n",
       "      <td>1980.3</td>\n",
       "      <td>47.949479</td>\n",
       "    </tr>\n",
       "    <tr>\n",
       "      <th>3</th>\n",
       "      <td>1980.4</td>\n",
       "      <td>53.374386</td>\n",
       "    </tr>\n",
       "    <tr>\n",
       "      <th>4</th>\n",
       "      <td>1981.1</td>\n",
       "      <td>53.677544</td>\n",
       "    </tr>\n",
       "  </tbody>\n",
       "</table>\n",
       "</div>"
      ],
      "text/plain": [
       "      Año  Observado\n",
       "0  1980.1  48.457852\n",
       "1  1980.2  47.803012\n",
       "2  1980.3  47.949479\n",
       "3  1980.4  53.374386\n",
       "4  1981.1  53.677544"
      ]
     },
     "execution_count": 41,
     "metadata": {},
     "output_type": "execute_result"
    }
   ],
   "source": [
    "#Valores del indice para Ciudad de México\n",
    "resultado = fuente.loc[ fuente.index == 'Ciudad de México' ].T.reset_index( drop = False )\n",
    "\n",
    "resultado.columns = [\"Año\", \"Observado\"] \n",
    "\n",
    "resultado.head()"
   ]
  },
  {
   "cell_type": "code",
   "execution_count": 42,
   "metadata": {},
   "outputs": [
    {
     "name": "stdout",
     "output_type": "stream",
     "text": [
      "[[0.         0.05459736 0.07137278 0.06481193 0.06461639 0.0684193\n",
      "  0.06354449 0.06641341 0.06739523 0.06406904 0.06256376 0.06133318]\n",
      " [0.12178128 0.         0.12339931 0.13431045 0.13463565 0.12831116\n",
      "  0.13641831 0.13164707 0.13001429 0.13554594 0.13804928 0.14009584]\n",
      " [0.0747705  0.05934049 0.         0.0682208  0.0680508  0.07135698\n",
      "  0.06711891 0.0696131  0.07046665 0.06757495 0.0662663  0.06519646]\n",
      " [0.0917458  0.09254575 0.09178964 0.         0.09209417 0.09192277\n",
      "  0.09214249 0.09201317 0.09196893 0.09211884 0.09218669 0.09224216]\n",
      " [0.09271095 0.10167683 0.09320244 0.09651677 0.09661554 0.09469445\n",
      "  0.09715704 0.09570774 0.09521179 0.09689204 0.09765247 0.09827415]\n",
      " [0.09227266 0.09357634 0.09234413 0.09282605 0.         0.09256107\n",
      "  0.09291914 0.09270841 0.09263629 0.09288061 0.09299119 0.09308159]\n",
      " [0.08226096 0.07399254 0.08180771 0.0787512  0.0786601  0.\n",
      "  0.07816074 0.07949728 0.07995467 0.0784051  0.07770385 0.07713055]\n",
      " [0.09518733 0.09927769 0.09541155 0.0969236  0.09696867 0.09609223\n",
      "  0.         0.09655451 0.09632825 0.09709481 0.09744173 0.09772534]\n",
      " [0.0874826  0.08420654 0.08730301 0.08609198 0.0860559  0.08675786\n",
      "  0.08585804 0.         0.08656882 0.08595486 0.08567701 0.08544987]\n",
      " [0.08491157 0.07917736 0.08459724 0.08247753 0.08241436 0.083643\n",
      "  0.08206805 0.08299493 0.         0.08223751 0.08175118 0.08135361]\n",
      " [0.09375529 0.09647651 0.09390447 0.0949104  0.09494038 0.09435731\n",
      "  0.09510472 0.09466485 0.09451433 0.         0.0952551  0.09544377]\n",
      " [0.09789549 0.10457513 0.09826165 0.10073085 0.10080444 0.0993732\n",
      "  0.10120788 0.10012813 0.09975863 0.10101044 0.         0.10204009]\n",
      " [0.10135446 0.11134121 0.10190191 0.10559362 0.10570364 0.1035638\n",
      "  0.1063068  0.10469246 0.10414004 0.10601162 0.10685862 0.        ]]\n"
     ]
    }
   ],
   "source": [
    "# Weights:\n",
    "\n",
    "W = sc_model.get_weights( include_trivial_donors = True )\n",
    "\n",
    "print(W)"
   ]
  },
  {
   "cell_type": "code",
   "execution_count": 43,
   "metadata": {},
   "outputs": [
    {
     "data": {
      "text/html": [
       "<div>\n",
       "<style scoped>\n",
       "    .dataframe tbody tr th:only-of-type {\n",
       "        vertical-align: middle;\n",
       "    }\n",
       "\n",
       "    .dataframe tbody tr th {\n",
       "        vertical-align: top;\n",
       "    }\n",
       "\n",
       "    .dataframe thead th {\n",
       "        text-align: right;\n",
       "    }\n",
       "</style>\n",
       "<table border=\"1\" class=\"dataframe\">\n",
       "  <thead>\n",
       "    <tr style=\"text-align: right;\">\n",
       "      <th></th>\n",
       "      <th>Año</th>\n",
       "      <th>Observado</th>\n",
       "      <th>Synthetic</th>\n",
       "    </tr>\n",
       "  </thead>\n",
       "  <tbody>\n",
       "    <tr>\n",
       "      <th>0</th>\n",
       "      <td>1980.1</td>\n",
       "      <td>48.457852</td>\n",
       "      <td>41.378519</td>\n",
       "    </tr>\n",
       "    <tr>\n",
       "      <th>1</th>\n",
       "      <td>1980.2</td>\n",
       "      <td>47.803012</td>\n",
       "      <td>41.392228</td>\n",
       "    </tr>\n",
       "    <tr>\n",
       "      <th>2</th>\n",
       "      <td>1980.3</td>\n",
       "      <td>47.949479</td>\n",
       "      <td>41.981625</td>\n",
       "    </tr>\n",
       "    <tr>\n",
       "      <th>3</th>\n",
       "      <td>1980.4</td>\n",
       "      <td>53.374386</td>\n",
       "      <td>43.828263</td>\n",
       "    </tr>\n",
       "    <tr>\n",
       "      <th>4</th>\n",
       "      <td>1981.1</td>\n",
       "      <td>53.677544</td>\n",
       "      <td>45.410873</td>\n",
       "    </tr>\n",
       "  </tbody>\n",
       "</table>\n",
       "</div>"
      ],
      "text/plain": [
       "      Año  Observado  Synthetic\n",
       "0  1980.1  48.457852  41.378519\n",
       "1  1980.2  47.803012  41.392228\n",
       "2  1980.3  47.949479  41.981625\n",
       "3  1980.4  53.374386  43.828263\n",
       "4  1981.1  53.677544  45.410873"
      ]
     },
     "execution_count": 43,
     "metadata": {},
     "output_type": "execute_result"
    }
   ],
   "source": [
    "# Predict:\n",
    "\n",
    "resultado['Synthetic'] = sc_model.predict( fuente.values )[ treated_units, : ][0]\n",
    "\n",
    "resultado.head(5)"
   ]
  },
  {
   "cell_type": "code",
   "execution_count": 44,
   "metadata": {},
   "outputs": [
    {
     "data": {
      "application/vnd.plotly.v1+json": {
       "config": {
        "plotlyServerURL": "https://plot.ly"
       },
       "data": [
        {
         "hovertemplate": "variable=Observado<br>Año=%{x}<br>value=%{y}<extra></extra>",
         "legendgroup": "Observado",
         "line": {
          "color": "#636efa",
          "dash": "solid"
         },
         "marker": {
          "symbol": "circle"
         },
         "mode": "lines",
         "name": "Observado",
         "orientation": "v",
         "showlegend": true,
         "type": "scatter",
         "x": [
          1980.1,
          1980.2,
          1980.3,
          1980.4,
          1981.1,
          1981.2,
          1981.3,
          1981.4,
          1982.1,
          1982.2,
          1982.3,
          1982.4,
          1983.1,
          1983.2,
          1983.3,
          1983.4,
          1984.1,
          1984.2,
          1984.3,
          1984.4,
          1985.1,
          1985.2,
          1985.3,
          1985.4,
          1986.1,
          1986.2,
          1986.3,
          1986.4,
          1987.1,
          1987.2,
          1987.3,
          1987.4,
          1988.1,
          1988.2,
          1988.3,
          1988.4,
          1989.1,
          1989.2,
          1989.3,
          1989.4,
          1990.1,
          1990.2,
          1990.3,
          1990.4,
          1991.1,
          1991.2,
          1991.3,
          1991.4,
          1992.1,
          1992.2,
          1992.3,
          1992.4,
          1993.1,
          1993.2,
          1993.3,
          1993.4,
          1994.1,
          1994.2,
          1994.3,
          1994.4,
          1995.1,
          1995.2,
          1995.3,
          1995.4,
          1996.1,
          1996.2,
          1996.3,
          1996.4,
          1997.1,
          1997.2,
          1997.3,
          1997.4,
          1998.1,
          1998.2,
          1998.3,
          1998.4,
          1999.1,
          1999.2,
          1999.3,
          1999.4,
          2000.1,
          2000.2,
          2000.3,
          2000.4,
          2001.1,
          2001.2,
          2001.3,
          2001.4,
          2002.1,
          2002.2,
          2002.3,
          2002.4,
          2003.1,
          2003.2,
          2003.3,
          2003.4,
          2004.1,
          2004.2,
          2004.3,
          2004.4,
          2005.1,
          2005.2,
          2005.3,
          2005.4,
          2006.1,
          2006.2,
          2006.3,
          2006.4,
          2007.1,
          2007.2,
          2007.3,
          2007.4,
          2008.1,
          2008.2,
          2008.3,
          2008.4,
          2009.1,
          2009.2,
          2009.3,
          2009.4,
          2010.1,
          2010.2,
          2010.3,
          2010.4,
          2011.1,
          2011.2,
          2011.3,
          2011.4,
          2012.1,
          2012.2,
          2012.3,
          2012.4,
          2013.1,
          2013.2,
          2013.3,
          2013.4,
          2014.1,
          2014.2,
          2014.3,
          2014.4,
          2015.1,
          2015.2,
          2015.3,
          2015.4,
          2016.1,
          2016.2,
          2016.3,
          2016.4,
          2017.1,
          2017.2,
          2017.3,
          2017.4,
          2018.1,
          2018.2,
          2018.3,
          2018.4,
          2019.1,
          2019.2,
          2019.3,
          2019.4,
          2020.1,
          2020.2,
          2020.3,
          2020.4,
          2021.1,
          2021.2,
          2021.3,
          2021.4,
          2022.1,
          2022.2,
          2022.3,
          2022.4,
          2023.1,
          2023.2,
          2023.3,
          2023.4
         ],
         "xaxis": "x",
         "y": [
          48.4578523144924,
          47.8030124299434,
          47.9494793408789,
          53.3743863944959,
          53.6775440377466,
          53.9044891216647,
          52.7684865554587,
          57.8922677253456,
          55.1242290447651,
          53.8915689686799,
          53.1065625263097,
          55.5031588256517,
          53.5738016747777,
          51.2233967476058,
          50.2151764621129,
          53.9460604821634,
          55.6383169051808,
          52.3167631667039,
          52.1627539141869,
          54.7787760810326,
          55.0696313843452,
          53.0916425314916,
          51.3132067976534,
          55.0930220913289,
          51.2961074384303,
          52.4580738825663,
          47.7781978846096,
          52.4098355321488,
          50.2773279598147,
          51.811952551392,
          48.2006997179684,
          54.3179640962703,
          51.0066683547564,
          51.8599764223403,
          47.6629010484658,
          54.118955051798,
          51.952505441235,
          54.2225974968913,
          50.2981997677217,
          55.628933117726,
          53.9063291238055,
          55.9233642450813,
          52.9502149517273,
          59.5201663559867,
          56.1002526478738,
          59.9433351893204,
          55.1919782014532,
          61.959856053762,
          59.1484809601795,
          60.9964325769809,
          57.4791550463187,
          63.4883807665732,
          60.9486262243695,
          64.1424232216216,
          63.3689037543724,
          65.5787635728522,
          62.0767169240007,
          66.6874952225524,
          65.7849347280924,
          69.1223489004714,
          61.1999306315181,
          60.9991659785159,
          60.847008048279,
          64.0851823238849,
          61.245017356583,
          64.1985855336689,
          63.8799108698647,
          67.6622655894496,
          63.8579327927564,
          69.5580947912042,
          69.2058576541718,
          73.2266700141893,
          68.5948741838199,
          72.2622441959028,
          71.8835965991137,
          73.919032691137,
          70.0457061534956,
          74.1558119911709,
          74.3160736350048,
          76.8813539663949,
          75.263770037045,
          78.8575943584981,
          79.0831625443309,
          80.2449491033002,
          74.9467900692964,
          78.1360679323446,
          77.3271440807364,
          78.2819571332674,
          73.5568608280606,
          79.6408899673236,
          78.2566195394134,
          79.3160855067295,
          73.8135391166933,
          78.1277391282733,
          74.6914635648599,
          78.3209613672263,
          76.3199768771114,
          81.3692345473046,
          77.5006385421472,
          82.5401735051002,
          75.1684152769863,
          82.8363583057565,
          79.6456918459933,
          82.6929210804759,
          80.7998979388036,
          86.509954220529,
          83.5071632127663,
          85.031260479413,
          79.6331614303167,
          86.8121014101321,
          84.4317129573682,
          86.4563713705613,
          77.0094844493636,
          87.2176380437943,
          87.3812244415848,
          89.5469044855061,
          75.2672601772546,
          78.8850441637016,
          82.4954151654822,
          86.4654288273484,
          81.0235140359506,
          83.2878605682755,
          84.421690063216,
          88.5771624252039,
          83.8388136545365,
          84.9271210001942,
          88.7193008865762,
          91.8517100194378,
          87.7142893466796,
          88.796043366762,
          89.5160463035796,
          94.8922701193168,
          86.1456990971921,
          90.2989600794927,
          92.1261865333353,
          95.9255975616665,
          88.865385778879,
          91.1363858347726,
          92.7463264606672,
          97.3659925785018,
          91.6493012842658,
          94.2064848753726,
          94.9979678631313,
          98.7976909699158,
          92.0139580400497,
          95.8456433983961,
          95.8875422265075,
          103.273743255371,
          97.7824473939128,
          97.794748371717,
          96.3136624999479,
          103.075882564916,
          95.519800370789,
          98.4165380161561,
          99.9514513143535,
          106.112210298701,
          98.5756928378135,
          97.7799537834166,
          99.976521125357,
          102.907712774237,
          93.1340775303447,
          78.0823292941308,
          88.7908275039472,
          97.2342262715522,
          93.6790104039727,
          95.973467358659,
          92.1830065775818,
          95.0667808428676,
          96.2570325875139,
          98.4301126391284,
          97.5710097276608,
          100.896115280395,
          99.9242360604883,
          102.122473209427,
          102.385589638977,
          103.533634664433
         ],
         "yaxis": "y"
        },
        {
         "hovertemplate": "variable=Synthetic<br>Año=%{x}<br>value=%{y}<extra></extra>",
         "legendgroup": "Synthetic",
         "line": {
          "color": "#EF553B",
          "dash": "solid"
         },
         "marker": {
          "symbol": "circle"
         },
         "mode": "lines",
         "name": "Synthetic",
         "orientation": "v",
         "showlegend": true,
         "type": "scatter",
         "x": [
          1980.1,
          1980.2,
          1980.3,
          1980.4,
          1981.1,
          1981.2,
          1981.3,
          1981.4,
          1982.1,
          1982.2,
          1982.3,
          1982.4,
          1983.1,
          1983.2,
          1983.3,
          1983.4,
          1984.1,
          1984.2,
          1984.3,
          1984.4,
          1985.1,
          1985.2,
          1985.3,
          1985.4,
          1986.1,
          1986.2,
          1986.3,
          1986.4,
          1987.1,
          1987.2,
          1987.3,
          1987.4,
          1988.1,
          1988.2,
          1988.3,
          1988.4,
          1989.1,
          1989.2,
          1989.3,
          1989.4,
          1990.1,
          1990.2,
          1990.3,
          1990.4,
          1991.1,
          1991.2,
          1991.3,
          1991.4,
          1992.1,
          1992.2,
          1992.3,
          1992.4,
          1993.1,
          1993.2,
          1993.3,
          1993.4,
          1994.1,
          1994.2,
          1994.3,
          1994.4,
          1995.1,
          1995.2,
          1995.3,
          1995.4,
          1996.1,
          1996.2,
          1996.3,
          1996.4,
          1997.1,
          1997.2,
          1997.3,
          1997.4,
          1998.1,
          1998.2,
          1998.3,
          1998.4,
          1999.1,
          1999.2,
          1999.3,
          1999.4,
          2000.1,
          2000.2,
          2000.3,
          2000.4,
          2001.1,
          2001.2,
          2001.3,
          2001.4,
          2002.1,
          2002.2,
          2002.3,
          2002.4,
          2003.1,
          2003.2,
          2003.3,
          2003.4,
          2004.1,
          2004.2,
          2004.3,
          2004.4,
          2005.1,
          2005.2,
          2005.3,
          2005.4,
          2006.1,
          2006.2,
          2006.3,
          2006.4,
          2007.1,
          2007.2,
          2007.3,
          2007.4,
          2008.1,
          2008.2,
          2008.3,
          2008.4,
          2009.1,
          2009.2,
          2009.3,
          2009.4,
          2010.1,
          2010.2,
          2010.3,
          2010.4,
          2011.1,
          2011.2,
          2011.3,
          2011.4,
          2012.1,
          2012.2,
          2012.3,
          2012.4,
          2013.1,
          2013.2,
          2013.3,
          2013.4,
          2014.1,
          2014.2,
          2014.3,
          2014.4,
          2015.1,
          2015.2,
          2015.3,
          2015.4,
          2016.1,
          2016.2,
          2016.3,
          2016.4,
          2017.1,
          2017.2,
          2017.3,
          2017.4,
          2018.1,
          2018.2,
          2018.3,
          2018.4,
          2019.1,
          2019.2,
          2019.3,
          2019.4,
          2020.1,
          2020.2,
          2020.3,
          2020.4,
          2021.1,
          2021.2,
          2021.3,
          2021.4,
          2022.1,
          2022.2,
          2022.3,
          2022.4,
          2023.1,
          2023.2,
          2023.3,
          2023.4
         ],
         "xaxis": "x",
         "y": [
          41.378518821513836,
          41.39222828081186,
          41.981624995777814,
          43.82826297612258,
          45.4108731448986,
          46.84659931706766,
          46.72197038243973,
          47.49391441562252,
          47.2798715107273,
          47.30022236088632,
          46.3466195301438,
          45.18266421130692,
          44.21492461037072,
          43.78671749944216,
          43.23070055431701,
          44.230017886384566,
          45.66135340826812,
          45.293019186375794,
          45.56458180104805,
          46.051173838006676,
          47.035066701257435,
          47.0890422305766,
          46.289864639744486,
          46.94870873205213,
          45.09254839045464,
          46.31276193740442,
          43.23743511790712,
          43.69473473089539,
          44.27619126596102,
          46.50580200687178,
          45.22922439970068,
          46.871212051134236,
          46.021909970002994,
          47.03427889606391,
          44.87631696610924,
          47.13537529620405,
          47.09553302958046,
          49.180699237338814,
          47.47664518026001,
          48.40477294730426,
          49.596421392332005,
          51.34947102469255,
          50.12020827745485,
          52.582780578699285,
          51.14949875080845,
          54.24960728780635,
          51.71951881028108,
          54.91927285424502,
          53.93851307703451,
          55.58961120914871,
          54.8161171634896,
          56.61514819908846,
          55.38884135226177,
          55.95233586855672,
          56.91715810023119,
          57.77317119147336,
          56.92065491207123,
          59.22819775020869,
          59.41011144842721,
          60.96014216168411,
          56.88561822988715,
          54.00134371767587,
          55.39207968341846,
          57.4715340566866,
          58.691839420572066,
          59.2410845198124,
          60.512425435329895,
          63.153681837252634,
          61.74433362338228,
          64.96751811810658,
          66.1288192481899,
          68.56482014756291,
          68.84835875753568,
          69.61843758823866,
          70.85614656284459,
          71.10492518047937,
          71.55426648937117,
          72.17364255781132,
          73.84730143946263,
          74.3398028416775,
          76.76122156008044,
          77.48547810927998,
          79.08316253409468,
          77.97857738164213,
          75.73444423286088,
          76.12139030346346,
          76.84230104554429,
          76.21242868784447,
          72.38363916325336,
          76.38519032290833,
          76.82465607519548,
          77.45489186305397,
          75.79119974188131,
          76.54017003013628,
          76.91983648675874,
          77.95898965223756,
          77.88860810085399,
          80.20113273160166,
          80.0033652912921,
          81.49481201558214,
          79.22071310839702,
          82.21882263970751,
          81.60947760441877,
          85.35805460007316,
          84.44595786273786,
          87.04690015988874,
          87.45869631016707,
          89.68945310820138,
          87.53899244249807,
          90.8946701522488,
          91.61594396182274,
          92.46005914802743,
          89.64620300119951,
          94.00063782824664,
          91.83519018823723,
          91.18130301882465,
          81.11575464432775,
          82.57575291828043,
          84.94693709779136,
          88.8860103003181,
          85.68684365010039,
          89.75713166312377,
          90.59162463693686,
          92.56583057381255,
          89.28520745658696,
          92.37474005377601,
          95.010803134745,
          97.6462444855867,
          95.4699745431404,
          97.95624740276111,
          97.59750518437271,
          99.90540101258432,
          95.33841807928133,
          99.7388740753719,
          98.71555493869414,
          102.04608850847113,
          98.13683654163016,
          102.24010561384569,
          102.55212638764671,
          106.01935313010027,
          102.6988263383247,
          106.31939271909314,
          107.55607389474356,
          109.99624275160656,
          105.85587025582383,
          109.49463764277684,
          109.46675398429348,
          113.49839150326153,
          109.71677508797951,
          112.59411432833026,
          112.19698739117362,
          115.65351455844213,
          112.38979305154295,
          116.3418438940484,
          115.23859218906418,
          118.55465110357066,
          113.72049512601387,
          116.93843176445256,
          115.89513921613256,
          117.21359799041205,
          112.52304162430929,
          91.39161437147399,
          107.42703984042222,
          114.13990025712636,
          109.12262337055394,
          112.7843594187096,
          111.71785378842283,
          115.37163366964589,
          111.70892274816202,
          115.78032950718001,
          116.50420149446633,
          119.99969149418477,
          114.86650376631016,
          117.96902290523161,
          119.63322376682544,
          122.50743695989628
         ],
         "yaxis": "y"
        },
        {
         "line": {
          "dash": "dash"
         },
         "name": "Temblor del 2017",
         "type": "scatter",
         "x": [
          2017.9,
          2017.9
         ],
         "y": [
          22.878192503263584,
          161.29055965402551
         ]
        },
        {
         "name": "Others (mean)",
         "type": "scatter",
         "x": [
          1980.1,
          1980.2,
          1980.3,
          1980.4,
          1981.1,
          1981.2,
          1981.3,
          1981.4,
          1982.1,
          1982.2,
          1982.3,
          1982.4,
          1983.1,
          1983.2,
          1983.3,
          1983.4,
          1984.1,
          1984.2,
          1984.3,
          1984.4,
          1985.1,
          1985.2,
          1985.3,
          1985.4,
          1986.1,
          1986.2,
          1986.3,
          1986.4,
          1987.1,
          1987.2,
          1987.3,
          1987.4,
          1988.1,
          1988.2,
          1988.3,
          1988.4,
          1989.1,
          1989.2,
          1989.3,
          1989.4,
          1990.1,
          1990.2,
          1990.3,
          1990.4,
          1991.1,
          1991.2,
          1991.3,
          1991.4,
          1992.1,
          1992.2,
          1992.3,
          1992.4,
          1993.1,
          1993.2,
          1993.3,
          1993.4,
          1994.1,
          1994.2,
          1994.3,
          1994.4,
          1995.1,
          1995.2,
          1995.3,
          1995.4,
          1996.1,
          1996.2,
          1996.3,
          1996.4,
          1997.1,
          1997.2,
          1997.3,
          1997.4,
          1998.1,
          1998.2,
          1998.3,
          1998.4,
          1999.1,
          1999.2,
          1999.3,
          1999.4,
          2000.1,
          2000.2,
          2000.3,
          2000.4,
          2001.1,
          2001.2,
          2001.3,
          2001.4,
          2002.1,
          2002.2,
          2002.3,
          2002.4,
          2003.1,
          2003.2,
          2003.3,
          2003.4,
          2004.1,
          2004.2,
          2004.3,
          2004.4,
          2005.1,
          2005.2,
          2005.3,
          2005.4,
          2006.1,
          2006.2,
          2006.3,
          2006.4,
          2007.1,
          2007.2,
          2007.3,
          2007.4,
          2008.1,
          2008.2,
          2008.3,
          2008.4,
          2009.1,
          2009.2,
          2009.3,
          2009.4,
          2010.1,
          2010.2,
          2010.3,
          2010.4,
          2011.1,
          2011.2,
          2011.3,
          2011.4,
          2012.1,
          2012.2,
          2012.3,
          2012.4,
          2013.1,
          2013.2,
          2013.3,
          2013.4,
          2014.1,
          2014.2,
          2014.3,
          2014.4,
          2015.1,
          2015.2,
          2015.3,
          2015.4,
          2016.1,
          2016.2,
          2016.3,
          2016.4,
          2017.1,
          2017.2,
          2017.3,
          2017.4,
          2018.1,
          2018.2,
          2018.3,
          2018.4,
          2019.1,
          2019.2,
          2019.3,
          2019.4,
          2020.1,
          2020.2,
          2020.3,
          2020.4,
          2021.1,
          2021.2,
          2021.3,
          2021.4,
          2022.1,
          2022.2,
          2022.3,
          2022.4,
          2023.1,
          2023.2,
          2023.3,
          2023.4
         ],
         "y": [
          35.65202033176978,
          35.65732626306214,
          36.15493787212366,
          37.75343922610194,
          39.12438157927598,
          40.350571362147186,
          40.231360820368,
          40.90891578341188,
          40.73416811385923,
          40.74309214503259,
          39.91298376766161,
          38.92530432124792,
          38.105155064631795,
          37.72890340875869,
          37.24151797727533,
          38.1121233476186,
          39.35383387710019,
          39.02727962216613,
          39.25000840583989,
          39.67821615197495,
          40.53463458526165,
          40.57406655847357,
          39.8740270372964,
          40.45355124401484,
          38.86701583858391,
          39.91217351924848,
          37.25737468043652,
          37.665393593182436,
          38.17041977658068,
          40.0820007938234,
          38.969399341852274,
          40.39640656512922,
          39.673205927060465,
          40.54017326755247,
          38.67108883601047,
          40.628275002869245,
          40.60198737042716,
          42.3903120151882,
          40.91110523571671,
          41.726407514051836,
          42.75610948672408,
          44.26064552163475,
          43.18540280465277,
          45.32307690750523,
          44.09944885958433,
          46.763420269031165,
          44.56951207596014,
          47.340316987743414,
          46.5084486640073,
          47.9225473647679,
          47.23664772864837,
          48.80358730211237,
          47.76365447908512,
          48.237324985017715,
          49.056742004029324,
          49.80217957728609,
          49.077103576494814,
          51.05300638025543,
          51.197330320074144,
          52.54392773757578,
          49.06254048167387,
          46.5648986001999,
          47.75322338760995,
          49.552874002387604,
          50.618236526817874,
          51.07723704572518,
          52.15960541795206,
          54.443896171852124,
          53.23404326496711,
          55.99726958185959,
          56.98248067147839,
          59.09286754642179,
          59.35744825103049,
          60.00704824667215,
          61.05864512141216,
          61.28444541429187,
          61.66285203552284,
          62.184860188188615,
          63.611778954491655,
          64.05133764649104,
          66.13865498014502,
          66.75050943617306,
          68.11033187633994,
          67.17934174694727,
          65.3098779996364,
          65.62947841948008,
          66.23509554862751,
          65.70577562357028,
          62.45274378704956,
          65.88686577223218,
          66.24686376537115,
          66.79767353686519,
          65.38182207998004,
          66.02736139919055,
          66.36614761047211,
          67.27606710659019,
          67.19245790813851,
          69.20237292084234,
          69.03215172947809,
          70.34403940560124,
          68.37353601787858,
          70.94235710583304,
          70.40814430582073,
          73.6587473386554,
          72.87310912052969,
          75.1141559376345,
          75.46251377412615,
          77.40891738773115,
          75.57781432678965,
          78.46250437309311,
          79.09942615094072,
          79.82506448428477,
          77.40405518033057,
          81.16268810213077,
          79.29638973531307,
          78.74855521511127,
          70.07750752277616,
          71.31966968659206,
          73.3775863021663,
          76.79755622369716,
          74.04424353812934,
          77.53677403410141,
          78.27521634113745,
          79.9939757505457,
          77.17064496976155,
          79.82656769608002,
          82.100689178224,
          84.39583783929942,
          82.50739575233303,
          84.63924446166725,
          84.33905394897873,
          86.35117333028934,
          82.3988408437274,
          86.17332492774516,
          85.30379102306436,
          88.20568848981988,
          84.8459431962076,
          88.36648026638181,
          88.63418814016687,
          91.64376226084505,
          88.78079018529348,
          91.91836401917226,
          92.9705324308136,
          95.0893381078378,
          91.51722048464889,
          94.65538604451046,
          94.62191218357343,
          98.13195115994256,
          94.87613177210874,
          97.33267415623739,
          97.0016132280494,
          99.9951234668634,
          97.20497885212588,
          100.59780736610843,
          99.6576025716796,
          102.53961121008611,
          98.31802895439715,
          101.0923884854535,
          100.201121733041,
          101.3592365102482,
          97.29036091960204,
          78.95043536877895,
          92.8563911731909,
          98.68428871686211,
          94.32635669933842,
          97.48762389428252,
          96.57007630127072,
          99.72509109773654,
          96.54689717558847,
          100.07056981488863,
          100.71043077474381,
          103.72005899397014,
          99.28189189897267,
          101.96140817400097,
          103.42554128918947,
          105.91058910347216
         ]
        }
       ],
       "layout": {
        "font": {
         "size": 15
        },
        "legend": {
         "orientation": "v",
         "title": {
          "text": ""
         },
         "tracegroupgap": 0,
         "x": 0.8,
         "y": 1
        },
        "margin": {
         "t": 60
        },
        "template": {
         "data": {
          "bar": [
           {
            "error_x": {
             "color": "#2a3f5f"
            },
            "error_y": {
             "color": "#2a3f5f"
            },
            "marker": {
             "line": {
              "color": "white",
              "width": 0.5
             },
             "pattern": {
              "fillmode": "overlay",
              "size": 10,
              "solidity": 0.2
             }
            },
            "type": "bar"
           }
          ],
          "barpolar": [
           {
            "marker": {
             "line": {
              "color": "white",
              "width": 0.5
             },
             "pattern": {
              "fillmode": "overlay",
              "size": 10,
              "solidity": 0.2
             }
            },
            "type": "barpolar"
           }
          ],
          "carpet": [
           {
            "aaxis": {
             "endlinecolor": "#2a3f5f",
             "gridcolor": "#C8D4E3",
             "linecolor": "#C8D4E3",
             "minorgridcolor": "#C8D4E3",
             "startlinecolor": "#2a3f5f"
            },
            "baxis": {
             "endlinecolor": "#2a3f5f",
             "gridcolor": "#C8D4E3",
             "linecolor": "#C8D4E3",
             "minorgridcolor": "#C8D4E3",
             "startlinecolor": "#2a3f5f"
            },
            "type": "carpet"
           }
          ],
          "choropleth": [
           {
            "colorbar": {
             "outlinewidth": 0,
             "ticks": ""
            },
            "type": "choropleth"
           }
          ],
          "contour": [
           {
            "colorbar": {
             "outlinewidth": 0,
             "ticks": ""
            },
            "colorscale": [
             [
              0,
              "#0d0887"
             ],
             [
              0.1111111111111111,
              "#46039f"
             ],
             [
              0.2222222222222222,
              "#7201a8"
             ],
             [
              0.3333333333333333,
              "#9c179e"
             ],
             [
              0.4444444444444444,
              "#bd3786"
             ],
             [
              0.5555555555555556,
              "#d8576b"
             ],
             [
              0.6666666666666666,
              "#ed7953"
             ],
             [
              0.7777777777777778,
              "#fb9f3a"
             ],
             [
              0.8888888888888888,
              "#fdca26"
             ],
             [
              1,
              "#f0f921"
             ]
            ],
            "type": "contour"
           }
          ],
          "contourcarpet": [
           {
            "colorbar": {
             "outlinewidth": 0,
             "ticks": ""
            },
            "type": "contourcarpet"
           }
          ],
          "heatmap": [
           {
            "colorbar": {
             "outlinewidth": 0,
             "ticks": ""
            },
            "colorscale": [
             [
              0,
              "#0d0887"
             ],
             [
              0.1111111111111111,
              "#46039f"
             ],
             [
              0.2222222222222222,
              "#7201a8"
             ],
             [
              0.3333333333333333,
              "#9c179e"
             ],
             [
              0.4444444444444444,
              "#bd3786"
             ],
             [
              0.5555555555555556,
              "#d8576b"
             ],
             [
              0.6666666666666666,
              "#ed7953"
             ],
             [
              0.7777777777777778,
              "#fb9f3a"
             ],
             [
              0.8888888888888888,
              "#fdca26"
             ],
             [
              1,
              "#f0f921"
             ]
            ],
            "type": "heatmap"
           }
          ],
          "heatmapgl": [
           {
            "colorbar": {
             "outlinewidth": 0,
             "ticks": ""
            },
            "colorscale": [
             [
              0,
              "#0d0887"
             ],
             [
              0.1111111111111111,
              "#46039f"
             ],
             [
              0.2222222222222222,
              "#7201a8"
             ],
             [
              0.3333333333333333,
              "#9c179e"
             ],
             [
              0.4444444444444444,
              "#bd3786"
             ],
             [
              0.5555555555555556,
              "#d8576b"
             ],
             [
              0.6666666666666666,
              "#ed7953"
             ],
             [
              0.7777777777777778,
              "#fb9f3a"
             ],
             [
              0.8888888888888888,
              "#fdca26"
             ],
             [
              1,
              "#f0f921"
             ]
            ],
            "type": "heatmapgl"
           }
          ],
          "histogram": [
           {
            "marker": {
             "pattern": {
              "fillmode": "overlay",
              "size": 10,
              "solidity": 0.2
             }
            },
            "type": "histogram"
           }
          ],
          "histogram2d": [
           {
            "colorbar": {
             "outlinewidth": 0,
             "ticks": ""
            },
            "colorscale": [
             [
              0,
              "#0d0887"
             ],
             [
              0.1111111111111111,
              "#46039f"
             ],
             [
              0.2222222222222222,
              "#7201a8"
             ],
             [
              0.3333333333333333,
              "#9c179e"
             ],
             [
              0.4444444444444444,
              "#bd3786"
             ],
             [
              0.5555555555555556,
              "#d8576b"
             ],
             [
              0.6666666666666666,
              "#ed7953"
             ],
             [
              0.7777777777777778,
              "#fb9f3a"
             ],
             [
              0.8888888888888888,
              "#fdca26"
             ],
             [
              1,
              "#f0f921"
             ]
            ],
            "type": "histogram2d"
           }
          ],
          "histogram2dcontour": [
           {
            "colorbar": {
             "outlinewidth": 0,
             "ticks": ""
            },
            "colorscale": [
             [
              0,
              "#0d0887"
             ],
             [
              0.1111111111111111,
              "#46039f"
             ],
             [
              0.2222222222222222,
              "#7201a8"
             ],
             [
              0.3333333333333333,
              "#9c179e"
             ],
             [
              0.4444444444444444,
              "#bd3786"
             ],
             [
              0.5555555555555556,
              "#d8576b"
             ],
             [
              0.6666666666666666,
              "#ed7953"
             ],
             [
              0.7777777777777778,
              "#fb9f3a"
             ],
             [
              0.8888888888888888,
              "#fdca26"
             ],
             [
              1,
              "#f0f921"
             ]
            ],
            "type": "histogram2dcontour"
           }
          ],
          "mesh3d": [
           {
            "colorbar": {
             "outlinewidth": 0,
             "ticks": ""
            },
            "type": "mesh3d"
           }
          ],
          "parcoords": [
           {
            "line": {
             "colorbar": {
              "outlinewidth": 0,
              "ticks": ""
             }
            },
            "type": "parcoords"
           }
          ],
          "pie": [
           {
            "automargin": true,
            "type": "pie"
           }
          ],
          "scatter": [
           {
            "fillpattern": {
             "fillmode": "overlay",
             "size": 10,
             "solidity": 0.2
            },
            "type": "scatter"
           }
          ],
          "scatter3d": [
           {
            "line": {
             "colorbar": {
              "outlinewidth": 0,
              "ticks": ""
             }
            },
            "marker": {
             "colorbar": {
              "outlinewidth": 0,
              "ticks": ""
             }
            },
            "type": "scatter3d"
           }
          ],
          "scattercarpet": [
           {
            "marker": {
             "colorbar": {
              "outlinewidth": 0,
              "ticks": ""
             }
            },
            "type": "scattercarpet"
           }
          ],
          "scattergeo": [
           {
            "marker": {
             "colorbar": {
              "outlinewidth": 0,
              "ticks": ""
             }
            },
            "type": "scattergeo"
           }
          ],
          "scattergl": [
           {
            "marker": {
             "colorbar": {
              "outlinewidth": 0,
              "ticks": ""
             }
            },
            "type": "scattergl"
           }
          ],
          "scattermapbox": [
           {
            "marker": {
             "colorbar": {
              "outlinewidth": 0,
              "ticks": ""
             }
            },
            "type": "scattermapbox"
           }
          ],
          "scatterpolar": [
           {
            "marker": {
             "colorbar": {
              "outlinewidth": 0,
              "ticks": ""
             }
            },
            "type": "scatterpolar"
           }
          ],
          "scatterpolargl": [
           {
            "marker": {
             "colorbar": {
              "outlinewidth": 0,
              "ticks": ""
             }
            },
            "type": "scatterpolargl"
           }
          ],
          "scatterternary": [
           {
            "marker": {
             "colorbar": {
              "outlinewidth": 0,
              "ticks": ""
             }
            },
            "type": "scatterternary"
           }
          ],
          "surface": [
           {
            "colorbar": {
             "outlinewidth": 0,
             "ticks": ""
            },
            "colorscale": [
             [
              0,
              "#0d0887"
             ],
             [
              0.1111111111111111,
              "#46039f"
             ],
             [
              0.2222222222222222,
              "#7201a8"
             ],
             [
              0.3333333333333333,
              "#9c179e"
             ],
             [
              0.4444444444444444,
              "#bd3786"
             ],
             [
              0.5555555555555556,
              "#d8576b"
             ],
             [
              0.6666666666666666,
              "#ed7953"
             ],
             [
              0.7777777777777778,
              "#fb9f3a"
             ],
             [
              0.8888888888888888,
              "#fdca26"
             ],
             [
              1,
              "#f0f921"
             ]
            ],
            "type": "surface"
           }
          ],
          "table": [
           {
            "cells": {
             "fill": {
              "color": "#EBF0F8"
             },
             "line": {
              "color": "white"
             }
            },
            "header": {
             "fill": {
              "color": "#C8D4E3"
             },
             "line": {
              "color": "white"
             }
            },
            "type": "table"
           }
          ]
         },
         "layout": {
          "annotationdefaults": {
           "arrowcolor": "#2a3f5f",
           "arrowhead": 0,
           "arrowwidth": 1
          },
          "autotypenumbers": "strict",
          "coloraxis": {
           "colorbar": {
            "outlinewidth": 0,
            "ticks": ""
           }
          },
          "colorscale": {
           "diverging": [
            [
             0,
             "#8e0152"
            ],
            [
             0.1,
             "#c51b7d"
            ],
            [
             0.2,
             "#de77ae"
            ],
            [
             0.3,
             "#f1b6da"
            ],
            [
             0.4,
             "#fde0ef"
            ],
            [
             0.5,
             "#f7f7f7"
            ],
            [
             0.6,
             "#e6f5d0"
            ],
            [
             0.7,
             "#b8e186"
            ],
            [
             0.8,
             "#7fbc41"
            ],
            [
             0.9,
             "#4d9221"
            ],
            [
             1,
             "#276419"
            ]
           ],
           "sequential": [
            [
             0,
             "#0d0887"
            ],
            [
             0.1111111111111111,
             "#46039f"
            ],
            [
             0.2222222222222222,
             "#7201a8"
            ],
            [
             0.3333333333333333,
             "#9c179e"
            ],
            [
             0.4444444444444444,
             "#bd3786"
            ],
            [
             0.5555555555555556,
             "#d8576b"
            ],
            [
             0.6666666666666666,
             "#ed7953"
            ],
            [
             0.7777777777777778,
             "#fb9f3a"
            ],
            [
             0.8888888888888888,
             "#fdca26"
            ],
            [
             1,
             "#f0f921"
            ]
           ],
           "sequentialminus": [
            [
             0,
             "#0d0887"
            ],
            [
             0.1111111111111111,
             "#46039f"
            ],
            [
             0.2222222222222222,
             "#7201a8"
            ],
            [
             0.3333333333333333,
             "#9c179e"
            ],
            [
             0.4444444444444444,
             "#bd3786"
            ],
            [
             0.5555555555555556,
             "#d8576b"
            ],
            [
             0.6666666666666666,
             "#ed7953"
            ],
            [
             0.7777777777777778,
             "#fb9f3a"
            ],
            [
             0.8888888888888888,
             "#fdca26"
            ],
            [
             1,
             "#f0f921"
            ]
           ]
          },
          "colorway": [
           "#636efa",
           "#EF553B",
           "#00cc96",
           "#ab63fa",
           "#FFA15A",
           "#19d3f3",
           "#FF6692",
           "#B6E880",
           "#FF97FF",
           "#FECB52"
          ],
          "font": {
           "color": "#2a3f5f"
          },
          "geo": {
           "bgcolor": "white",
           "lakecolor": "white",
           "landcolor": "white",
           "showlakes": true,
           "showland": true,
           "subunitcolor": "#C8D4E3"
          },
          "hoverlabel": {
           "align": "left"
          },
          "hovermode": "closest",
          "mapbox": {
           "style": "light"
          },
          "paper_bgcolor": "white",
          "plot_bgcolor": "white",
          "polar": {
           "angularaxis": {
            "gridcolor": "#EBF0F8",
            "linecolor": "#EBF0F8",
            "ticks": ""
           },
           "bgcolor": "white",
           "radialaxis": {
            "gridcolor": "#EBF0F8",
            "linecolor": "#EBF0F8",
            "ticks": ""
           }
          },
          "scene": {
           "xaxis": {
            "backgroundcolor": "white",
            "gridcolor": "#DFE8F3",
            "gridwidth": 2,
            "linecolor": "#EBF0F8",
            "showbackground": true,
            "ticks": "",
            "zerolinecolor": "#EBF0F8"
           },
           "yaxis": {
            "backgroundcolor": "white",
            "gridcolor": "#DFE8F3",
            "gridwidth": 2,
            "linecolor": "#EBF0F8",
            "showbackground": true,
            "ticks": "",
            "zerolinecolor": "#EBF0F8"
           },
           "zaxis": {
            "backgroundcolor": "white",
            "gridcolor": "#DFE8F3",
            "gridwidth": 2,
            "linecolor": "#EBF0F8",
            "showbackground": true,
            "ticks": "",
            "zerolinecolor": "#EBF0F8"
           }
          },
          "shapedefaults": {
           "line": {
            "color": "#2a3f5f"
           }
          },
          "ternary": {
           "aaxis": {
            "gridcolor": "#DFE8F3",
            "linecolor": "#A2B1C6",
            "ticks": ""
           },
           "baxis": {
            "gridcolor": "#DFE8F3",
            "linecolor": "#A2B1C6",
            "ticks": ""
           },
           "bgcolor": "white",
           "caxis": {
            "gridcolor": "#DFE8F3",
            "linecolor": "#A2B1C6",
            "ticks": ""
           }
          },
          "title": {
           "x": 0.05
          },
          "xaxis": {
           "automargin": true,
           "gridcolor": "#EBF0F8",
           "linecolor": "#EBF0F8",
           "ticks": "",
           "title": {
            "standoff": 15
           },
           "zerolinecolor": "#EBF0F8",
           "zerolinewidth": 2
          },
          "yaxis": {
           "automargin": true,
           "gridcolor": "#EBF0F8",
           "linecolor": "#EBF0F8",
           "ticks": "",
           "title": {
            "standoff": 15
           },
           "zerolinecolor": "#EBF0F8",
           "zerolinewidth": 2
          }
         }
        },
        "title": {
         "text": "Synthetic Control Assessment",
         "x": 0.5,
         "y": 0.95
        },
        "xaxis": {
         "anchor": "y",
         "domain": [
          0,
          1
         ],
         "title": {
          "text": "Año"
         }
        },
        "yaxis": {
         "anchor": "x",
         "domain": [
          0,
          1
         ],
         "title": {
          "text": "Indice de Actividad Económica Trimestral"
         }
        }
       }
      }
     },
     "metadata": {},
     "output_type": "display_data"
    }
   ],
   "source": [
    "# Plot:\n",
    "fig = px.line( data_frame = resultado, \n",
    "               x = \"Año\", y = [\"Observado\" , \"Synthetic\"], \n",
    "               template = \"plotly_white\", )\n",
    "\n",
    "fig.add_trace( pgo.Scatter( x = [2017.9, 2017.9],\n",
    "                            y = [resultado.Observado.min()*0.48, resultado.Observado.max()*1.52], \n",
    "                            line = { 'dash': 'dash', }, name = 'Temblor del 2017' \n",
    "                          ))\n",
    "\n",
    "fig.add_trace( pgo.Scatter( x = resultado['Año'],\n",
    "                            y = plot_fuente['OtrosEstados'], name = 'Others (mean)' \n",
    "                          ))\n",
    "\n",
    "fig.update_layout( title = { 'text':\"Synthetic Control Assessment\", \n",
    "                             'y':0.95, 'x':0.5, }, \n",
    "                   legend = dict( y = 1, x = 0.8, orientation = 'v'),\n",
    "                   legend_title = \"\",\n",
    "                   xaxis_title = \"Año\", yaxis_title = \"Indice de Actividad Económica Trimestral\",\n",
    "                   font = dict( size = 15 ) )"
   ]
  },
  {
   "cell_type": "code",
   "execution_count": 45,
   "metadata": {},
   "outputs": [
    {
     "data": {
      "application/vnd.plotly.v1+json": {
       "config": {
        "plotlyServerURL": "https://plot.ly"
       },
       "data": [
        {
         "hovertemplate": "Año=%{x}<br>Temblor del 2017=%{y}<extra></extra>",
         "legendgroup": "",
         "line": {
          "color": "#636efa",
          "dash": "solid"
         },
         "marker": {
          "symbol": "circle"
         },
         "mode": "lines",
         "name": "",
         "orientation": "v",
         "showlegend": false,
         "type": "scatter",
         "x": [
          1980.1,
          1980.2,
          1980.3,
          1980.4,
          1981.1,
          1981.2,
          1981.3,
          1981.4,
          1982.1,
          1982.2,
          1982.3,
          1982.4,
          1983.1,
          1983.2,
          1983.3,
          1983.4,
          1984.1,
          1984.2,
          1984.3,
          1984.4,
          1985.1,
          1985.2,
          1985.3,
          1985.4,
          1986.1,
          1986.2,
          1986.3,
          1986.4,
          1987.1,
          1987.2,
          1987.3,
          1987.4,
          1988.1,
          1988.2,
          1988.3,
          1988.4,
          1989.1,
          1989.2,
          1989.3,
          1989.4,
          1990.1,
          1990.2,
          1990.3,
          1990.4,
          1991.1,
          1991.2,
          1991.3,
          1991.4,
          1992.1,
          1992.2,
          1992.3,
          1992.4,
          1993.1,
          1993.2,
          1993.3,
          1993.4,
          1994.1,
          1994.2,
          1994.3,
          1994.4,
          1995.1,
          1995.2,
          1995.3,
          1995.4,
          1996.1,
          1996.2,
          1996.3,
          1996.4,
          1997.1,
          1997.2,
          1997.3,
          1997.4,
          1998.1,
          1998.2,
          1998.3,
          1998.4,
          1999.1,
          1999.2,
          1999.3,
          1999.4,
          2000.1,
          2000.2,
          2000.3,
          2000.4,
          2001.1,
          2001.2,
          2001.3,
          2001.4,
          2002.1,
          2002.2,
          2002.3,
          2002.4,
          2003.1,
          2003.2,
          2003.3,
          2003.4,
          2004.1,
          2004.2,
          2004.3,
          2004.4,
          2005.1,
          2005.2,
          2005.3,
          2005.4,
          2006.1,
          2006.2,
          2006.3,
          2006.4,
          2007.1,
          2007.2,
          2007.3,
          2007.4,
          2008.1,
          2008.2,
          2008.3,
          2008.4,
          2009.1,
          2009.2,
          2009.3,
          2009.4,
          2010.1,
          2010.2,
          2010.3,
          2010.4,
          2011.1,
          2011.2,
          2011.3,
          2011.4,
          2012.1,
          2012.2,
          2012.3,
          2012.4,
          2013.1,
          2013.2,
          2013.3,
          2013.4,
          2014.1,
          2014.2,
          2014.3,
          2014.4,
          2015.1,
          2015.2,
          2015.3,
          2015.4,
          2016.1,
          2016.2,
          2016.3,
          2016.4,
          2017.1,
          2017.2,
          2017.3,
          2017.4,
          2018.1,
          2018.2,
          2018.3,
          2018.4,
          2019.1,
          2019.2,
          2019.3,
          2019.4,
          2020.1,
          2020.2,
          2020.3,
          2020.4,
          2021.1,
          2021.2,
          2021.3,
          2021.4,
          2022.1,
          2022.2,
          2022.3,
          2022.4,
          2023.1,
          2023.2,
          2023.3,
          2023.4
         ],
         "xaxis": "x",
         "y": [
          7.079333492978563,
          6.410784149131544,
          5.967854345101088,
          9.54612341837332,
          8.266670892847998,
          7.057889804597046,
          6.046516173018972,
          10.398353309723078,
          7.844357534037805,
          6.591346607793575,
          6.759942996165904,
          10.320494614344781,
          9.358877064406975,
          7.436679248163635,
          6.98447590779589,
          9.716042595778838,
          9.976963496912681,
          7.023743980328106,
          6.598172113138851,
          8.727602243025927,
          8.034564683087766,
          6.002600300914999,
          5.023342157908914,
          8.144313359276765,
          6.203559047975659,
          6.145311945161886,
          4.540762766702478,
          8.715100801253406,
          6.001136693853681,
          5.306150544520214,
          2.9714753182677143,
          7.446752045136066,
          4.984758384753405,
          4.825697526276393,
          2.786584082356555,
          6.983579755593944,
          4.856972411654539,
          5.041898259552482,
          2.8215545874616907,
          7.22416017042174,
          4.309907731473494,
          4.573893220388754,
          2.830006674272447,
          6.9373857772874175,
          4.950753897065354,
          5.693727901514052,
          3.472459391172123,
          7.0405831995169805,
          5.209967883144991,
          5.406821367832194,
          2.6630378828291015,
          6.873232567484742,
          5.559784872107727,
          8.190087353064875,
          6.451745654141206,
          7.805592381378837,
          5.156062011929471,
          7.459297472343707,
          6.374823279665186,
          8.162206738787283,
          4.31431240163095,
          6.9978222608400245,
          5.4549283648605424,
          6.613648267198293,
          2.5531779360109326,
          4.957501013856508,
          3.3674854345348066,
          4.508583752196969,
          2.113599169374119,
          4.590576673097615,
          3.077038405981895,
          4.661849866626383,
          -0.2534845737157809,
          2.643806607664132,
          1.0274500362691157,
          2.814107510657635,
          -1.508560335875572,
          1.9821694333595872,
          0.4687721955421722,
          2.541551124717401,
          -1.497451523035437,
          1.3721162492181236,
          1.0236220759907155e-8,
          2.266371721658075,
          -0.7876541635644827,
          2.014677628881145,
          0.4848430351921138,
          2.0695284454229324,
          1.1732216648072438,
          3.255699644415273,
          1.4319634642179295,
          1.86119364367552,
          -1.9776606251880082,
          1.587569098137024,
          -2.2283729218988384,
          0.3619717149887407,
          -1.5686312237425852,
          1.16810181570294,
          -2.502726749144898,
          1.0453614895180579,
          -4.052297831410726,
          0.6175356660489939,
          -1.9637857584254732,
          -2.665133519597262,
          -3.64605992393426,
          -0.5369459393597396,
          -3.9515330974007696,
          -4.65819262878837,
          -7.905831012181366,
          -4.082568742116706,
          -7.184231004454531,
          -6.003687777466126,
          -12.636718551835912,
          -6.782999784452343,
          -4.453965746652429,
          -1.6343985333185458,
          -5.848494467073152,
          -3.6907087545788357,
          -2.451521932309163,
          -2.420581472969701,
          -4.663329614149788,
          -6.469271094848267,
          -6.169934573720852,
          -3.988668148608653,
          -5.446393802050466,
          -7.447619053581803,
          -6.291502248168797,
          -5.794534466148903,
          -7.755685196460789,
          -9.1602040359991,
          -8.081458880793107,
          -5.013130893267515,
          -9.192718982089232,
          -9.439913995879195,
          -6.58936840535884,
          -6.1204909468046225,
          -9.271450762751158,
          -11.103719779073089,
          -9.805799926979503,
          -8.653360551598468,
          -11.04952505405889,
          -12.11290784372055,
          -12.558106031612269,
          -11.198551781690753,
          -13.84191221577413,
          -13.64899424438073,
          -13.57921175778597,
          -10.224648247890528,
          -11.93432769406671,
          -14.799365956613258,
          -15.883324891225726,
          -12.577631993526126,
          -16.869992680753953,
          -17.9253058778923,
          -15.287140874710673,
          -12.442440804869662,
          -15.144802288200367,
          -19.158477981035958,
          -15.918618090775567,
          -14.305885216175056,
          -19.38896409396459,
          -13.30928507734319,
          -18.636212336475026,
          -16.905673985574154,
          -15.443612966581242,
          -16.810892060050605,
          -19.534847210841022,
          -20.304852826778287,
          -15.45189016064812,
          -17.350216868051618,
          -18.933191766805535,
          -19.10357621378978,
          -14.942267705821862,
          -15.846549695804612,
          -17.247634127848443,
          -18.973802295463287
         ],
         "yaxis": "y"
        },
        {
         "line": {
          "dash": "dash"
         },
         "name": "Temblor 2017",
         "type": "scatter",
         "x": [
          2017,
          2017
         ],
         "y": [
          -19.898755770242722,
          10.606320375917539
         ]
        }
       ],
       "layout": {
        "font": {
         "size": 15
        },
        "legend": {
         "orientation": "v",
         "title": {
          "text": ""
         },
         "tracegroupgap": 0,
         "x": 0.8,
         "y": 1
        },
        "margin": {
         "t": 60
        },
        "shapes": [
         {
          "type": "line",
          "x0": 0,
          "x1": 1,
          "xref": "x domain",
          "y0": 0,
          "y1": 0,
          "yref": "y"
         }
        ],
        "template": {
         "data": {
          "bar": [
           {
            "error_x": {
             "color": "#2a3f5f"
            },
            "error_y": {
             "color": "#2a3f5f"
            },
            "marker": {
             "line": {
              "color": "white",
              "width": 0.5
             },
             "pattern": {
              "fillmode": "overlay",
              "size": 10,
              "solidity": 0.2
             }
            },
            "type": "bar"
           }
          ],
          "barpolar": [
           {
            "marker": {
             "line": {
              "color": "white",
              "width": 0.5
             },
             "pattern": {
              "fillmode": "overlay",
              "size": 10,
              "solidity": 0.2
             }
            },
            "type": "barpolar"
           }
          ],
          "carpet": [
           {
            "aaxis": {
             "endlinecolor": "#2a3f5f",
             "gridcolor": "#C8D4E3",
             "linecolor": "#C8D4E3",
             "minorgridcolor": "#C8D4E3",
             "startlinecolor": "#2a3f5f"
            },
            "baxis": {
             "endlinecolor": "#2a3f5f",
             "gridcolor": "#C8D4E3",
             "linecolor": "#C8D4E3",
             "minorgridcolor": "#C8D4E3",
             "startlinecolor": "#2a3f5f"
            },
            "type": "carpet"
           }
          ],
          "choropleth": [
           {
            "colorbar": {
             "outlinewidth": 0,
             "ticks": ""
            },
            "type": "choropleth"
           }
          ],
          "contour": [
           {
            "colorbar": {
             "outlinewidth": 0,
             "ticks": ""
            },
            "colorscale": [
             [
              0,
              "#0d0887"
             ],
             [
              0.1111111111111111,
              "#46039f"
             ],
             [
              0.2222222222222222,
              "#7201a8"
             ],
             [
              0.3333333333333333,
              "#9c179e"
             ],
             [
              0.4444444444444444,
              "#bd3786"
             ],
             [
              0.5555555555555556,
              "#d8576b"
             ],
             [
              0.6666666666666666,
              "#ed7953"
             ],
             [
              0.7777777777777778,
              "#fb9f3a"
             ],
             [
              0.8888888888888888,
              "#fdca26"
             ],
             [
              1,
              "#f0f921"
             ]
            ],
            "type": "contour"
           }
          ],
          "contourcarpet": [
           {
            "colorbar": {
             "outlinewidth": 0,
             "ticks": ""
            },
            "type": "contourcarpet"
           }
          ],
          "heatmap": [
           {
            "colorbar": {
             "outlinewidth": 0,
             "ticks": ""
            },
            "colorscale": [
             [
              0,
              "#0d0887"
             ],
             [
              0.1111111111111111,
              "#46039f"
             ],
             [
              0.2222222222222222,
              "#7201a8"
             ],
             [
              0.3333333333333333,
              "#9c179e"
             ],
             [
              0.4444444444444444,
              "#bd3786"
             ],
             [
              0.5555555555555556,
              "#d8576b"
             ],
             [
              0.6666666666666666,
              "#ed7953"
             ],
             [
              0.7777777777777778,
              "#fb9f3a"
             ],
             [
              0.8888888888888888,
              "#fdca26"
             ],
             [
              1,
              "#f0f921"
             ]
            ],
            "type": "heatmap"
           }
          ],
          "heatmapgl": [
           {
            "colorbar": {
             "outlinewidth": 0,
             "ticks": ""
            },
            "colorscale": [
             [
              0,
              "#0d0887"
             ],
             [
              0.1111111111111111,
              "#46039f"
             ],
             [
              0.2222222222222222,
              "#7201a8"
             ],
             [
              0.3333333333333333,
              "#9c179e"
             ],
             [
              0.4444444444444444,
              "#bd3786"
             ],
             [
              0.5555555555555556,
              "#d8576b"
             ],
             [
              0.6666666666666666,
              "#ed7953"
             ],
             [
              0.7777777777777778,
              "#fb9f3a"
             ],
             [
              0.8888888888888888,
              "#fdca26"
             ],
             [
              1,
              "#f0f921"
             ]
            ],
            "type": "heatmapgl"
           }
          ],
          "histogram": [
           {
            "marker": {
             "pattern": {
              "fillmode": "overlay",
              "size": 10,
              "solidity": 0.2
             }
            },
            "type": "histogram"
           }
          ],
          "histogram2d": [
           {
            "colorbar": {
             "outlinewidth": 0,
             "ticks": ""
            },
            "colorscale": [
             [
              0,
              "#0d0887"
             ],
             [
              0.1111111111111111,
              "#46039f"
             ],
             [
              0.2222222222222222,
              "#7201a8"
             ],
             [
              0.3333333333333333,
              "#9c179e"
             ],
             [
              0.4444444444444444,
              "#bd3786"
             ],
             [
              0.5555555555555556,
              "#d8576b"
             ],
             [
              0.6666666666666666,
              "#ed7953"
             ],
             [
              0.7777777777777778,
              "#fb9f3a"
             ],
             [
              0.8888888888888888,
              "#fdca26"
             ],
             [
              1,
              "#f0f921"
             ]
            ],
            "type": "histogram2d"
           }
          ],
          "histogram2dcontour": [
           {
            "colorbar": {
             "outlinewidth": 0,
             "ticks": ""
            },
            "colorscale": [
             [
              0,
              "#0d0887"
             ],
             [
              0.1111111111111111,
              "#46039f"
             ],
             [
              0.2222222222222222,
              "#7201a8"
             ],
             [
              0.3333333333333333,
              "#9c179e"
             ],
             [
              0.4444444444444444,
              "#bd3786"
             ],
             [
              0.5555555555555556,
              "#d8576b"
             ],
             [
              0.6666666666666666,
              "#ed7953"
             ],
             [
              0.7777777777777778,
              "#fb9f3a"
             ],
             [
              0.8888888888888888,
              "#fdca26"
             ],
             [
              1,
              "#f0f921"
             ]
            ],
            "type": "histogram2dcontour"
           }
          ],
          "mesh3d": [
           {
            "colorbar": {
             "outlinewidth": 0,
             "ticks": ""
            },
            "type": "mesh3d"
           }
          ],
          "parcoords": [
           {
            "line": {
             "colorbar": {
              "outlinewidth": 0,
              "ticks": ""
             }
            },
            "type": "parcoords"
           }
          ],
          "pie": [
           {
            "automargin": true,
            "type": "pie"
           }
          ],
          "scatter": [
           {
            "fillpattern": {
             "fillmode": "overlay",
             "size": 10,
             "solidity": 0.2
            },
            "type": "scatter"
           }
          ],
          "scatter3d": [
           {
            "line": {
             "colorbar": {
              "outlinewidth": 0,
              "ticks": ""
             }
            },
            "marker": {
             "colorbar": {
              "outlinewidth": 0,
              "ticks": ""
             }
            },
            "type": "scatter3d"
           }
          ],
          "scattercarpet": [
           {
            "marker": {
             "colorbar": {
              "outlinewidth": 0,
              "ticks": ""
             }
            },
            "type": "scattercarpet"
           }
          ],
          "scattergeo": [
           {
            "marker": {
             "colorbar": {
              "outlinewidth": 0,
              "ticks": ""
             }
            },
            "type": "scattergeo"
           }
          ],
          "scattergl": [
           {
            "marker": {
             "colorbar": {
              "outlinewidth": 0,
              "ticks": ""
             }
            },
            "type": "scattergl"
           }
          ],
          "scattermapbox": [
           {
            "marker": {
             "colorbar": {
              "outlinewidth": 0,
              "ticks": ""
             }
            },
            "type": "scattermapbox"
           }
          ],
          "scatterpolar": [
           {
            "marker": {
             "colorbar": {
              "outlinewidth": 0,
              "ticks": ""
             }
            },
            "type": "scatterpolar"
           }
          ],
          "scatterpolargl": [
           {
            "marker": {
             "colorbar": {
              "outlinewidth": 0,
              "ticks": ""
             }
            },
            "type": "scatterpolargl"
           }
          ],
          "scatterternary": [
           {
            "marker": {
             "colorbar": {
              "outlinewidth": 0,
              "ticks": ""
             }
            },
            "type": "scatterternary"
           }
          ],
          "surface": [
           {
            "colorbar": {
             "outlinewidth": 0,
             "ticks": ""
            },
            "colorscale": [
             [
              0,
              "#0d0887"
             ],
             [
              0.1111111111111111,
              "#46039f"
             ],
             [
              0.2222222222222222,
              "#7201a8"
             ],
             [
              0.3333333333333333,
              "#9c179e"
             ],
             [
              0.4444444444444444,
              "#bd3786"
             ],
             [
              0.5555555555555556,
              "#d8576b"
             ],
             [
              0.6666666666666666,
              "#ed7953"
             ],
             [
              0.7777777777777778,
              "#fb9f3a"
             ],
             [
              0.8888888888888888,
              "#fdca26"
             ],
             [
              1,
              "#f0f921"
             ]
            ],
            "type": "surface"
           }
          ],
          "table": [
           {
            "cells": {
             "fill": {
              "color": "#EBF0F8"
             },
             "line": {
              "color": "white"
             }
            },
            "header": {
             "fill": {
              "color": "#C8D4E3"
             },
             "line": {
              "color": "white"
             }
            },
            "type": "table"
           }
          ]
         },
         "layout": {
          "annotationdefaults": {
           "arrowcolor": "#2a3f5f",
           "arrowhead": 0,
           "arrowwidth": 1
          },
          "autotypenumbers": "strict",
          "coloraxis": {
           "colorbar": {
            "outlinewidth": 0,
            "ticks": ""
           }
          },
          "colorscale": {
           "diverging": [
            [
             0,
             "#8e0152"
            ],
            [
             0.1,
             "#c51b7d"
            ],
            [
             0.2,
             "#de77ae"
            ],
            [
             0.3,
             "#f1b6da"
            ],
            [
             0.4,
             "#fde0ef"
            ],
            [
             0.5,
             "#f7f7f7"
            ],
            [
             0.6,
             "#e6f5d0"
            ],
            [
             0.7,
             "#b8e186"
            ],
            [
             0.8,
             "#7fbc41"
            ],
            [
             0.9,
             "#4d9221"
            ],
            [
             1,
             "#276419"
            ]
           ],
           "sequential": [
            [
             0,
             "#0d0887"
            ],
            [
             0.1111111111111111,
             "#46039f"
            ],
            [
             0.2222222222222222,
             "#7201a8"
            ],
            [
             0.3333333333333333,
             "#9c179e"
            ],
            [
             0.4444444444444444,
             "#bd3786"
            ],
            [
             0.5555555555555556,
             "#d8576b"
            ],
            [
             0.6666666666666666,
             "#ed7953"
            ],
            [
             0.7777777777777778,
             "#fb9f3a"
            ],
            [
             0.8888888888888888,
             "#fdca26"
            ],
            [
             1,
             "#f0f921"
            ]
           ],
           "sequentialminus": [
            [
             0,
             "#0d0887"
            ],
            [
             0.1111111111111111,
             "#46039f"
            ],
            [
             0.2222222222222222,
             "#7201a8"
            ],
            [
             0.3333333333333333,
             "#9c179e"
            ],
            [
             0.4444444444444444,
             "#bd3786"
            ],
            [
             0.5555555555555556,
             "#d8576b"
            ],
            [
             0.6666666666666666,
             "#ed7953"
            ],
            [
             0.7777777777777778,
             "#fb9f3a"
            ],
            [
             0.8888888888888888,
             "#fdca26"
            ],
            [
             1,
             "#f0f921"
            ]
           ]
          },
          "colorway": [
           "#636efa",
           "#EF553B",
           "#00cc96",
           "#ab63fa",
           "#FFA15A",
           "#19d3f3",
           "#FF6692",
           "#B6E880",
           "#FF97FF",
           "#FECB52"
          ],
          "font": {
           "color": "#2a3f5f"
          },
          "geo": {
           "bgcolor": "white",
           "lakecolor": "white",
           "landcolor": "white",
           "showlakes": true,
           "showland": true,
           "subunitcolor": "#C8D4E3"
          },
          "hoverlabel": {
           "align": "left"
          },
          "hovermode": "closest",
          "mapbox": {
           "style": "light"
          },
          "paper_bgcolor": "white",
          "plot_bgcolor": "white",
          "polar": {
           "angularaxis": {
            "gridcolor": "#EBF0F8",
            "linecolor": "#EBF0F8",
            "ticks": ""
           },
           "bgcolor": "white",
           "radialaxis": {
            "gridcolor": "#EBF0F8",
            "linecolor": "#EBF0F8",
            "ticks": ""
           }
          },
          "scene": {
           "xaxis": {
            "backgroundcolor": "white",
            "gridcolor": "#DFE8F3",
            "gridwidth": 2,
            "linecolor": "#EBF0F8",
            "showbackground": true,
            "ticks": "",
            "zerolinecolor": "#EBF0F8"
           },
           "yaxis": {
            "backgroundcolor": "white",
            "gridcolor": "#DFE8F3",
            "gridwidth": 2,
            "linecolor": "#EBF0F8",
            "showbackground": true,
            "ticks": "",
            "zerolinecolor": "#EBF0F8"
           },
           "zaxis": {
            "backgroundcolor": "white",
            "gridcolor": "#DFE8F3",
            "gridwidth": 2,
            "linecolor": "#EBF0F8",
            "showbackground": true,
            "ticks": "",
            "zerolinecolor": "#EBF0F8"
           }
          },
          "shapedefaults": {
           "line": {
            "color": "#2a3f5f"
           }
          },
          "ternary": {
           "aaxis": {
            "gridcolor": "#DFE8F3",
            "linecolor": "#A2B1C6",
            "ticks": ""
           },
           "baxis": {
            "gridcolor": "#DFE8F3",
            "linecolor": "#A2B1C6",
            "ticks": ""
           },
           "bgcolor": "white",
           "caxis": {
            "gridcolor": "#DFE8F3",
            "linecolor": "#A2B1C6",
            "ticks": ""
           }
          },
          "title": {
           "x": 0.05
          },
          "xaxis": {
           "automargin": true,
           "gridcolor": "#EBF0F8",
           "linecolor": "#EBF0F8",
           "ticks": "",
           "title": {
            "standoff": 15
           },
           "zerolinecolor": "#EBF0F8",
           "zerolinewidth": 2
          },
          "yaxis": {
           "automargin": true,
           "gridcolor": "#EBF0F8",
           "linecolor": "#EBF0F8",
           "ticks": "",
           "title": {
            "standoff": 15
           },
           "zerolinecolor": "#EBF0F8",
           "zerolinewidth": 2
          }
         }
        },
        "title": {
         "text": "Difference across time",
         "x": 0.5,
         "y": 0.95
        },
        "xaxis": {
         "anchor": "y",
         "domain": [
          0,
          1
         ],
         "title": {
          "text": "Año"
         }
        },
        "yaxis": {
         "anchor": "x",
         "domain": [
          0,
          1
         ],
         "title": {
          "text": "Diferencia entre IAET"
         }
        }
       }
      }
     },
     "metadata": {},
     "output_type": "display_data"
    }
   ],
   "source": [
    " #Fig - Difference across time\n",
    "\n",
    "resultado['Temblor del 2017'] = resultado.Observado - resultado.Synthetic\n",
    "\n",
    "fig = px.line( data_frame = resultado, \n",
    "               x = \"Año\", y = \"Temblor del 2017\", \n",
    "               template = \"plotly_white\",)\n",
    "\n",
    "fig.add_hline(0)\n",
    "\n",
    "fig.add_trace( pgo.Scatter( \n",
    "               x = [ 2017, 2017 ], \n",
    "               y = [resultado[\"Temblor del 2017\"].min()*0.98, resultado[\"Temblor del 2017\"].max()*1.02], \n",
    "               line = { 'dash': 'dash', }, name='Temblor 2017' ))\n",
    "\n",
    "fig.update_layout( title = { 'text':\"Difference across time\", \n",
    "                             'y':0.95, 'x':0.5, },\n",
    "                             legend =  dict(y = 1, x = 0.8, orientation = 'v'),\n",
    "                             legend_title = \"\",\n",
    "                             xaxis_title = \"Año\", \n",
    "                             yaxis_title = \"Diferencia entre IAET\",\n",
    "                             font = dict( size = 15 ))\n",
    "\n",
    "fig.show()"
   ]
  },
  {
   "cell_type": "code",
   "execution_count": 46,
   "metadata": {},
   "outputs": [
    {
     "name": "stdout",
     "output_type": "stream",
     "text": [
      "Efecto del temblor de 2017 w.r.t Synthetic Control en el primer mes de 2019 =>        -11.9 Indice\n"
     ]
    }
   ],
   "source": [
    "print( f\"Efecto del temblor de 2017 w.r.t Synthetic Control en el primer mes de 2019 => \\\n",
    "       {np.round(resultado.loc[resultado.Año == 2017.10, 'Temblor del 2017'].values[0],1)} Indice\")"
   ]
  }
 ],
 "metadata": {
  "kernelspec": {
   "display_name": "base",
   "language": "python",
   "name": "python3"
  },
  "language_info": {
   "codemirror_mode": {
    "name": "ipython",
    "version": 3
   },
   "file_extension": ".py",
   "mimetype": "text/x-python",
   "name": "python",
   "nbconvert_exporter": "python",
   "pygments_lexer": "ipython3",
   "version": "3.11.7"
  }
 },
 "nbformat": 4,
 "nbformat_minor": 2
}
